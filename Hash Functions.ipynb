{
 "cells": [
  {
   "cell_type": "markdown",
   "metadata": {},
   "source": [
    "# Some Tests with Hash Functions"
   ]
  },
  {
   "cell_type": "code",
   "execution_count": 1,
   "metadata": {},
   "outputs": [],
   "source": [
    "from binascii import hexlify\n",
    "from os import urandom\n",
    "from hashlib import sha256, shake_128\n",
    "import numpy as np\n",
    "import matplotlib.pyplot as plt"
   ]
  },
  {
   "cell_type": "markdown",
   "metadata": {},
   "source": [
    "# Example 1"
   ]
  },
  {
   "cell_type": "markdown",
   "metadata": {},
   "source": [
    "Let's hash an ASCII string with SHA256. Print the output will as a hexadecimal string"
   ]
  },
  {
   "cell_type": "code",
   "execution_count": 2,
   "metadata": {},
   "outputs": [
    {
     "data": {
      "text/plain": [
       "'3f0a377ba0a4a460ecb616f6507ce0d8cfa3e704025d4fda3ed0c5ca05468728'"
      ]
     },
     "execution_count": 2,
     "metadata": {},
     "output_type": "execute_result"
    }
   ],
   "source": [
    "x = b\"test message\"\n",
    "y = sha256(x).hexdigest()\n",
    "y"
   ]
  },
  {
   "cell_type": "markdown",
   "metadata": {},
   "source": [
    "# Example 2"
   ]
  },
  {
   "cell_type": "markdown",
   "metadata": {},
   "source": [
    "Consider the hash SHAKE128 with output 16 bits. Generate a random digest and find a preimage. Print the number of attempts."
   ]
  },
  {
   "cell_type": "code",
   "execution_count": 3,
   "metadata": {},
   "outputs": [
    {
     "name": "stdout",
     "output_type": "stream",
     "text": [
      "Attempt #180184\n",
      "Preimage is b'cee72429109d2905'\n"
     ]
    }
   ],
   "source": [
    "DIGESTSIZE = 2\n",
    "\n",
    "# Define a hash function h with output size DIGESTSIZE bytes \n",
    "h = lambda x: shake_128(x).digest(DIGESTSIZE)\n",
    "\n",
    "# y is the target\n",
    "y = urandom(DIGESTSIZE)\n",
    "\n",
    "i = 1\n",
    "while True:\n",
    "    # Generate a random 64 bit input\n",
    "    xp = urandom(8)\n",
    "    yp = h(xp)\n",
    "    if (yp == y):\n",
    "        print(\"Attempt #{}\".format(i) )\n",
    "        print(\"Preimage is {}\".format(hexlify(xp)) )\n",
    "        break\n",
    "    i = i + 1"
   ]
  },
  {
   "cell_type": "markdown",
   "metadata": {},
   "source": [
    "# Example 3"
   ]
  },
  {
   "cell_type": "markdown",
   "metadata": {},
   "source": [
    "Find, empirically, the average number of attempts to find a preimage to SHAKE128 with output 8 bits"
   ]
  },
  {
   "cell_type": "code",
   "execution_count": 4,
   "metadata": {},
   "outputs": [
    {
     "data": {
      "text/plain": [
       "247.723"
      ]
     },
     "execution_count": 4,
     "metadata": {},
     "output_type": "execute_result"
    }
   ],
   "source": [
    "DIGESTSIZE = 1\n",
    "h = lambda x: shake_128(x).digest(DIGESTSIZE)\n",
    "\n",
    "def simulate():\n",
    "    i = 1\n",
    "    while True:\n",
    "        y = urandom(DIGESTSIZE)\n",
    "        # Generate a random 64 bit input\n",
    "        xp = urandom(8)\n",
    "        yp = h(xp)\n",
    "        if (yp == y):\n",
    "            return(i)\n",
    "        i = i + 1\n",
    "\n",
    "simulations = [simulate() for i in range(1000)]\n",
    "\n",
    "np.mean(simulations)"
   ]
  },
  {
   "cell_type": "code",
   "execution_count": 7,
   "metadata": {},
   "outputs": [
    {
     "data": {
      "text/plain": [
       "Text(0, 0.5, 'Occurrences attempts')"
      ]
     },
     "execution_count": 7,
     "metadata": {},
     "output_type": "execute_result"
    },
    {
     "data": {
      "image/png": "[encoded data removed]",
      "text/plain": [
       "<Figure size 640x480 with 1 Axes>"
      ]
     },
     "metadata": {},
     "output_type": "display_data"
    }
   ],
   "source": [
    "plt.hist(simulations,32);\n",
    "plt.xlabel('Number of attempts')\n",
    "plt.ylabel('Occurrences')"
   ]
  },
  {
   "cell_type": "markdown",
   "metadata": {},
   "source": [
    "# Example 4"
   ]
  },
  {
   "cell_type": "markdown",
   "metadata": {},
   "source": [
    "Find the empirical probability of finding a second preimage with $q=100$ attempts  "
   ]
  },
  {
   "cell_type": "code",
   "execution_count": 8,
   "metadata": {},
   "outputs": [
    {
     "name": "stdout",
     "output_type": "stream",
     "text": [
      "Simulations: p=0.3234\n",
      "Theory: p=0.390625\n"
     ]
    }
   ],
   "source": [
    "DIGESTSIZE = 1\n",
    "# attempts\n",
    "q = 100\n",
    "# number of simulations\n",
    "num_simulations = 10000\n",
    "\n",
    "h = lambda x: shake_128(x).digest(DIGESTSIZE)\n",
    "\n",
    "def simulate(message,attempts):\n",
    "    y = h(message)\n",
    "    for i in range(attempts):\n",
    "        xp = urandom(8)\n",
    "        yp = h(xp)\n",
    "        if (yp == y):\n",
    "            return(1)\n",
    "    return(0)\n",
    "\n",
    "# generate many random messages\n",
    "messages = [urandom(8) for i in range(num_simulations)]\n",
    "\n",
    "# simulate finding a second preimage\n",
    "simulations = [ simulate(m,q) for m in messages]\n",
    "\n",
    "# result\n",
    "p_succ = (sum(simulations)) / num_simulations\n",
    "p_theory = q / pow(2,DIGESTSIZE * 8)\n",
    "\n",
    "print(\"Simulations: p={}\".format(p_succ))\n",
    "print(\"Theory: p={}\".format(p_theory))"
   ]
  },
  {
   "cell_type": "markdown",
   "metadata": {},
   "source": [
    "# Example 5"
   ]
  },
  {
   "cell_type": "markdown",
   "metadata": {},
   "source": [
    "Find the empirical probability of finding a collision with  q=30  attempts.\n",
    "Use a 16-bit hash function"
   ]
  },
  {
   "cell_type": "code",
   "execution_count": 10,
   "metadata": {},
   "outputs": [
    {
     "name": "stdout",
     "output_type": "stream",
     "text": [
      "Simulations: p=0.0083\n",
      "Theory: p=0.006842934839798032\n"
     ]
    }
   ],
   "source": [
    "DIGESTSIZE = 2\n",
    "# attempts\n",
    "q = 30\n",
    "# number of simulations\n",
    "num_simulations = 10000\n",
    "\n",
    "h = lambda x: shake_128(x).digest(DIGESTSIZE)\n",
    "\n",
    "def simulate(attempts):\n",
    "    calculated_hashes = set()\n",
    "    for i in range(attempts):\n",
    "        xp = urandom(8)\n",
    "        yp = h(xp)\n",
    "        if (yp in calculated_hashes):\n",
    "            return(1)\n",
    "        calculated_hashes.add(yp)\n",
    "    return(0)\n",
    "\n",
    "# simulate finding a collision\n",
    "simulations = [ simulate(q) for i in range(num_simulations)]\n",
    "# result\n",
    "p_succ = (sum(simulations)) / num_simulations\n",
    "p_theory = 1-np.exp(-q**2 / pow(2,DIGESTSIZE*8+1))\n",
    "\n",
    "print(\"Simulations: p={}\".format(p_succ))\n",
    "print(\"Theory: p={}\".format(p_theory))"
   ]
  },
  {
   "cell_type": "markdown",
   "metadata": {},
   "source": [
    "# Lab Work\n",
    "\n",
    "Work in pairs. One is Alice, one is Bob.\n",
    "\n",
    "Alice generates a random input and sends it to Bob. Bob finds a second preimage and sends it to Alice.\n",
    "Alice verifies that the second preimage is correct.\n",
    "\n",
    "How many attempts did Bob make?"
   ]
  },
  {
   "cell_type": "code",
   "execution_count": null,
   "metadata": {},
   "outputs": [],
   "source": []
  }
 ],
 "metadata": {
  "anaconda-cloud": {},
  "kernelspec": {
   "display_name": "Python 3 (ipykernel)",
   "language": "python",
   "name": "python3"
  },
  "language_info": {
   "codemirror_mode": {
    "name": "ipython",
    "version": 3
   },
   "file_extension": ".py",
   "mimetype": "text/x-python",
   "name": "python",
   "nbconvert_exporter": "python",
   "pygments_lexer": "ipython3",
   "version": "3.9.7"
  }
 },
 "nbformat": 4,
 "nbformat_minor": 2
}
