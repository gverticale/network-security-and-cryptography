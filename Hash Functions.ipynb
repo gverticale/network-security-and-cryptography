{
 "cells": [
  {
   "cell_type": "code",
   "execution_count": 2,
   "metadata": {},
   "outputs": [],
   "source": [
    "from binascii import hexlify\n",
    "import hashlib\n",
    "import random"
   ]
  },
  {
   "cell_type": "markdown",
   "metadata": {},
   "source": [
    "We will use SHA-224"
   ]
  },
  {
   "cell_type": "code",
   "execution_count": 3,
   "metadata": {},
   "outputs": [],
   "source": [
    "h = hashlib.sha224"
   ]
  },
  {
   "cell_type": "markdown",
   "metadata": {},
   "source": [
    "Let's has an ASCII string. We will print the output will as a hexadecimal string"
   ]
  },
  {
   "cell_type": "code",
   "execution_count": 9,
   "metadata": {},
   "outputs": [
    {
     "data": {
      "text/plain": [
       "'a7d719e1268444c7f6fae4d48645b422a492f6f8e46b667a6b3b6464'"
      ]
     },
     "execution_count": 9,
     "metadata": {},
     "output_type": "execute_result"
    }
   ],
   "source": [
    "x = b\"test message\"\n",
    "y = h(x)\n",
    "y.hexdigest()"
   ]
  },
  {
   "cell_type": "code",
   "execution_count": 17,
   "metadata": {},
   "outputs": [],
   "source": [
    "# generate a random string of n bytes\n",
    "def random_bytes(n):\n",
    "    return bytearray(random.getrandbits(8) for i in range(n))"
   ]
  },
  {
   "cell_type": "markdown",
   "metadata": {},
   "source": [
    "The following function returns the first $n$ bytes of a hash function"
   ]
  },
  {
   "cell_type": "code",
   "execution_count": 12,
   "metadata": {},
   "outputs": [],
   "source": [
    "# calculate a truncated hash to n bytes\n",
    "def truncated_hash(hashfun,n,x):\n",
    "    y = hashfun(x)\n",
    "    return y.digest()[0:n]"
   ]
  },
  {
   "cell_type": "code",
   "execution_count": 27,
   "metadata": {},
   "outputs": [],
   "source": [
    "# return a function that calculates a truncated hash:\n",
    "def truncated_hash_fun(hashfun,n):\n",
    "    def h(x):\n",
    "        return truncated_hash(hashfun,n,x)\n",
    "    return h"
   ]
  },
  {
   "cell_type": "markdown",
   "metadata": {},
   "source": [
    "The following function tries to find a preimage using brute force."
   ]
  },
  {
   "cell_type": "code",
   "execution_count": 22,
   "metadata": {},
   "outputs": [],
   "source": [
    "# find preimage of truncated hash using brute force\n",
    "# the size of the input (512 bits) is arbitrary\n",
    "def find_preimage(h,y,attempts):\n",
    "    for i in range(attempts):\n",
    "        x = random_bytes(64)\n",
    "        if y == h(x):\n",
    "            return x\n",
    "    return None"
   ]
  },
  {
   "cell_type": "markdown",
   "metadata": {},
   "source": [
    "Consider a hash function with output size 16 bits. Let's find the preimage for the value 000...0000"
   ]
  },
  {
   "cell_type": "code",
   "execution_count": 46,
   "metadata": {},
   "outputs": [
    {
     "name": "stdout",
     "output_type": "stream",
     "text": [
      "The preimage is  5de6eea729485744bb7a6d2f3487fd7ffbf68af85ea8d1dd5ab077f04d3fa7ec2677f9549bfc9c19612e58eaf0763550d7f5db9c2552ba81b40e8a2b0f2d82bf\n"
     ]
    }
   ],
   "source": [
    "y = b'00'\n",
    "n = len(y)\n",
    "h_n = truncated_hash_fun(h,n)\n",
    "x = find_preimage(h_n,y,1000000) \n",
    "if x is not None:\n",
    "    print(\"The preimage is \",x.hex())\n",
    "else:\n",
    "    print(\"Preimage not found\")"
   ]
  },
  {
   "cell_type": "markdown",
   "metadata": {},
   "source": [
    "Calculate the probability of finding a preimage of size $n$ bytes"
   ]
  },
  {
   "cell_type": "code",
   "execution_count": 47,
   "metadata": {},
   "outputs": [],
   "source": [
    "def probability_finding_preimage(n, attempts):\n",
    "    # number of trials is arbitrary, it should be large enough to actually see several successes\n",
    "    trials = 1000\n",
    "    success = 0\n",
    "    h_n = truncated_hash_fun(h,n)\n",
    "    y = random_bytes(n)\n",
    "    for i in range(trials):\n",
    "        if ( find_preimage(h_n,y,attempts) is not None ):\n",
    "            success = success + 1\n",
    "    return success/trials"
   ]
  },
  {
   "cell_type": "code",
   "execution_count": 58,
   "metadata": {},
   "outputs": [],
   "source": [
    "def theoretical_preimage(n, attempts):\n",
    "    return 1-pow( 1-1.0/pow(2,8*n), attempts)"
   ]
  },
  {
   "cell_type": "markdown",
   "metadata": {},
   "source": [
    "Try with $n=16$ bit and $q=1000$ attempts"
   ]
  },
  {
   "cell_type": "code",
   "execution_count": 59,
   "metadata": {},
   "outputs": [
    {
     "name": "stdout",
     "output_type": "stream",
     "text": [
      "theory:  0.0151430782613492\n",
      "measured:  0.0110000000000000\n"
     ]
    }
   ],
   "source": [
    "n = 2\n",
    "attempts = 1000\n",
    "print (\"theory: \", theoretical_preimage(n, attempts))\n",
    "# print (\"theory: \", attempts/pow(2,8*len(preimage)))\n",
    "print (\"measured: \",1.0*probability_finding_preimage(n,attempts))"
   ]
  },
  {
   "cell_type": "markdown",
   "metadata": {},
   "source": [
    "Let's plot a picture for $n=8$ bit"
   ]
  },
  {
   "cell_type": "code",
   "execution_count": 71,
   "metadata": {},
   "outputs": [
    {
     "data": {
      "image/png": "[encoded data removed]",
      "text/plain": [
       "Graphics object consisting of 2 graphics primitives"
      ]
     },
     "execution_count": 71,
     "metadata": {},
     "output_type": "execute_result"
    }
   ],
   "source": [
    "n = 1\n",
    "theoretical_data = [ (2^la, theoretical_preimage(n, 2^la) ) for la in range(10) ]\n",
    "simulation = [ (2^la, 1.0*probability_finding_preimage(n, 2^la) ) for la in range(10) ]\n",
    "sum([\n",
    "    list_plot(theoretical_data, scale='loglog', plotjoined=True),\n",
    "    list_plot(simulation, scale='loglog',color='red',marker='v')\n",
    "])"
   ]
  },
  {
   "cell_type": "markdown",
   "metadata": {},
   "source": [
    "Now we try to find collisions"
   ]
  },
  {
   "cell_type": "code",
   "execution_count": 72,
   "metadata": {},
   "outputs": [],
   "source": [
    "def find_collision(h,attempts):\n",
    "    dictionary = {}\n",
    "    for i in range(attempts):\n",
    "        x = random_bytes(64)\n",
    "        y = h(x)\n",
    "        if y in dictionary:\n",
    "            return (dictionary[y],x)\n",
    "        else:\n",
    "            dictionary[y]=x\n",
    "    return None"
   ]
  },
  {
   "cell_type": "code",
   "execution_count": 73,
   "metadata": {},
   "outputs": [],
   "source": [
    "def probability_finding_collision(n,attempts):\n",
    "    trials = 1000\n",
    "    success = 0\n",
    "    h_n = truncated_hash_fun(h,n)\n",
    "    for i in range(trials):\n",
    "        if ( find_collision(h_n,attempts) is not None ):\n",
    "            success = success + 1\n",
    "    return success/trials"
   ]
  },
  {
   "cell_type": "code",
   "execution_count": 86,
   "metadata": {},
   "outputs": [],
   "source": [
    "def theoretical_collision(n,attempts):\n",
    "    return 1-1*exp( -(attempts*(attempts-1.0)/pow(2,8*n+1) )) "
   ]
  },
  {
   "cell_type": "code",
   "execution_count": 87,
   "metadata": {},
   "outputs": [
    {
     "name": "stdout",
     "output_type": "stream",
     "text": [
      "theory:  0.999510323278542\n",
      "measured:  1.00000000000000\n"
     ]
    }
   ],
   "source": [
    "n = 2\n",
    "attempts = 1000\n",
    "print (\"theory: \", theoretical_collision(n,attempts) )\n",
    "#print (\"theory: \", n(attempts*attempts/pow(2,8*hash_len+1)))\n",
    "print (\"measured: \",1.0*probability_finding_collision(n,attempts))"
   ]
  },
  {
   "cell_type": "code",
   "execution_count": 89,
   "metadata": {},
   "outputs": [
    {
     "data": {
      "image/png": "[encoded data removed]",
      "text/plain": [
       "Graphics object consisting of 2 graphics primitives"
      ]
     },
     "execution_count": 89,
     "metadata": {},
     "output_type": "execute_result"
    }
   ],
   "source": [
    "n = 1\n",
    "theoretical_data = [ (2^la, theoretical_collision(n, 2^la) ) for la in range(2,10) ]\n",
    "simulation = [ (2^la, 1.0*probability_finding_collision(n, 2^la) ) for la in range(2,10) ]\n",
    "sum([\n",
    "    list_plot(theoretical_data, scale='loglog', plotjoined=True),\n",
    "    list_plot(simulation, scale='loglog',color='red',marker='v')\n",
    "])"
   ]
  },
  {
   "cell_type": "code",
   "execution_count": null,
   "metadata": {},
   "outputs": [],
   "source": []
  }
 ],
 "metadata": {
  "anaconda-cloud": {},
  "kernelspec": {
   "display_name": "SageMath 9.0",
   "language": "sage",
   "name": "sagemath"
  },
  "language_info": {
   "codemirror_mode": {
    "name": "ipython",
    "version": 3
   },
   "file_extension": ".py",
   "mimetype": "text/x-python",
   "name": "python",
   "nbconvert_exporter": "python",
   "pygments_lexer": "ipython3",
   "version": "3.7.3"
  }
 },
 "nbformat": 4,
 "nbformat_minor": 2
}
