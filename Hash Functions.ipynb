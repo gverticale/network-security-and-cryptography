{
 "cells": [
  {
   "cell_type": "markdown",
   "metadata": {},
   "source": [
    "# Some Tests with Hash Functions"
   ]
  },
  {
   "cell_type": "code",
   "execution_count": null,
   "metadata": {},
   "outputs": [],
   "source": [
    "from binascii import hexlify\n",
    "from os import urandom\n",
    "from hashlib import sha256, shake_128\n",
    "import numpy as np\n",
    "import matplotlib.pyplot as plt"
   ]
  },
  {
   "cell_type": "markdown",
   "metadata": {},
   "source": [
    "# Example 1"
   ]
  },
  {
   "cell_type": "markdown",
   "metadata": {},
   "source": [
    "Let's hash an ASCII string with SHA256. Print the output will as a hexadecimal string"
   ]
  },
  {
   "cell_type": "code",
   "execution_count": null,
   "metadata": {},
   "outputs": [],
   "source": [
    "x = b\"test message\"\n",
    "y = sha256(x).hexdigest()\n",
    "y"
   ]
  },
  {
   "cell_type": "markdown",
   "metadata": {},
   "source": [
    "# Example 2"
   ]
  },
  {
   "cell_type": "markdown",
   "metadata": {},
   "source": [
    "Consider the hash SHAKE128 with output 16 bits. Generate a random digest and find a preimage. Print the number of attempts."
   ]
  },
  {
   "cell_type": "code",
   "execution_count": null,
   "metadata": {},
   "outputs": [],
   "source": [
    "DIGESTSIZE = 2\n",
    "\n",
    "# Define a hash function h with output size DIGESTSIZE bytes \n",
    "h = lambda x: shake_128(xp).digest(DIGESTSIZE)\n",
    "\n",
    "# we use a counter as input\n",
    "i = 0\n",
    "\n",
    "y = urandom(DIGESTSIZE)\n",
    "\n",
    "# we break if this takes too long\n",
    "while i < 100000:\n",
    "    xp = i.to_bytes(8,'big')\n",
    "    yp = h(xp)\n",
    "    if (yp == y):\n",
    "        print(\"Attempt #{}\".format(i) )\n",
    "        print(\"Preimage is {}\".format(hexlify(xp)) )\n",
    "        break\n",
    "    i = int(i + 1)"
   ]
  },
  {
   "cell_type": "markdown",
   "metadata": {},
   "source": [
    "# Example 3"
   ]
  },
  {
   "cell_type": "markdown",
   "metadata": {},
   "source": [
    "Find, empirically, the average number of attempts to find a preimage to SHAKE128 with output 8 bits"
   ]
  },
  {
   "cell_type": "code",
   "execution_count": null,
   "metadata": {},
   "outputs": [],
   "source": [
    "def simulate(DIGESTSIZE):\n",
    "    i = 0\n",
    "    h = lambda x: shake_128(x).digest(DIGESTSIZE)\n",
    "    while True:\n",
    "        y = urandom(DIGESTSIZE)\n",
    "        xp = i.to_bytes(8,'big')\n",
    "        yp = h(xp)\n",
    "        if (yp == y):\n",
    "            return(i)\n",
    "        i = int(i + 1)"
   ]
  },
  {
   "cell_type": "code",
   "execution_count": null,
   "metadata": {},
   "outputs": [],
   "source": [
    "DIGESTSIZE = 1\n",
    "simulations = [simulate(DIGESTSIZE) for i in range(1000)]\n",
    "\n",
    "np.mean(simulations)"
   ]
  },
  {
   "cell_type": "code",
   "execution_count": null,
   "metadata": {},
   "outputs": [],
   "source": [
    "plt.hist(simulations,32);"
   ]
  },
  {
   "cell_type": "markdown",
   "metadata": {},
   "source": [
    "# Example 4"
   ]
  },
  {
   "cell_type": "markdown",
   "metadata": {},
   "source": [
    "Find the empirical probability of finding a second preimage with $q=100$ attempts  "
   ]
  },
  {
   "cell_type": "code",
   "execution_count": null,
   "metadata": {},
   "outputs": [],
   "source": [
    "def simulate2(message,DIGESTSIZE,attempts):\n",
    "    h = lambda x: shake_128(x).digest(DIGESTSIZE)\n",
    "    y = h(message)\n",
    "    for i in range(attempts):\n",
    "        xp = i.to_bytes(8,'big')\n",
    "        yp = h(xp)\n",
    "        if (yp == y):\n",
    "            return(1)\n",
    "    return(0)"
   ]
  },
  {
   "cell_type": "code",
   "execution_count": null,
   "metadata": {},
   "outputs": [],
   "source": [
    "q = 100\n",
    "num_simulations = 10000\n",
    "# generate many messages\n",
    "messages = [urandom(8) for i in range(num_simulations)]\n",
    "\n",
    "# simulate finding a second preimage\n",
    "simulations = [ simulate2(m,1,q) for m in messages]\n",
    "\n",
    "# result\n",
    "p_succ = (np.sum(simulations)) / num_simulations\n",
    "p_theory = q / 2**8\n",
    "\n",
    "print(\"Simulations: p={}\".format(p_succ))\n",
    "print(\"Theory: p={}\".format(p_theory))"
   ]
  },
  {
   "cell_type": "markdown",
   "metadata": {},
   "source": [
    "# Example 5"
   ]
  },
  {
   "cell_type": "markdown",
   "metadata": {},
   "source": [
    "Find the empirical probability of finding a collision with  q=30  attempts"
   ]
  },
  {
   "cell_type": "code",
   "execution_count": null,
   "metadata": {},
   "outputs": [],
   "source": [
    "def simulate3(DIGESTSIZE,attempts):\n",
    "    h = lambda x: shake_128(x).digest(DIGESTSIZE)\n",
    "    calculated_hashes = set()\n",
    "    for i in range(attempts):\n",
    "        xp = urandom(8)\n",
    "        yp = h(xp)\n",
    "        if (yp in calculated_hashes):\n",
    "            return(1)\n",
    "        calculated_hashes.add(yp)\n",
    "    return(0)"
   ]
  },
  {
   "cell_type": "code",
   "execution_count": null,
   "metadata": {},
   "outputs": [],
   "source": [
    "q = 30\n",
    "# simulate finding a second preimage\n",
    "simulations = [ simulate3(1,q) for m in messages]\n",
    "# result\n",
    "p_succ = (np.sum(simulations)) / num_simulations\n",
    "p_theory = 1-np.exp(-q**2 / 2**9)\n",
    "\n",
    "print(\"Simulations: p={}\".format(p_succ))\n",
    "print(\"Theory: p={}\".format(p_theory))"
   ]
  },
  {
   "cell_type": "markdown",
   "metadata": {},
   "source": [
    "# Lab Work\n",
    "Plot the histogram of the number of attempts to find a collision to SHAKE128 with output 16 bits"
   ]
  },
  {
   "cell_type": "code",
   "execution_count": null,
   "metadata": {},
   "outputs": [],
   "source": []
  }
 ],
 "metadata": {
  "anaconda-cloud": {},
  "kernelspec": {
   "display_name": "Python 3 (ipykernel)",
   "language": "python",
   "name": "python3"
  },
  "language_info": {
   "codemirror_mode": {
    "name": "ipython",
    "version": 3
   },
   "file_extension": ".py",
   "mimetype": "text/x-python",
   "name": "python",
   "nbconvert_exporter": "python",
   "pygments_lexer": "ipython3",
   "version": "3.8.8"
  }
 },
 "nbformat": 4,
 "nbformat_minor": 2
}
