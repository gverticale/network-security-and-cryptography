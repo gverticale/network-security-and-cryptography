{
 "cells": [
  {
   "cell_type": "markdown",
   "metadata": {},
   "source": [
    "# Some Tests with Hash Functions"
   ]
  },
  {
   "cell_type": "code",
   "execution_count": null,
   "metadata": {},
   "outputs": [],
   "source": [
    "from binascii import hexlify\n",
    "from os import urandom\n",
    "import hashlib\n",
    "import numpy as np\n",
    "import matplotlib.pyplot as plt"
   ]
  },
  {
   "cell_type": "markdown",
   "metadata": {},
   "source": [
    "# Example 1"
   ]
  },
  {
   "cell_type": "markdown",
   "metadata": {},
   "source": [
    "Let's hash an ASCII string with SHA256. Print the output will as a hexadecimal string"
   ]
  },
  {
   "cell_type": "code",
   "execution_count": null,
   "metadata": {},
   "outputs": [],
   "source": [
    "x = b\"test message\"\n",
    "y = hashlib.sha256(x)\n",
    "y.hexdigest()"
   ]
  },
  {
   "cell_type": "markdown",
   "metadata": {},
   "source": [
    "# Example 2"
   ]
  },
  {
   "cell_type": "markdown",
   "metadata": {},
   "source": [
    "Consider the hash SHAKE128 with output 16 bits. Generate a random digest and find a preimage. Print the number of attempts."
   ]
  },
  {
   "cell_type": "code",
   "execution_count": null,
   "metadata": {},
   "outputs": [],
   "source": [
    "DIGESTSIZE = int(2)\n",
    "\n",
    "# we use a counter as input\n",
    "i = int(0)\n",
    "\n",
    "y = urandom(DIGESTSIZE)\n",
    "\n",
    "# we break if this takes too long\n",
    "while i < 100000:\n",
    "    xp = i.to_bytes(8,'big')\n",
    "    yp = hashlib.shake_128(xp).digest(DIGESTSIZE)\n",
    "    if (yp == y):\n",
    "        print(\"Attempt #{}\".format(i) )\n",
    "        print(\"Preimage is {}\".format(xp) )\n",
    "        break\n",
    "    i = int(i + 1)"
   ]
  },
  {
   "cell_type": "markdown",
   "metadata": {},
   "source": [
    "# Example 3"
   ]
  },
  {
   "cell_type": "markdown",
   "metadata": {},
   "source": [
    "Find, empirically, the average number of attempts to find a preimage to SHAKE128 with output 8 bits"
   ]
  },
  {
   "cell_type": "code",
   "execution_count": null,
   "metadata": {},
   "outputs": [],
   "source": [
    "def simulate(DIGESTSIZE):\n",
    "    i = int(0)\n",
    "    while true:\n",
    "        y = urandom(DIGESTSIZE)\n",
    "        xp = i.to_bytes(8,'big')\n",
    "        yp = hashlib.shake_128(xp).digest(int(DIGESTSIZE))\n",
    "        if (yp == y):\n",
    "            return(i)\n",
    "        i = int(i + 1)"
   ]
  },
  {
   "cell_type": "code",
   "execution_count": null,
   "metadata": {},
   "outputs": [],
   "source": [
    "simulations = [simulate(1) for i in range(1000)]"
   ]
  },
  {
   "cell_type": "code",
   "execution_count": null,
   "metadata": {},
   "outputs": [],
   "source": [
    "np.mean(simulations)"
   ]
  },
  {
   "cell_type": "code",
   "execution_count": null,
   "metadata": {},
   "outputs": [],
   "source": [
    "plt.hist(simulations,32);"
   ]
  },
  {
   "cell_type": "markdown",
   "metadata": {},
   "source": [
    "# Example 4"
   ]
  },
  {
   "cell_type": "markdown",
   "metadata": {},
   "source": [
    "Find the empirical probability of finding a second preimage with $q=100$ attempts  "
   ]
  },
  {
   "cell_type": "code",
   "execution_count": null,
   "metadata": {},
   "outputs": [],
   "source": [
    "def simulate2(message,DIGESTSIZE,attempts):\n",
    "    y = hashlib.shake_128(message).digest(int(DIGESTSIZE))\n",
    "    for i in range(attempts):\n",
    "        xp = i.to_bytes(8,'big')\n",
    "        yp = hashlib.shake_128(xp).digest(int(DIGESTSIZE))\n",
    "        if (yp == y):\n",
    "            return(1)\n",
    "    return(0)"
   ]
  },
  {
   "cell_type": "code",
   "execution_count": null,
   "metadata": {},
   "outputs": [],
   "source": [
    "q = 100\n",
    "num_simulations = 10000\n",
    "# generate many messages\n",
    "messages = [os.urandom(8) for i in range(num_simulations)]\n",
    "\n",
    "# simulate finding a second preimage\n",
    "simulations = [ simulate2(m,1,q) for m in messages]\n",
    "\n",
    "# result\n",
    "p_succ = (np.sum(simulations)) / num_simulations\n",
    "p_theory = q / 2**8\n",
    "\n",
    "print(\"Simulations: p={}\".format(p_succ))\n",
    "print(\"Theory: p={}\".format(n(p_theory)))"
   ]
  },
  {
   "cell_type": "markdown",
   "metadata": {},
   "source": [
    "# Example 5"
   ]
  },
  {
   "cell_type": "markdown",
   "metadata": {},
   "source": [
    "Find the empirical probability of finding a collision with  q=30  attempts"
   ]
  },
  {
   "cell_type": "code",
   "execution_count": null,
   "metadata": {},
   "outputs": [],
   "source": [
    "def simulate3(DIGESTSIZE,attempts):\n",
    "    calculated_hashes = set()\n",
    "    for i in range(attempts):\n",
    "        xp = os.urandom(8)\n",
    "        yp = hashlib.shake_128(xp).digest(int(DIGESTSIZE))\n",
    "        if (yp in calculated_hashes):\n",
    "            return(1)\n",
    "        calculated_hashes.add(yp)\n",
    "    return(0)"
   ]
  },
  {
   "cell_type": "code",
   "execution_count": null,
   "metadata": {},
   "outputs": [],
   "source": [
    "q = 30\n",
    "# simulate finding a second preimage\n",
    "simulations = [ simulate3(1,q) for m in messages]\n",
    "# result\n",
    "p_succ = (np.sum(simulations)) / num_simulations\n",
    "p_theory = 1-np.exp(-q**2 / 2**9)\n",
    "\n",
    "print(\"Simulations: p={}\".format(p_succ))\n",
    "print(\"Theory: p={}\".format(n(p_theory)))"
   ]
  },
  {
   "cell_type": "markdown",
   "metadata": {},
   "source": [
    "# Example 6"
   ]
  },
  {
   "cell_type": "markdown",
   "metadata": {},
   "source": [
    "Calculate the number of attempts to find a collision with the rho method "
   ]
  },
  {
   "cell_type": "markdown",
   "metadata": {},
   "source": [
    "The Rho method is an algorithm for finding collisions that requires only a little memory.\n",
    "\n",
    "It works like this:\n",
    "1. Pick some random starting value ($x_1$), and define $x_1 = x′_1$.\n",
    "2. Compute $x_2 = hash(x_1)$, and $x′_2 = hash(hash(x′_1))$; in the first case we apply the hash function once, while in the second case we apply it twice.\n",
    "3. Repeat computing $x_{i + 1} = hash(x_i)$ and $x′_{i + 1} = hash(hash(x′_i))$, until you find $x_{i + 1} = x′_{i + 1}$."
   ]
  },
  {
   "cell_type": "code",
   "execution_count": null,
   "metadata": {},
   "outputs": [],
   "source": [
    "DIGESTLEN = int(2)\n",
    "start = os.urandom(8)\n",
    "\n",
    "x = hashlib.shake_128(start).digest(DIGESTLEN)\n",
    "xp = x\n",
    "\n",
    "for i in range(10000):\n",
    "    x_i = hashlib.shake_128(x).digest(DIGESTLEN)\n",
    "    temp = hashlib.shake_128(xp).digest(DIGESTLEN)\n",
    "    xp_i = hashlib.shake_128(temp).digest(DIGESTLEN)\n",
    "    if (x_i == xp_i):\n",
    "        print(i)\n",
    "        break\n",
    "    x = x_i\n",
    "    xp = xp_i"
   ]
  },
  {
   "cell_type": "code",
   "execution_count": null,
   "metadata": {},
   "outputs": [],
   "source": []
  }
 ],
 "metadata": {
  "anaconda-cloud": {},
  "kernelspec": {
   "display_name": "SageMath 9.0",
   "language": "sage",
   "name": "sagemath"
  },
  "language_info": {
   "codemirror_mode": {
    "name": "ipython",
    "version": 3
   },
   "file_extension": ".py",
   "mimetype": "text/x-python",
   "name": "python",
   "nbconvert_exporter": "python",
   "pygments_lexer": "ipython3",
   "version": "3.8.5"
  }
 },
 "nbformat": 4,
 "nbformat_minor": 2
}
