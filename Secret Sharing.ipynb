{
 "cells": [
  {
   "cell_type": "markdown",
   "metadata": {},
   "source": [
    "# Secret Sharing"
   ]
  },
  {
   "cell_type": "code",
   "execution_count": null,
   "metadata": {},
   "outputs": [],
   "source": [
    "from sympy.matrices import Matrix"
   ]
  },
  {
   "cell_type": "markdown",
   "metadata": {},
   "source": [
    "Suppose we want to share the secret $m=5$ to five players so that three of them must cooperate.\n",
    "We create the random polynomial\n",
    "\n",
    "$ s(x) = 5 + 7x +3x^2 \\mod 13  $\n"
   ]
  },
  {
   "cell_type": "code",
   "execution_count": null,
   "metadata": {},
   "outputs": [],
   "source": [
    "p = 13\n",
    "def s(x):\n",
    "    return (5 + 7*x + 3*x*x) % p"
   ]
  },
  {
   "cell_type": "markdown",
   "metadata": {},
   "source": [
    "We distribute the shares to players 1, 2, 3, 4, and 5"
   ]
  },
  {
   "cell_type": "code",
   "execution_count": null,
   "metadata": {},
   "outputs": [],
   "source": [
    "share = []\n",
    "for i in range(1,6):\n",
    "    share.append((i,s(i)))\n",
    "print(share)"
   ]
  },
  {
   "cell_type": "markdown",
   "metadata": {},
   "source": [
    "We pick three shares and rebuild the secret.\n",
    "We use (2,5), (3,1), and (5,11)"
   ]
  },
  {
   "cell_type": "code",
   "execution_count": null,
   "metadata": {},
   "outputs": [],
   "source": [
    "M = Matrix( \n",
    "    [ \n",
    "        [ 1, 2, pow(2,2,p) ], \n",
    "        [ 1, 3, pow(3,2,p) ], \n",
    "        [ 1, 5, pow(5,2,p) ] \n",
    "    ] \n",
    ")\n",
    "M"
   ]
  },
  {
   "cell_type": "code",
   "execution_count": null,
   "metadata": {},
   "outputs": [],
   "source": [
    "V = Matrix([5, 1, 11])\n",
    "V"
   ]
  },
  {
   "cell_type": "code",
   "execution_count": null,
   "metadata": {},
   "outputs": [],
   "source": [
    "Mi = M.inv_mod(p)\n",
    "Mi"
   ]
  },
  {
   "cell_type": "code",
   "execution_count": null,
   "metadata": {},
   "outputs": [],
   "source": [
    "Mi * V %p"
   ]
  },
  {
   "cell_type": "markdown",
   "metadata": {},
   "source": [
    "## Lab Work\n",
    "Let's test the homomorphic properties of Shamir's scheme.\n",
    "\n",
    "* Let the secrets be $m = 3$ and $n = 5$.\n",
    "* For each secret, generate three shares with $p=11$.\n",
    "* Take the two shares with $x=1$, let them be $(1, y_1)$ for the secret $m$ and $(1, y_2)$ for the secret $n$.\n",
    "* Compute the new share $(1,y_3)$ with $y_3 = y_1 + y_2 \\mod p$\n",
    "* Repeat for the shares with $x=2$ and $x=3$.\n",
    "* Combine the new shares and recover the new secret $o$. Is it $o=m+n$? "
   ]
  },
  {
   "cell_type": "code",
   "execution_count": null,
   "metadata": {},
   "outputs": [],
   "source": []
  }
 ],
 "metadata": {
  "kernelspec": {
   "display_name": "Python 3 (ipykernel)",
   "language": "python",
   "name": "python3"
  },
  "language_info": {
   "codemirror_mode": {
    "name": "ipython",
    "version": 3
   },
   "file_extension": ".py",
   "mimetype": "text/x-python",
   "name": "python",
   "nbconvert_exporter": "python",
   "pygments_lexer": "ipython3",
   "version": "3.8.8"
  }
 },
 "nbformat": 4,
 "nbformat_minor": 2
}
