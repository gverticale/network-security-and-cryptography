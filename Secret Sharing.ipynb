{
 "cells": [
  {
   "cell_type": "markdown",
   "metadata": {},
   "source": [
    "# Secret Sharing"
   ]
  },
  {
   "cell_type": "code",
   "execution_count": 4,
   "metadata": {},
   "outputs": [],
   "source": [
    "from sympy.matrices import Matrix"
   ]
  },
  {
   "cell_type": "markdown",
   "metadata": {},
   "source": [
    "Suppose we want to share the secret $m=5$ to five players so that three of them must cooperate.\n",
    "We create the random polynomial\n",
    "\n",
    "$ s(x) = 5 + 7x +3x^2 \\mod 13  $\n"
   ]
  },
  {
   "cell_type": "code",
   "execution_count": 5,
   "metadata": {},
   "outputs": [],
   "source": [
    "p = 13\n",
    "s = lambda x: (5 + 7*x + 3*x*x) % p"
   ]
  },
  {
   "cell_type": "markdown",
   "metadata": {},
   "source": [
    "We distribute the shares to players 1, 2, 3, 4, and 5"
   ]
  },
  {
   "cell_type": "code",
   "execution_count": 6,
   "metadata": {},
   "outputs": [
    {
     "data": {
      "text/plain": [
       "5"
      ]
     },
     "execution_count": 6,
     "metadata": {},
     "output_type": "execute_result"
    }
   ],
   "source": [
    "# the share with index 0 is the secret\n",
    "# Do not share it!\n",
    "s(0)"
   ]
  },
  {
   "cell_type": "code",
   "execution_count": 7,
   "metadata": {},
   "outputs": [
    {
     "data": {
      "text/plain": [
       "[(1, 2), (2, 5), (3, 1), (4, 3), (5, 11)]"
      ]
     },
     "execution_count": 7,
     "metadata": {},
     "output_type": "execute_result"
    }
   ],
   "source": [
    "share = [(i,s(i)) for i in range(1,6)]\n",
    "share"
   ]
  },
  {
   "cell_type": "markdown",
   "metadata": {},
   "source": [
    "We pick three shares and rebuild the secret.\n",
    "We use (2,5), (3,1), and (5,11)"
   ]
  },
  {
   "cell_type": "code",
   "execution_count": 5,
   "metadata": {},
   "outputs": [
    {
     "data": {
      "text/latex": [
       "$\\displaystyle \\left[\\begin{matrix}1 & 2 & 4\\\\1 & 3 & 9\\\\1 & 5 & 12\\end{matrix}\\right]$"
      ],
      "text/plain": [
       "Matrix([\n",
       "[1, 2,  4],\n",
       "[1, 3,  9],\n",
       "[1, 5, 12]])"
      ]
     },
     "execution_count": 5,
     "metadata": {},
     "output_type": "execute_result"
    }
   ],
   "source": [
    "M = Matrix( \n",
    "    [ \n",
    "        [ 1, 2, pow(2,2,p) ], \n",
    "        [ 1, 3, pow(3,2,p) ], \n",
    "        [ 1, 5, pow(5,2,p) ] \n",
    "    ] \n",
    ")\n",
    "M"
   ]
  },
  {
   "cell_type": "code",
   "execution_count": 6,
   "metadata": {},
   "outputs": [
    {
     "data": {
      "text/latex": [
       "$\\displaystyle \\left[\\begin{matrix}5\\\\1\\\\11\\end{matrix}\\right]$"
      ],
      "text/plain": [
       "Matrix([\n",
       "[ 5],\n",
       "[ 1],\n",
       "[11]])"
      ]
     },
     "execution_count": 6,
     "metadata": {},
     "output_type": "execute_result"
    }
   ],
   "source": [
    "V = Matrix([5, 1, 11])\n",
    "V"
   ]
  },
  {
   "cell_type": "code",
   "execution_count": 7,
   "metadata": {},
   "outputs": [
    {
     "data": {
      "text/latex": [
       "$\\displaystyle \\left[\\begin{matrix}5 & 8 & 1\\\\6 & 10 & 10\\\\9 & 6 & 11\\end{matrix}\\right]$"
      ],
      "text/plain": [
       "Matrix([\n",
       "[5,  8,  1],\n",
       "[6, 10, 10],\n",
       "[9,  6, 11]])"
      ]
     },
     "execution_count": 7,
     "metadata": {},
     "output_type": "execute_result"
    }
   ],
   "source": [
    "# We need the inverse of M modulo p\n",
    "Mi = M.inv_mod(p)\n",
    "Mi"
   ]
  },
  {
   "cell_type": "code",
   "execution_count": 8,
   "metadata": {},
   "outputs": [
    {
     "data": {
      "text/latex": [
       "$\\displaystyle \\left[\\begin{matrix}5\\\\7\\\\3\\end{matrix}\\right]$"
      ],
      "text/plain": [
       "Matrix([\n",
       "[5],\n",
       "[7],\n",
       "[3]])"
      ]
     },
     "execution_count": 8,
     "metadata": {},
     "output_type": "execute_result"
    }
   ],
   "source": [
    "# The result is the vector of coefficients of s\n",
    "# The first value is the secret\n",
    "Mi * V %p"
   ]
  },
  {
   "cell_type": "markdown",
   "metadata": {},
   "source": [
    "## Lab Work\n",
    "Let's test the homomorphic properties of Shamir's scheme.\n",
    "\n",
    "* Let the secrets be $m = 3$ and $m' = 5$.\n",
    "* For each secret, generate three shares with $p=11$. Use a $(2,3)$-threshold scheme.\n",
    "* Remember that the you need fresh random coefficients for each secrets polynomial\n",
    "* Take the two shares with $x=1$, let them be $(1, y)$ for the secret $m$ and $(1, y')$ for the secret $m'$.\n",
    "* Compute the new share $(1,y'')$ with $y'' = y + y' \\mod p$\n",
    "* Repeat for the shares with $x=2$ and $x=3$.\n",
    "* Combine the new shares and recover the new secret $m''$. Is it $m''=m+m'$? "
   ]
  },
  {
   "cell_type": "code",
   "execution_count": null,
   "metadata": {},
   "outputs": [],
   "source": []
  }
 ],
 "metadata": {
  "kernelspec": {
   "display_name": "Python 3 (ipykernel)",
   "language": "python",
   "name": "python3"
  },
  "language_info": {
   "codemirror_mode": {
    "name": "ipython",
    "version": 3
   },
   "file_extension": ".py",
   "mimetype": "text/x-python",
   "name": "python",
   "nbconvert_exporter": "python",
   "pygments_lexer": "ipython3",
   "version": "3.8.8"
  }
 },
 "nbformat": 4,
 "nbformat_minor": 2
}
