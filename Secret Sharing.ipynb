{
 "cells": [
  {
   "cell_type": "markdown",
   "metadata": {},
   "source": [
    "# Secret Sharing"
   ]
  },
  {
   "cell_type": "code",
   "execution_count": null,
   "metadata": {},
   "outputs": [],
   "source": [
    "from sympy.matrices import Matrix"
   ]
  },
  {
   "cell_type": "markdown",
   "metadata": {},
   "source": [
    "Suppose we want to share the secret $m=5$ to five players so that three of them must cooperate.\n",
    "We create the random polynomial\n",
    "\n",
    "$ s(x) = 5 + 7x +3x^2 \\mod 13  $\n"
   ]
  },
  {
   "cell_type": "code",
   "execution_count": null,
   "metadata": {},
   "outputs": [],
   "source": [
    "p = 13\n",
    "s = lambda x: (5 + 7*x + 3*x*x) % p"
   ]
  },
  {
   "cell_type": "markdown",
   "metadata": {},
   "source": [
    "We distribute the shares to players 1, 2, 3, 4, and 5"
   ]
  },
  {
   "cell_type": "code",
   "execution_count": null,
   "metadata": {},
   "outputs": [],
   "source": [
    "# the share with index 0 is the secret\n",
    "# Do not share it!\n",
    "s(0)"
   ]
  },
  {
   "cell_type": "code",
   "execution_count": null,
   "metadata": {},
   "outputs": [],
   "source": [
    "share = [(i,s(i)) for i in range(1,6)]\n",
    "share"
   ]
  },
  {
   "cell_type": "markdown",
   "metadata": {},
   "source": [
    "We pick three shares and rebuild the secret.\n",
    "We use (2,5), (3,1), and (5,11)"
   ]
  },
  {
   "cell_type": "code",
   "execution_count": null,
   "metadata": {},
   "outputs": [],
   "source": [
    "M = Matrix( \n",
    "    [ \n",
    "        [ 1, 2, pow(2,2,p) ], \n",
    "        [ 1, 3, pow(3,2,p) ], \n",
    "        [ 1, 5, pow(5,2,p) ] \n",
    "    ] \n",
    ")\n",
    "M"
   ]
  },
  {
   "cell_type": "code",
   "execution_count": null,
   "metadata": {},
   "outputs": [],
   "source": [
    "V = Matrix([5, 1, 11])\n",
    "V"
   ]
  },
  {
   "cell_type": "code",
   "execution_count": null,
   "metadata": {},
   "outputs": [],
   "source": [
    "# We need the inverse of M modulo p\n",
    "Mi = M.inv_mod(p)\n",
    "Mi"
   ]
  },
  {
   "cell_type": "code",
   "execution_count": null,
   "metadata": {},
   "outputs": [],
   "source": [
    "# The result is the vector of coefficients of s\n",
    "# The first value is the secret\n",
    "Mi * V %p"
   ]
  },
  {
   "cell_type": "markdown",
   "metadata": {},
   "source": [
    "## Lab Work\n",
    "Let's test the homomorphic properties of Shamir's scheme. Work in groups of four: a Dealer, two Players (Alice and Bob) and an Observer (Charlie).\n",
    "\n",
    "1. Use the parameter $p=97$.\n",
    "2. The Dealer chooses two secrets: $m$ and $n$.\n",
    "3. The Dealer generates a first-degree random polynomial to share secret $m$.\n",
    "4. The Dealer gives share (1,ym1) to Alice and share (2,ym2) to Bob.\n",
    "5. The Dealer generates a new first-degree random polynomial to share secret $n$. Remember to use fresh random coefficients.\n",
    "6. The Dealer gives share (1,yn1) to Alice and share (2,yn2) to Bob.\n",
    "7. Alice computes the new share (1,ym1 + yn1 mod p) and gives it to Charlie\n",
    "8. Bob computes the new share (2,ym2 + yn2 mod p) and gives it to Charlie\n",
    "9. Charlie recovers the secret $z$ from the two shares. The correct result is $z=m+n \\mod p$."
   ]
  },
  {
   "cell_type": "markdown",
   "metadata": {},
   "source": [
    "# Challenge"
   ]
  },
  {
   "cell_type": "markdown",
   "metadata": {},
   "source": [
    "We provide 5 shares of a secret with threshold $t=3$. One of them is wrong.\n",
    "Your goal is to find the secret."
   ]
  },
  {
   "cell_type": "code",
   "execution_count": 1,
   "metadata": {},
   "outputs": [],
   "source": [
    "#Public prime number\n",
    "p = 23"
   ]
  },
  {
   "cell_type": "code",
   "execution_count": 2,
   "metadata": {},
   "outputs": [],
   "source": [
    "shares = [(1, 19), (2, 17), (3, 4), (4, 9), (5, 14)]"
   ]
  },
  {
   "cell_type": "code",
   "execution_count": null,
   "metadata": {},
   "outputs": [],
   "source": []
  }
 ],
 "metadata": {
  "kernelspec": {
   "display_name": "Python 3 (ipykernel)",
   "language": "python",
   "name": "python3"
  },
  "language_info": {
   "codemirror_mode": {
    "name": "ipython",
    "version": 3
   },
   "file_extension": ".py",
   "mimetype": "text/x-python",
   "name": "python",
   "nbconvert_exporter": "python",
   "pygments_lexer": "ipython3",
   "version": "3.11.7"
  }
 },
 "nbformat": 4,
 "nbformat_minor": 4
}
