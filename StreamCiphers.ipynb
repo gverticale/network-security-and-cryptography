{
 "cells": [
  {
   "cell_type": "code",
   "execution_count": null,
   "id": "eb51cc5f-e9f7-40c9-9151-684b416713af",
   "metadata": {},
   "outputs": [],
   "source": [
    "%pip install -q cryptography mediapy\n",
    "\n",
    "# Some imports\n",
    "from os import urandom\n",
    "import struct\n",
    "from binascii import hexlify\n",
    "import numpy as np\n",
    "import mediapy as media\n",
    "\n",
    "from cryptography.hazmat.primitives.ciphers import Cipher, algorithms, modes\n",
    "# from cryptography.hazmat.backends import default_backend"
   ]
  },
  {
   "cell_type": "markdown",
   "id": "7c9079ed-6e89-4bc7-9a87-87d3224d19c7",
   "metadata": {},
   "source": [
    "# Using ChaCha20"
   ]
  },
  {
   "cell_type": "code",
   "execution_count": null,
   "id": "266ae1b8-6fca-4f55-a738-1964e7404997",
   "metadata": {},
   "outputs": [],
   "source": [
    "# key is 256 bits (32 bytes)\n",
    "key = urandom(32)\n",
    "\n",
    "# nonce is a random value (64 bits) concatenated to a counter (64 bits)\n",
    "# note that IETF standard has a different split (96/32) \n",
    "nonce = urandom(8)\n",
    "counter = 0\n",
    "full_nonce = struct.pack(\"<Q\", counter) + nonce\n",
    "\n",
    "algorithm = algorithms.ChaCha20(key, full_nonce)\n",
    "cipher = Cipher(algorithm, mode=None)\n",
    "encryptor = cipher.encryptor()\n",
    "decryptor = cipher.decryptor()"
   ]
  },
  {
   "cell_type": "code",
   "execution_count": null,
   "id": "c60cdd8f-1064-4dc3-ab95-c110f40ea4ba",
   "metadata": {},
   "outputs": [],
   "source": [
    "m = b\"a secret message\"\n",
    "ct = encryptor.update(b\"a secret message\")\n",
    "hexlify(ct)"
   ]
  },
  {
   "cell_type": "code",
   "execution_count": null,
   "id": "4de4aff4-3ed3-4db6-8968-33dd98484293",
   "metadata": {},
   "outputs": [],
   "source": [
    "decryptor.update(ct)"
   ]
  },
  {
   "cell_type": "markdown",
   "id": "1b5e6b98-cd77-4313-81bb-0d8ae14a8caf",
   "metadata": {},
   "source": [
    "## Encrypt an image"
   ]
  },
  {
   "cell_type": "code",
   "execution_count": null,
   "id": "38da673e-9a93-47b4-a176-049710799779",
   "metadata": {},
   "outputs": [],
   "source": [
    "key = urandom(32)\n",
    "nonce = urandom(8)\n",
    "counter = 0\n",
    "full_nonce = struct.pack(\"<Q\", counter) + nonce\n",
    "\n",
    "algorithm = algorithms.ChaCha20(key, full_nonce)\n",
    "cipher = Cipher(algorithm, mode=None)\n",
    "encryptor = cipher.encryptor()\n",
    "decryptor = cipher.decryptor()"
   ]
  },
  {
   "cell_type": "code",
   "execution_count": null,
   "id": "78438400-1599-4288-a975-087aa0e90e3d",
   "metadata": {},
   "outputs": [],
   "source": [
    "IMAGE = 'https://raw.githubusercontent.com/gverticale/network-security-and-cryptography/master/tux_gray.png'\n",
    "\n",
    "tux_png = media.read_image(IMAGE)\n",
    "media.show_image(tux_png,height=480, title='Tux')"
   ]
  },
  {
   "cell_type": "code",
   "execution_count": null,
   "id": "41a403bf-0caa-4d07-bdf4-d7d0b3c7e9e4",
   "metadata": {},
   "outputs": [],
   "source": [
    "# Keep only luminance and serialize the image\n",
    "# The plaintext is a string of bytes\n",
    "tux = tux_png[:,:,1] * 255\n",
    "tux = tux.astype(np.uint8)\n",
    "pt = tux.tobytes()"
   ]
  },
  {
   "cell_type": "code",
   "execution_count": null,
   "id": "80ff10b9-fae5-4b8a-952c-36bac9363e03",
   "metadata": {},
   "outputs": [],
   "source": [
    "ct = encryptor.update(pt)"
   ]
  },
  {
   "cell_type": "code",
   "execution_count": null,
   "id": "f691d5c1-176d-4ab6-b81a-368cfe1a49a6",
   "metadata": {},
   "outputs": [],
   "source": [
    "# Reshape the ciphertext into a matrix of bytes \n",
    "# Show the ciphertext\n",
    "encrypted_tux = np.frombuffer(ct, dtype = np.uint8).reshape(tux.shape)\n",
    "media.show_image(encrypted_tux,height=480, title='Encrypted Tux')"
   ]
  },
  {
   "cell_type": "markdown",
   "id": "5332a5e9-7ef7-44bb-929d-8416d9a9db27",
   "metadata": {},
   "source": [
    "## Encrypt an image with the same key and nonce (WRONG!)"
   ]
  },
  {
   "cell_type": "code",
   "execution_count": null,
   "id": "d9e9bc51-9f37-4d9a-9281-cacc4f1630bf",
   "metadata": {},
   "outputs": [],
   "source": [
    "algorithm2 = algorithms.ChaCha20(key, full_nonce)\n",
    "cipher2 = Cipher(algorithm, mode=None)\n",
    "encryptor2 = cipher.encryptor()\n",
    "decryptor2 = cipher.decryptor()"
   ]
  },
  {
   "cell_type": "code",
   "execution_count": null,
   "id": "1ba19351-4349-4c76-ba22-2d53e7621cff",
   "metadata": {},
   "outputs": [],
   "source": [
    "def create_checkerboard_matrix(rows, cols, square_size):\n",
    "    # Create an empty matrix filled with zeros\n",
    "    matrix = np.zeros((rows, cols), dtype=int)\n",
    "    \n",
    "    # Iterate over each square\n",
    "    for i in range(0, rows, square_size):\n",
    "        for j in range(0, cols, square_size):\n",
    "            # Set ones in alternating squares\n",
    "            if (i // square_size + j // square_size) % 2 == 0:\n",
    "                matrix[i:i+square_size, j:j+square_size] = 255\n",
    "    \n",
    "    return matrix\n",
    "\n",
    "im_checkerboard = np.uint8(create_checkerboard_matrix(1024,869,16))\n",
    "media.show_image(im_checkerboard,height=640)"
   ]
  },
  {
   "cell_type": "code",
   "execution_count": null,
   "id": "d82042f3-cebf-440f-a1d8-0edc1e643adb",
   "metadata": {},
   "outputs": [],
   "source": [
    "ct2=encryptor2.update(im_checkerboard.reshape(-1))"
   ]
  },
  {
   "cell_type": "code",
   "execution_count": null,
   "id": "481edab8-1a71-4053-940f-1d6ef6521308",
   "metadata": {},
   "outputs": [],
   "source": [
    "encrypted_board = np.frombuffer(ct2, dtype = np.uint8).reshape(tux.shape)\n",
    "media.show_image(encrypted_board,height=640,title='Encrypted board')"
   ]
  },
  {
   "cell_type": "markdown",
   "id": "36808480-e661-4dec-81d7-4dbdee1b2f34",
   "metadata": {},
   "source": [
    "What happens if we xor the ciphertexts?  "
   ]
  },
  {
   "cell_type": "code",
   "execution_count": null,
   "id": "7694f183-2d84-4858-90ed-5d007bea2ea1",
   "metadata": {},
   "outputs": [],
   "source": [
    "# Calculate the XOR between the ciphertexts\n",
    "ciphertext_xor = np.bitwise_xor(encrypted_tux,encrypted_board)\n",
    "difference = np.frombuffer(ciphertext_xor, dtype = np.uint8).reshape(tux.shape)\n",
    "media.show_image(ciphertext_xor,height=480, title='Xored')"
   ]
  },
  {
   "cell_type": "code",
   "execution_count": null,
   "id": "8958c8f4-181c-477f-afb5-34695d77fb68",
   "metadata": {},
   "outputs": [],
   "source": [
    "media.compare_images([tux_png,ciphertext_xor])"
   ]
  },
  {
   "cell_type": "markdown",
   "id": "5ab831d2-e303-4526-bde7-3bc51dc58328",
   "metadata": {},
   "source": [
    "# Lab Activity: known plaintext attack\n",
    "* Assume you know the checkerboard plaintext. Can you recover tux from the ciphertext?\n",
    "* What happens if the counter of the checkerboard's nonce is not 0 but 5? Can you recover something? Hint: use `np.roll`"
   ]
  },
  {
   "cell_type": "code",
   "execution_count": null,
   "id": "20f51f92-f23c-4ae0-9320-1c554fadd56a",
   "metadata": {},
   "outputs": [],
   "source": []
  }
 ],
 "metadata": {
  "kernelspec": {
   "display_name": "Python 3 (ipykernel)",
   "language": "python",
   "name": "python3"
  },
  "language_info": {
   "codemirror_mode": {
    "name": "ipython",
    "version": 3
   },
   "file_extension": ".py",
   "mimetype": "text/x-python",
   "name": "python",
   "nbconvert_exporter": "python",
   "pygments_lexer": "ipython3",
   "version": "3.11.7"
  }
 },
 "nbformat": 4,
 "nbformat_minor": 5
}
