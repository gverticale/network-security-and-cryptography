{
 "cells": [
  {
   "cell_type": "markdown",
   "metadata": {
    "slideshow": {
     "slide_type": "slide"
    }
   },
   "source": [
    "## Sagemath\n",
    "\n",
    "Sage is a free and open-source mathematics package\n",
    "Based on the mainstream programming language Python\n",
    "Headed by the mathematician William Stein, who is at the University of Washington, in Seattle\n",
    "\n",
    "It similar, but not identical to python."
   ]
  },
  {
   "cell_type": "code",
   "execution_count": 1,
   "metadata": {
    "slideshow": {
     "slide_type": "slide"
    }
   },
   "outputs": [
    {
     "data": {
      "text/plain": [
       "8"
      ]
     },
     "execution_count": 1,
     "metadata": {},
     "output_type": "execute_result"
    }
   ],
   "source": [
    "# ** means exponent\n",
    "2**3 "
   ]
  },
  {
   "cell_type": "code",
   "execution_count": 2,
   "metadata": {
    "slideshow": {
     "slide_type": "-"
    }
   },
   "outputs": [
    {
     "data": {
      "text/plain": [
       "8"
      ]
     },
     "execution_count": 2,
     "metadata": {},
     "output_type": "execute_result"
    }
   ],
   "source": [
    "# ^ is a synonym for ** (unlike in Python) \n",
    "2^3"
   ]
  },
  {
   "cell_type": "code",
   "execution_count": 3,
   "metadata": {
    "slideshow": {
     "slide_type": "slide"
    }
   },
   "outputs": [
    {
     "data": {
      "text/plain": [
       "1"
      ]
     },
     "execution_count": 3,
     "metadata": {},
     "output_type": "execute_result"
    }
   ],
   "source": [
    "# for integer arguments, % means mod, i.e., remainder\n",
    "10 % 3 "
   ]
  },
  {
   "cell_type": "code",
   "execution_count": 4,
   "metadata": {
    "slideshow": {
     "slide_type": "slide"
    }
   },
   "outputs": [
    {
     "data": {
      "text/plain": [
       "5/2"
      ]
     },
     "execution_count": 4,
     "metadata": {},
     "output_type": "execute_result"
    }
   ],
   "source": [
    "# mathematics is exact\n",
    "10/4"
   ]
  },
  {
   "cell_type": "code",
   "execution_count": 5,
   "metadata": {
    "slideshow": {
     "slide_type": "-"
    }
   },
   "outputs": [
    {
     "data": {
      "text/plain": [
       "2*sqrt(2)"
      ]
     },
     "execution_count": 5,
     "metadata": {},
     "output_type": "execute_result"
    }
   ],
   "source": [
    "# another example\n",
    "sqrt(8)"
   ]
  },
  {
   "cell_type": "markdown",
   "metadata": {},
   "source": [
    "Let's define $\\mathbb{Z}_7$, i.e. the set of the elements mod 7"
   ]
  },
  {
   "cell_type": "code",
   "execution_count": 6,
   "metadata": {
    "slideshow": {
     "slide_type": "slide"
    }
   },
   "outputs": [],
   "source": [
    "Zseven = Zmod(7)"
   ]
  },
  {
   "cell_type": "code",
   "execution_count": 7,
   "metadata": {
    "slideshow": {
     "slide_type": "-"
    }
   },
   "outputs": [
    {
     "data": {
      "text/plain": [
       "[0, 1, 2, 3, 4, 5, 6]"
      ]
     },
     "execution_count": 7,
     "metadata": {},
     "output_type": "execute_result"
    }
   ],
   "source": [
    "# what are the elements?\n",
    "Zseven.list()"
   ]
  },
  {
   "cell_type": "code",
   "execution_count": 8,
   "metadata": {
    "slideshow": {
     "slide_type": "-"
    }
   },
   "outputs": [],
   "source": [
    "# assign a value from the set to a variable \n",
    "x = Zseven(5)"
   ]
  },
  {
   "cell_type": "markdown",
   "metadata": {},
   "source": [
    "$x \\in \\mathbb{Z}_7$ is the element 5 "
   ]
  },
  {
   "cell_type": "code",
   "execution_count": 11,
   "metadata": {
    "slideshow": {
     "slide_type": "-"
    }
   },
   "outputs": [
    {
     "data": {
      "text/plain": [
       "3"
      ]
     },
     "execution_count": 11,
     "metadata": {},
     "output_type": "execute_result"
    }
   ],
   "source": [
    "x + x"
   ]
  },
  {
   "cell_type": "code",
   "execution_count": 10,
   "metadata": {
    "slideshow": {
     "slide_type": "-"
    }
   },
   "outputs": [
    {
     "data": {
      "text/plain": [
       "4"
      ]
     },
     "execution_count": 10,
     "metadata": {},
     "output_type": "execute_result"
    }
   ],
   "source": [
    "x * x"
   ]
  },
  {
   "cell_type": "markdown",
   "metadata": {
    "slideshow": {
     "slide_type": "slide"
    }
   },
   "source": [
    "## The shift cipher"
   ]
  },
  {
   "cell_type": "code",
   "execution_count": 12,
   "metadata": {
    "slideshow": {
     "slide_type": "-"
    }
   },
   "outputs": [
    {
     "data": {
      "text/plain": [
       "GONAVYBEATARMY"
      ]
     },
     "execution_count": 12,
     "metadata": {},
     "output_type": "execute_result"
    }
   ],
   "source": [
    "# Let's define a cipher using the letters of the alphabet\n",
    "CS = ShiftCryptosystem(  AlphabeticStrings() )\n",
    "\n",
    "# the plaintext message\n",
    "m = CS.encoding(\"Go Navy! Beat Army!\") \n",
    "m"
   ]
  },
  {
   "cell_type": "code",
   "execution_count": 13,
   "metadata": {
    "slideshow": {
     "slide_type": "slide"
    }
   },
   "outputs": [
    {
     "data": {
      "text/plain": [
       "HPOBWZCFBUBSNZ"
      ]
     },
     "execution_count": 13,
     "metadata": {},
     "output_type": "execute_result"
    }
   ],
   "source": [
    "# encrypt with k = 1\n",
    "c = CS.enciphering(1, m) # the ciphertext with k=1\n",
    "c"
   ]
  },
  {
   "cell_type": "code",
   "execution_count": 14,
   "metadata": {
    "slideshow": {
     "slide_type": "-"
    }
   },
   "outputs": [
    {
     "data": {
      "text/plain": [
       "GONAVYBEATARMY"
      ]
     },
     "execution_count": 14,
     "metadata": {},
     "output_type": "execute_result"
    }
   ],
   "source": [
    "# now decrypt\n",
    "CS.deciphering(1, c)"
   ]
  },
  {
   "cell_type": "code",
   "execution_count": 15,
   "metadata": {
    "slideshow": {
     "slide_type": "slide"
    }
   },
   "outputs": [
    {
     "name": "stdout",
     "output_type": "stream",
     "text": [
      "0 LRZZOACZZQTDZYPESLEXLVPDFDHTDPC\n",
      "1 KQYYNZBYYPSCYXODRKDWKUOCECGSCOB\n",
      "2 JPXXMYAXXORBXWNCQJCVJTNBDBFRBNA\n",
      "3 IOWWLXZWWNQAWVMBPIBUISMACAEQAMZ\n",
      "4 HNVVKWYVVMPZVULAOHATHRLZBZDPZLY\n",
      "5 GMUUJVXUULOYUTKZNGZSGQKYAYCOYKX\n",
      "6 FLTTIUWTTKNXTSJYMFYRFPJXZXBNXJW\n",
      "7 EKSSHTVSSJMWSRIXLEXQEOIWYWAMWIV\n",
      "8 DJRRGSURRILVRQHWKDWPDNHVXVZLVHU\n",
      "9 CIQQFRTQQHKUQPGVJCVOCMGUWUYKUGT\n",
      "10 BHPPEQSPPGJTPOFUIBUNBLFTVTXJTFS\n",
      "11 AGOODPROOFISONETHATMAKESUSWISER\n",
      "12 ZFNNCOQNNEHRNMDSGZSLZJDRTRVHRDQ\n",
      "13 YEMMBNPMMDGQMLCRFYRKYICQSQUGQCP\n",
      "14 XDLLAMOLLCFPLKBQEXQJXHBPRPTFPBO\n",
      "15 WCKKZLNKKBEOKJAPDWPIWGAOQOSEOAN\n",
      "16 VBJJYKMJJADNJIZOCVOHVFZNPNRDNZM\n",
      "17 UAIIXJLIIZCMIHYNBUNGUEYMOMQCMYL\n",
      "18 TZHHWIKHHYBLHGXMATMFTDXLNLPBLXK\n",
      "19 SYGGVHJGGXAKGFWLZSLESCWKMKOAKWJ\n",
      "20 RXFFUGIFFWZJFEVKYRKDRBVJLJNZJVI\n",
      "21 QWEETFHEEVYIEDUJXQJCQAUIKIMYIUH\n",
      "22 PVDDSEGDDUXHDCTIWPIBPZTHJHLXHTG\n",
      "23 OUCCRDFCCTWGCBSHVOHAOYSGIGKWGSF\n",
      "24 NTBBQCEBBSVFBARGUNGZNXRFHFJVFRE\n",
      "25 MSAAPBDAARUEAZQFTMFYMWQEGEIUEQD\n"
     ]
    }
   ],
   "source": [
    "# Now a bit more complicated\n",
    "# Let's find the decryption of a ciphertext\n",
    "c = CS.encoding(\"LRZZOACZZQTDZYPESLEXLVPDFDHTDPC\")\n",
    "\n",
    "# We try all the keys\n",
    "for i in range(26):\n",
    "\t\tprint(i, CS.deciphering(i, c))"
   ]
  },
  {
   "cell_type": "code",
   "execution_count": 16,
   "metadata": {
    "slideshow": {
     "slide_type": "slide"
    }
   },
   "outputs": [
    {
     "data": {
      "text/plain": [
       "AGOODPROOFISONETHATMAKESUSWISER"
      ]
     },
     "execution_count": 16,
     "metadata": {},
     "output_type": "execute_result"
    }
   ],
   "source": [
    "# k = 11 makes sense\n",
    "CS.deciphering(11,c)"
   ]
  },
  {
   "cell_type": "code",
   "execution_count": 17,
   "metadata": {
    "slideshow": {
     "slide_type": "slide"
    }
   },
   "outputs": [
    {
     "data": {
      "text/plain": [
       "Discrete probability space defined by {A: 0.0891472868217055,\n",
       " B: 0.00775193798449612,\n",
       " C: 0.0193798449612403,\n",
       " D: 0.0581395348837209,\n",
       " E: 0.108527131782946,\n",
       " F: 0.0116279069767442,\n",
       " G: 0.0348837209302326,\n",
       " H: 0.0310077519379845,\n",
       " I: 0.0736434108527132,\n",
       " K: 0.00387596899224806,\n",
       " L: 0.0310077519379845,\n",
       " M: 0.0465116279069767,\n",
       " N: 0.0930232558139535,\n",
       " O: 0.0852713178294574,\n",
       " P: 0.0465116279069767,\n",
       " Q: 0.00387596899224806,\n",
       " R: 0.0736434108527132,\n",
       " S: 0.0310077519379845,\n",
       " T: 0.0620155038759690,\n",
       " U: 0.0271317829457364,\n",
       " V: 0.0116279069767442,\n",
       " W: 0.0155038759689922,\n",
       " Y: 0.0348837209302326}"
      ]
     },
     "execution_count": 17,
     "metadata": {},
     "output_type": "execute_result"
    }
   ],
   "source": [
    "# Can we make it automatic?\n",
    "# Let's use a longer text\n",
    "raven =  \"\"\"Once upon a midnight dreary, while I pondered, weak and weary, \n",
    "            Over many a quaint and curious volume of forgotten lore, \n",
    "            While I nodded, nearly napping, suddenly there came a tapping,\n",
    "            As of some one gently rapping, rapping at my chamber door.\n",
    "            Tis some visiter, I muttered, tapping at my chamber door --\n",
    "            Only this,and nothing more.\"\"\"\n",
    "m = CS.encoding(raven)\n",
    "frequency = m.frequency_distribution()\n",
    "frequency"
   ]
  },
  {
   "cell_type": "markdown",
   "metadata": {},
   "source": [
    "# Entropy\n",
    "Given a message $m$ taken from a set of messages $\\{m_1, \\dots, m_N\\}$ with probabilities $p(m_i)\\ 1\\leq i \\leq N$, the source entropy is\n",
    "\n",
    "$H(m) = -\\sum_{i=1}^N p_i \\log_2 p_i$\n",
    "\n",
    "Source entropy measures the minimum number of bits necessary to encode the source messages."
   ]
  },
  {
   "cell_type": "code",
   "execution_count": 18,
   "metadata": {
    "slideshow": {
     "slide_type": "slide"
    }
   },
   "outputs": [],
   "source": [
    "# We define a function to plot the frequencies\n",
    "import matplotlib.pyplot as plt\n",
    "def plot_frequencies(frequency):\n",
    "    sorted_frequencies = sorted(frequency.function().items(), key=lambda x: x[1], reverse=True)\n",
    "\n",
    "    elements = range(len(sorted_frequencies))    \n",
    "    letters, values = zip(*sorted_frequencies)\n",
    "    \n",
    "    plt.bar(elements,values)\n",
    "    plt.xticks(elements, letters)\n",
    "    plt.title(\"Entropy: {}\".format(frequency.entropy()))\n",
    "    plt.show()"
   ]
  },
  {
   "cell_type": "code",
   "execution_count": 113,
   "metadata": {
    "slideshow": {
     "slide_type": "slide"
    }
   },
   "outputs": [
    {
     "data": {
      "image/png": "[encoded data removed]",
      "text/plain": [
       "<Figure size 432x288 with 1 Axes>"
      ]
     },
     "metadata": {},
     "output_type": "display_data"
    }
   ],
   "source": [
    "# Show the frequencies\n",
    "plot_frequencies(frequency)"
   ]
  },
  {
   "cell_type": "code",
   "execution_count": 116,
   "metadata": {
    "slideshow": {
     "slide_type": "slide"
    }
   },
   "outputs": [
    {
     "data": {
      "image/png": "[encoded data removed]",
      "text/plain": [
       "<Figure size 432x288 with 1 Axes>"
      ]
     },
     "metadata": {},
     "output_type": "display_data"
    },
    {
     "data": {
      "text/plain": [
       "Discrete probability space defined by {A: 0.0622568093385214,\n",
       " B: 0.0272373540856031,\n",
       " C: 0.0116731517509728,\n",
       " D: 0.0155642023346304,\n",
       " F: 0.0350194552529183,\n",
       " H: 0.0894941634241245,\n",
       " I: 0.00778210116731518,\n",
       " J: 0.0194552529182879,\n",
       " K: 0.0583657587548638,\n",
       " L: 0.105058365758755,\n",
       " M: 0.0116731517509728,\n",
       " N: 0.0350194552529183,\n",
       " O: 0.0311284046692607,\n",
       " P: 0.0739299610894942,\n",
       " R: 0.00389105058365759,\n",
       " S: 0.0311284046692607,\n",
       " T: 0.0466926070038911,\n",
       " U: 0.0933852140077821,\n",
       " V: 0.0856031128404669,\n",
       " W: 0.0466926070038911,\n",
       " X: 0.00389105058365759,\n",
       " Y: 0.0739299610894942,\n",
       " Z: 0.0311284046692607}"
      ]
     },
     "execution_count": 116,
     "metadata": {},
     "output_type": "execute_result"
    }
   ],
   "source": [
    "# Let's decrypt a longer message using frequency analysis\n",
    "ciphertext = \"\"\"VUJLBWVUHTPKUPNOAKYLHYFDOPSLPWVUK\n",
    "                LYLKDLHRHUKDLHYFVCLYTHUFHXBHPUAHU\n",
    "                KJBYPVBZCVSBTLVMMVYNVAALUSVYLDOPS\n",
    "                LPUVKKLKULHYSFUHWWPUNZBKKLUSFAOLY\n",
    "                LJHTLHAHWWPUNHZVMZVTLVULNLUASFYHW\n",
    "                WPUNYHWWPUNHATFJOHTILYKVVYAPZZVTL\n",
    "                CPZPALYPTBAALYLKAHWWPUNHATFJOHTIL\n",
    "                YKVVYVUSFAOPZHUKUVAOPUNTVY\"\"\"\n",
    "AS = AlphabeticStrings()\n",
    "A = AS.alphabet()\n",
    "CS = ShiftCryptosystem(AS)\n",
    "c = CS.encoding(ciphertext)\n",
    "fd = c.frequency_distribution()\n",
    "plot_frequencies(fd)\n",
    "fd"
   ]
  },
  {
   "cell_type": "code",
   "execution_count": 18,
   "metadata": {
    "slideshow": {
     "slide_type": "slide"
    }
   },
   "outputs": [
    {
     "data": {
      "text/plain": [
       "7"
      ]
     },
     "execution_count": 18,
     "metadata": {},
     "output_type": "execute_result"
    }
   ],
   "source": [
    "# Maybe E is encrypted to L?\n",
    "# We calculate the shift\n",
    "shift = A.index(\"L\")-A.index(\"E\")\n",
    "shift"
   ]
  },
  {
   "cell_type": "code",
   "execution_count": 19,
   "metadata": {
    "slideshow": {
     "slide_type": "-"
    }
   },
   "outputs": [
    {
     "data": {
      "text/plain": [
       "ONCEUPONAMIDNIGHTDREARYWHILEIPONDEREDWEAKANDWEARYOVERMANYAQUAINTANDCURIOUSVOLUMEOFFORGOTTENLOREWHILEINODDEDNEARLYNAPPINGSUDDENLYTHERECAMEATAPPINGASOFSOMEONEGENTLYRAPPINGRAPPINGATMYCHAMBERDOORTISSOMEVISITERIMUTTEREDTAPPINGATMYCHAMBERDOORONLYTHISANDNOTHINGMOR"
      ]
     },
     "execution_count": 19,
     "metadata": {},
     "output_type": "execute_result"
    }
   ],
   "source": [
    "CS.deciphering(shift, c)"
   ]
  },
  {
   "cell_type": "code",
   "execution_count": 20,
   "metadata": {
    "slideshow": {
     "slide_type": "-"
    }
   },
   "outputs": [
    {
     "data": {
      "text/plain": [
       "ONCEUPONAMIDNIGHTDREARYWHILEIPONDEREDWEAKANDWEARYOVERMANYAQUAINTANDCURIOUSVOLUMEOFFORGOTTENLOREWHILEINODDEDNEARLYNAPPINGSUDDENLYTHERECAMEATAPPINGASOFSOMEONEGENTLYRAPPINGRAPPINGATMYCHAMBERDOORTISSOMEVISITERIMUTTEREDTAPPINGATMYCHAMBERDOORONLYTHISANDNOTHINGMORE"
      ]
     },
     "execution_count": 20,
     "metadata": {},
     "output_type": "execute_result"
    }
   ],
   "source": [
    "# compare to m\n",
    "m"
   ]
  },
  {
   "cell_type": "markdown",
   "metadata": {
    "slideshow": {
     "slide_type": "slide"
    }
   },
   "source": [
    "## Affine Cipher\n",
    "\n",
    "In the affine cipher the letters of an alphabet of size n are first mapped to the integers in the range $0,\\dots,n-1$.The encryption function for a single letter is:\n",
    "\n",
    "$c = Enc(m) = am+b \\mod n$\n",
    "\n",
    "where $n$ is the modulo and $b$ is the magnitude of the shift. The key $k$ is the pair $(a,b)$. The value of $a$ must be chosen in such a way that $a$ and $n$ are coprime.\n",
    "The decryption function is:\n",
    "\n",
    "$m = Dec(c) = a^{-1}(c-b) \\mod n$\n",
    "\n",
    "where $a^{-1}$ is the multiplicative inverse of a modulo n.\n",
    "Of course, with $a=1$, the affine cipher is the same as the shift cipher. However, the key space is larger, making this cipher slightly more secure than the shift cipher."
   ]
  },
  {
   "cell_type": "code",
   "execution_count": 49,
   "metadata": {
    "slideshow": {
     "slide_type": "slide"
    }
   },
   "outputs": [
    {
     "data": {
      "text/plain": [
       "GONAVYBEATARMY"
      ]
     },
     "execution_count": 49,
     "metadata": {},
     "output_type": "execute_result"
    }
   ],
   "source": [
    "ACS = AffineCryptosystem(AlphabeticStrings())\n",
    "m = ACS.encoding(\"Go Navy! Beat Army!\")\n",
    "m"
   ]
  },
  {
   "cell_type": "code",
   "execution_count": 53,
   "metadata": {
    "slideshow": {
     "slide_type": "slide"
    }
   },
   "outputs": [
    {
     "data": {
      "text/plain": [
       "BHQDWVUTDODGZV"
      ]
     },
     "execution_count": 53,
     "metadata": {},
     "output_type": "execute_result"
    }
   ],
   "source": [
    "c = ACS.enciphering(17, 3, m)\n",
    "c"
   ]
  },
  {
   "cell_type": "code",
   "execution_count": 54,
   "metadata": {
    "slideshow": {
     "slide_type": "slide"
    }
   },
   "outputs": [
    {
     "data": {
      "text/plain": [
       "GONAVYBEATARMY"
      ]
     },
     "execution_count": 54,
     "metadata": {},
     "output_type": "execute_result"
    }
   ],
   "source": [
    "ACS.deciphering(17, 3, c)"
   ]
  },
  {
   "cell_type": "markdown",
   "metadata": {
    "slideshow": {
     "slide_type": "slide"
    }
   },
   "source": [
    "## Vigenère Cipher\n",
    "The Vigenère cipher is a method of encrypting alphabetic text by using a series of different Caesar ciphers based on the letters of a keyword.\n",
    "Let $M=M_0, M_1, \\dots, M_n$ be the plaintext, $C=C_0, C_1, \\dots, C_n$ be the ciphertext and $K=K_0, K_1, \\dots, K_m$ be the encryption key (which is repeated until it matches the length of the plaintext).\n",
    "\n",
    "Encryption works as follows:\n",
    "$c_i = Enc(m_i) = m_i + k_i \\mod 26$\n",
    "\n",
    "Decryption can be performed as:\n",
    "$m_i = Dec(c_i) = m_i - k_i \\mod 26$"
   ]
  },
  {
   "cell_type": "code",
   "execution_count": 55,
   "metadata": {
    "slideshow": {
     "slide_type": "slide"
    }
   },
   "outputs": [
    {
     "data": {
      "text/plain": [
       "THECATINTHEHAT"
      ]
     },
     "execution_count": 55,
     "metadata": {},
     "output_type": "execute_result"
    }
   ],
   "source": [
    "# We use a Vigenère cipher with a key of 14 letters\n",
    "AS = AlphabeticStrings()\n",
    "VC = VigenereCryptosystem(AS,14)\n",
    "\n",
    "K = AS('ABCDEFGHIJKLMN')\n",
    "m = VC.encoding(\"THECATINTHEHAT\")\n",
    "m"
   ]
  },
  {
   "cell_type": "code",
   "execution_count": 56,
   "metadata": {
    "slideshow": {
     "slide_type": "-"
    }
   },
   "outputs": [
    {
     "data": {
      "text/plain": [
       "TIGFEYOUBQOSMG"
      ]
     },
     "execution_count": 56,
     "metadata": {},
     "output_type": "execute_result"
    }
   ],
   "source": [
    "c = VC.enciphering(K,m)\n",
    "c"
   ]
  },
  {
   "cell_type": "code",
   "execution_count": 57,
   "metadata": {
    "slideshow": {
     "slide_type": "-"
    }
   },
   "outputs": [
    {
     "data": {
      "text/plain": [
       "THECATINTHEHAT"
      ]
     },
     "execution_count": 57,
     "metadata": {},
     "output_type": "execute_result"
    }
   ],
   "source": [
    "VC.deciphering(K,c)"
   ]
  },
  {
   "cell_type": "markdown",
   "metadata": {
    "slideshow": {
     "slide_type": "slide"
    }
   },
   "source": [
    "A Vigenère cipher can be attacked with frequency analysis if we know the size of the key.\n",
    "\n",
    "If the key-length is $t$, then the ciphertext characters $c_1$, $c_{1+t}$, $c_{1+2t}$, $\\dots$ are encrypted using the same shift. Therefore, the frequencies of such characters are expected to be identical to the frequencies of standard English text."
   ]
  },
  {
   "cell_type": "markdown",
   "metadata": {
    "slideshow": {
     "slide_type": "slide"
    }
   },
   "source": [
    "To find the key size we use the Index of Coincidence Method.\n",
    "\n",
    "We sample the ciphertext with period $t$ and calculate the frequencies.\n",
    "\n",
    "If the key length is $t$, then the sampled text has the same frequencies as the plaintext language, otherwise the letters will occurr with roughly equal probability."
   ]
  },
  {
   "cell_type": "code",
   "execution_count": 58,
   "metadata": {
    "slideshow": {
     "slide_type": "slide"
    }
   },
   "outputs": [],
   "source": [
    "ct = AS.encoding(\"\"\"\n",
    "YOVTZFJBUOYIPWRLHISZQHEHCJMFJHMLDGGYDZDRDLKECXAYGAJSPFOWYRLWALNZWHOZSAFIFMH\n",
    "YVGWBNUVAHMLIWLULTLBTYJGZNJZLPJSZWTRHUABILVVKTBCVWGLKGSCWVUHNAZFOHHJWKMLIWA\n",
    "DCVJMXLEKSXYVBSHAKZSNYFOBJCZVSSJVQSYTRVORPEGHFUUNSWFJMFJSPVCNUFLRWLREPZAKGA\n",
    "TYIGKNKZWOSKKGRFFZOCZSUMBGBILVJUDQGTBCEMNTDWRNHKWDZYGGGJPJLCUSRUSGLWGFJAYWK\n",
    "TYCVDQHZFZDZLUQNUTLZDHEVKNAYGIYJFEAJUKSGJYZWGTMDWFJOFMGJOFDRJCVFHXPELVJPIUC\n",
    "SZVIIJUTWGYOVKSJCVFHXORNSYLIJWKPVVVFCVLCWALJSIORNSILJLFTFVVAJFVLWBPCDBTARLH\n",
    "JTGLHTLOHCZUULVJTKGAJAYWMMHMWDWLJWBYLUDWYACWPZAYGFWVILCRHEQHMLPOWQSJWSRSVKG\n",
    "YLIJWGSVLVFUSSFTXLWGMLIWOKAVJDJYYSDXZFESNUKWZQLTLAFFSWTTBEVKMPTZKNSCJSIBTWA\n",
    "DWYSBYHJEHTAYWQTTDGBUSRUSXVDWWSAVDZJJKECWLTSZRTFJSQVXAQFSRFRKHIDSXZVPQNARTZ\n",
    "JAYSBRFFOBBOZUVBPCDDJYTWWALZFHMLTAFHBDKHFUTWGNKVLONSNAHMHNWBTAYABLTFJSYORFO\n",
    "SVIVWSHIQGZJTWGXPFFCKCVJMSHKMFFSTSIXLJSBILWXSHAJXFTTDQWSMRFQDPNSGSVKWRKVILV\n",
    "JKFUWQPKQOSKYMAFUZLMTMDQRNZGGGNAZGBRFKWBILIFSXZFXVJHILKFZVNSSZFUCSZGAQZVLKO\n",
    "XAFEOPLDWHMLAWGYVWEMHVDHOSPFFGNDRKSXWVUWFSCQTTUUGTFUZEOQZRFRBHJABIBCYSIIPEM\n",
    "UHIWBYZNAHMHXJSFAMSFNLKQCKWVLGBPKZHMLJWWXWVFHRVJLCKTPLWRLRFRSLMWFBHJKCMHGHM\n",
    "FZNZSSMVWRNUXSBIJRJSXZZFUYOVEHMPJHSHBCAOWVWUVFYRUHJYXJSBDZLVRFXJCBAYSBIPEEM\n",
    "RHEZCTKZVSWPMWRKYFEWYVEWCKTPHFNUTADFSJGIWJVKCKWCWOXBIWHTAYGGJDYGVFCVUVJYZKV\n",
    "JKRFOKMVUHNVEXCWHWSWYOWMZFUUKOLHTACZZUGUNUVWRMHIVZDIVSHYOVLFTBSDSTMVPDQHZFW\n",
    "SNKZSSHKMFJVILVJPELSSZZLMTMKZSLYRLWKPTSHNVELVZZUWFNCRTZJAYWFJPJKCRLKZWSNZFH\n",
    "MLLFGJSWAGMHEVGJSWKOHYZXWHPEYZTCVGTFIIMHJDYAQMNFWGIPIWQYSPLCYOVZSFYKGTMPDOV\n",
    "TORKVFKWJSVBVFHTJTSGNVELCYLJLHMLGSZYYPXFNLEVGMPGSBINFKGFTVJTNKVDWYFFXAJYVEO\n",
    "SPDSFWPVVSFYCQOSKNSGMHGHMYVWABIPEEMBPWWOIPJHCXPKACSUFLISJFFUJUZSZBPKZADVNFC\n",
    "GZVJJNUXEMUHILWFSZLMKVIVCRLJLWHWVLGXOVDCXAEGCUWFJHZUZLMTMGJCHBIABLAYGGJVWLV\n",
    "JTFKHFNIWSFICWYNUUOSMHUTWWKJYCQKWAGMHWABJKFYFFISAHXHJEOQSDGBPLPSBIHTSHYOZKZ\n",
    "FAKWFBHJSFJTRJYFICQZFYXWOSKSWOZAZXIQHEAAFSVFHNYVDMGSRUYFUUKOLHTACZZKGOSHJLC\n",
    "SPJZWSNUWUWLVABXWVSYNUXGTMPJABYLCDWLLEUSRFNATJDYGOYOVSFYDRKBTARDWYACWHNUTLI\n",
    "WLUOWYOJMDJYJLWYPFFAFKVXFJXLWBYHCDIXPFFHTAYWOSJZWBYWFHIQHIFCYPFFKMPTZFJNRJR\n",
    "JKRDZGSRUYHHKKOXDZLQMLJABIPJYINZVFCYAYSHXOVOOXLMWFXLIACZZLHCSAYAGUVZFHFUUAA\n",
    "JUKACSAYWAFAKWFFARDZKVIFCGLKLSWYVSGTUKZOSAYSHNAYSDULEKXZZKFCBAFTSWLDWAGLIWR\n",
    "USLLCYOZKKFZKZSHHKKBFTVOOXTPXOAVIAHJWVLOSKGDODTRLSNHCGBJMVVVNTRFRMLRLHJUUWR\n",
    "RLNZSWLMWFNDVFHFIFMHYOVZCZZVAHBHJWJJUNAHMKZXTNJLDHDAYSHNJFMZIWIWJJUKZWRMIGA\n",
    "KVCDCBPEYAJAYJCZNYLVJZKJSJAJGIWMIASSKJZWUSRKHJKZFHMPJEOSUVJTTYJWJJYRDMJHIKR\n",
    "ZYZFUBOZUVRFXWBJYRDHJTGWFFTVFHFUUUVFYRUHJYKZFTBXZHMLZFGYYLESSARDWYFFXHMLWAS\n",
    "SKZFHJTGWFFUTWVFKZTZZZYLCHVEXSXZZLSCWVJWJUTWRFYRVWHHCSZYLISHNVEXCWAYWKTYJWW\n",
    "LYVORFFSQRFFDGFJTFGRDTFJSNYIAHFICWATYVJSLHIVZJZJGTYOVXSJSZFUXVWGHMLIKWXBWXS\n",
    "WLUEMXLCXHTBJWWSAVEDJYRLSQHEYIFNVLCRFRLZJUXLVNLMWBTMWWFJKYWFULIKCSHCNWTSVFQ\n",
    "JTPHSYZFXQTBIKSBLIWAFKVLCKLVDHMLTZOSNVABRFUAGUVJAHNVEABTAFFZDUVYZJJKWRGBKAZ\n",
    "QBJWRYOVETTYGDIYVYGKJCVJWXAZDZWLKSWSLUKIKMZUWJUKJSLHIVHTYVKHWHZFAJMIGARHCLF\n",
    "JHKABLOZEOXPDSRJUFKQWBGDSTMDSZYYVSHNUXLVJYRTPNAJLVJTFFYJFFJSALELVJKFYKMLETM\n",
    "FJTARJUKGFYOIGILORXTJJKACSAYWMHHDWWSTPOODILLADKZKSFZVYFJDLHCSTVXCWDYSHIPJWO\n",
    "XLZKZNRVSZHVYGZFUUSHQLEYHMLMWBUSLLCBOFOOXUFOPJJFEWSNFDRFUUUCSZVIIJUKDMXVDWK\n",
    "MHKHSJCZKVJCVFDQBKGPJNRFHTLOHSWPVFQJAYWSKMVUHXVWEMNSCLSRWVJCSLEAUMAIWHZYEAB\n",
    "LOFESRBTZWSAFPWHHKWRKYFECSLFXADORMBYZRTCZAKGKSPWSBHPVVHMHKLVJJRLOAVZVSITPHF\n",
    "JZVFQJPJWWELUZWRDYWBNUYAGKYZYVYHKEMAPFDSSJVZSNUWDWHAVVOXSZYVYDFMBIBGGBRFYSB\n",
    "IDZLVMPJLSJAYLVJMLJMTMRVSRVEABXARFHQFGGGXLJKSITVAYSLNEMXLCXBTSFFUJYDQCWPXAB\n",
    "FSJGIQZVWAJKRLCSJVLCYHBWWYZWDWLOKXFTTDQPTKPSBIHDGFJAYSBKPVFRNZYEOQLMGZJUTWU\n",
    "NUEMFYBIWRYOIAZQLUWJJYPXWGYVGTRFWJORLZLCTRWJCRTPOONZKUCFAGGQPLKSDJUBFWKLFHS\n",
    "SLUAHLYRKDJKKZSUVFJPJHJLPDAYWHMYFSHFUUVSQPSWFFAVDMHBKGBJVWAHXLPWGKYFEHMLJGQ\n",
    "PLKAPQBJZWGBIFWXOLVRJYNZWQLZHSSAYWRFTESPQLRLFTJZLMBOVFFJHJGBWLKMFSLUOWYOKZS\n",
    "RVIFWSNNZSSPYSRXSVHHTMWLVJMLESXVWLVJUZYVYZUWPFBTZWJEGWFNLEUSIHJWBYPDWBYORDT\n",
    "TMYGFWVIZOQMFXFJTFJGJMFJHMLTJWRLFXKMPTZWMHUTSJUXMWQAPTIYPKOOXHKTSXARXSJICWO\n",
    "SKVIINCFUOQMVWZNUXSBIAYWGTBCJSRHZFSIBELCZJYWRNHXSWSWCMBLLUABYVVPQJZJSBIZFGB\n",
    "IYFOBJKZFKNUVSZQTVECWFFXHMLUWSIPELVJTVSBYPDWHMLTSHXSFOZDYVUCALIWRYOVKCHRVLC\n",
    "KAYWZTZKWMJWIWGJUKWRNAZKHWBVSTWPXZHKBCSDULRJOSJVTIYOVFCQVEYSWHGHSFYVVHTZLXT\n",
    "JYRFMUHZFVJDVFHFIFMHYOVZCZZVSGZZLSZGBKSGRPXZHGLVPDJJKWRKSVVWSLOLFJTVLSWYFJO\n",
    "YTPSDUYFSQMPYSRXVDMQMVWEMTSUZSFYKDSKARKHTIVSHKPIKHLYZWJJKSQHMPJWJNKVFHIPJDW\n",
    "PLFFHMLGSFYVWSQWLRLIWLNZWHOYSRTUTWGTSFNSITVTIYAYAGKLVDWSNJGCSNRNSUSRUSYVZJF\n",
    "NARLWTURFRYOVFQFTVSGNMKGADMZFOQHEVWWYVNCHHSDSTCVJHMYFOHMLJHWWPKGTULINSWZVFS\n",
    "XZFXHMPJKDNYZLDMPCGGTWYQHFRVKBTHTUCZUKQSYPREBTADGFJZLJSYORLADZFMZQPMWGYORFW\n",
    "FTKZOYWVJJJYJWBJZJAGTUVGTYOVHFNTZLWALZEDZSJWGTMKZSMBDSBMLRJHTUVGTYOVABIPMAG\n",
    "NICWDWPDSFDMRUIQAZWGTYJWBYPDWBYZNZWHOXAJJKZJSHAZGBYVKZSHORJOHAVJCKTRFKMVYSG\n",
    "SVKSVZUUJSIAZESXMFMBIOZEGJSWUCRTZLHNUXSJNSVGFFZZDZDHTLWTUWGFSVFLVJYIWOXVELV\n",
    "FUSWQFBJWVJREGKXOVKVTBCVBTAYSJJDVFCYHGWFULKMOQPEUZNURLWTUZFHMLKWSYOFXCZYSWG\n",
    "YQLVURLELHTCZGZFAVLVFANZWHOZKZFDDWFJSPTSHHLKSBLLFRJYJLOSKZLHTIVKIHOKZWXZGAF\n",
    "NAFXDJYMWFXLEWGXPJSMHHDWHTTPXWSHCGJJYKZFTDZLKFZKZWXBEXOYOFEOGSVDCSNZFUTMKZS\n",
    "XVLDHTCVPWYZVDTYVFXTJYMACQLEUSYVZLGTDEFOYBIWHTKFOFTUXXCWAYWKWVEYGXHBWCSSPLV\n",
    "FALJUJKDWHTJFFHNULWOSKWABFSCQHTJFFGZTDSHJAYWWSQLJMNORVWSMCAQYLUMDTUKZSZUFXT\n",
    "JUUABLIIMHJVEWATYEABLPEUCTSSDCTKZKZNWGWRFUFGGJHSGIYPKKBJJBSBIOLFUNAKGHMLCAA\n",
    "GVWSHWLVZISNZLKNAYLVJAVSFXZKJSFTZFUKYFEADLPWGFUUOWYOKZSGPKLSWLJLFJTFJGJHKEM\n",
    "MLRJHMBEYWYIVUOZZVAYSLNLVFAZLVFKCGJJKDWOSKSWQFBJWWKLCLWYORVUNCVFAJUFJSFZFFC\n",
    "KVWXSSJVZISNZLPJJRMGJPBFSBAYSHNUJGRTPEYWBHJUCRTZLHNUXSGNURVSFKCQGNUKZOYDFMZ\n",
    "IZFBSTWRJRNGVEMNTDGFYHCKCZSRKHTWCSQJPKATXBTZOYOZFUBLIWDTZJAPQLVNSSIVQCSKKZS\n",
    "WLRUVTMKZSNUWABNAVESWJPGTYOVECXADWFHPWMZFUUECXAKWFWPSDSLVUGBYOVFWLOKGTYOVVO\n",
    "DVEOVNJYLVNZTJIJSUWSIDRKRTUVAKFZRJCZZVVTWVDKZJLGTMYOVUFDVWXWWLKZSHBILONUJGT\n",
    "RFSWRBLIWWSMCSAJZKZSBOFDSMVLKSBHJTZFGZFUNANSGBPKZUWLRLRNMWAQZSKQHMHKEMBPWWO\n",
    "XLINOSARFRRFJWZKTRVSTBIWGHHGWTWVDLVJJFFTQHXJOYPFFHMLUWGYYLUHNVEOOXJFEDQLKWA\n",
    "DLELWWLNGFQKCQKJHCLVBHJKKFSCGKJKLHOSKZJSXPXFSITPKSQMKZSSJVXCWDRJRYVUWGUHZJW\n",
    "FTRTCALKZSBLRCBJZJGTXLVCWSNKGSXARTZNZYSGJXLWBHLFXQFBJWOSKVXTJJKTSYDVWBYOVVW\n",
    "XHJLSWHEVHMLRLFTJZLMGBKAORKVLONSZFUFJYSWSVWXOHAJSBIDZKVSVKLCQLRNSJCVFOUVJKW\n",
    "GSVDWSRZEDJYWWQYVELVJKRQGZJTWSIPEYHMLWAFJPMAGNAVVHMLIMWSZKZSBHCDGBPKZCSLVPQ\n",
    "JWKACSORVTFSCWBNUKZWXLOUSUAZGBBHJXCZUUABFJFEDFYKESSANSZQUFLJJYPLVNJBOVNJYKH\n",
    "TVUSPTBKLVJTZVRQLFXHMLYGIXLRFRFNRABXANZWHOYSRWLJLSIAYWVJHUGTRFSWRYOVHZFZKWF\n",
    "NUXZOIOVJSNUXJSFADWOXBIWFJZZKHJKKZSFJKACSVWLVJMZJSFMRUHBOZUVNHKLFNILLSIAFAH\n",
    "XORNWSNSWSSYVUSSACQGUYVSRFIFMHYOZKKFSCSRJUJWQWVNVKJYVUCQSVUHJKRFRRHEQDJYJGB\n",
    "XZVWAJKKGPJLOSANUZFUFWRJHNJLDOWWFJHNVEGTNANAHMLMWFDTZFIYLRFRJHXWFFAKWBYPFFH\n",
    "MLNGFIZJLFFUXWGNUXMZFYRFRTAYWFXPDAZFYVPDWLJKWTUJWLHPKWRRFTMFNVJAHDPRHDWVRUV\n",
    "JKRFRXHNSGNMXJOALEABGHJJSQPVXIUVELVJDYAHJZLJTFJVLVJMZYIWLFXOLPXSBYPTUOYAYWW\n",
    "RWIWGXPFFKFZXAJJUNAHMHESQHBISQDAIMZDTRJJJSCGIXAYWFJDRKOWVGWOGVLLHMLRFWRHCKB\n",
    "JJBOVJUZXWWZKTSMLCVHMPJSDUHIAHNVEXCWPTGIQKJUOWJVDMWLXSFIPKSGQLJKADDFFRJYRFR\n",
    "RFKWFWVIOSWLVPHWLDWPZARLZJUXLVWLWDSHAZGBHHDWHTTPSWIAYWQFAZJSRLDTSWLUZOIIVWB\n",
    "MBEYWSHXSFILESROHTWBYAFLVJOFMGJBGGBYOVSZFYDGTKPIWHMPJYOWKVFVFKSWSSPDESIPRLS\n",
    "QFWAZQLUTMYOVUFTDUTMXVDWCSLFXKMVDLVJHEAAFSDMGYORNSGLVFQZAWJCRAYWHWLVSBIAYJC\n",
    "BUKZFTBXZOSVGWBBPEVCBPELCRFTZORIVJHMPJZOIWIGPFICQPJLEVCSLNAHMAYWJNLNGTFYFMG\n",
    "NUXESKYFEGQLVHHMLWSZQPEYCKVKZSWDRDZXORVQTTGJSXZVVHMLMAQYPDGTRFTJIJSKQWSAFLV\n",
    "JZLTGYHEUSTMKZSKYVKVQFJHFJHUHZFZKWFYOVDWRLFXKMPTZVFKKZSSDZLVYOVXZFTVKOSKKZS\n",
    "FTDGBNHWJCRAYWQFYTSGXHTUCRWCAGMLULVJWFJHWHZLIWLRKWXHNAHFSKZCZNYAHMBJJSFKZDM\n",
    "FJTGISAVVHTTPJSFZFFWKUFLOQAFYSYOVJHTTPUCSZTASSJVXCWAYWGYHILZNUXXOHAAMGYKVLO\n",
    "NSVVWYKZVBTAKZSQLJKTFSCLCRHBWOILVHWRWIWGXPFFIUVEEMKHEUMKVIECSAYKWHVLDRSVKJW\n",
    "ITPKSQMFXHMLGZOSARKATMKZSHHKSBIKLJWSNKZWXWVJWTKKZSWLTSAJIRUYNUKGADZGAFNARZO\n",
    "QMJWBYPDWBYAYSHXLVESIILLKFZEGHWLDGFXLZOSSAJGTFYRKHTYVYFJAKZSQVJKCKAYWOSPDSZ\n",
    "FUULCQVFCOGVLLAJHDGBLAYWJNSVZOZUKKKMPTZWSVNZOGPKMOQSPXFJXLWBYLUXCWHEGHMLIHS\n",
    "YVWLVJZRESXWVUWJZRFRTMJGAJDYSHXPDAZFYRHDJHISBHLNAHMDYAQMAFKIUWCQWYZGDOHLFFS\n",
    "SPXZHFZZKOYORDTXALHSKPVVWSHUWBTMDGFJAYSBNUWSADTPSHYLELWTUNSGXBUVSSSPVFFDELC\n",
    "XVDWPQHTCCGQVUHWLGGGNUXMDTUKZSMLRVCKVEWCKAYWWRTVFGJOFYGMLRVGTMXABTYFXFZTNZW\n",
    "HOTGBXAZLIYLULVJJYASKMLJBNALJSTMKZSFWRJHRLELWMHUTSJUCGCPPEYGYLRVWQFRLHMLKGD\n",
    "TMKZWXOFYGMLRVTTYJGAJTZFIYLJSBIDYSHSVNUOZZVVAJZLJDWPJWKFZKZSKHTLHMHKAVFKEGH\n",
    "XVFFSWWVJQJPMWRYOVGPOLTLHMLIWIUVEAOUWIGOHOVVWYHEVHTBTZSIPKOWYODQVFUUAHBHJSP\n",
    "QHTCQFARNSWFCSFLLFFSKBCDMFZCSFLLRKDQBKGOSKTDCXLCQFJZVEPQPEYVNTZFSALIQFJZGWQ\n",
    "YILLCSLGDIYVYSRSVKSKMPKWVFPIMDTURFMUVILWTUFXVNZSGRDILLHMPJUOYORVOQHIYSFSKZC\n",
    "ZNYABILWABNAVKDQVKUVTMNZWYLTGJJYZFUSLRJZDAYWKMVCWFJNZGBTMKZSGYVSGYBGGBRFKGI\n",
    "HOZFUMPDZSNTDWRNHKWZDHIGGJWLJFJKCGIISPJIGIVVOLHZFGYTPZOSKRFRFWGWOWLUVSQPXZH\n",
    "JKNAHMTPFCYPTWHMPJLVJUNSGYOVNSWFTJSFALJSTMNZWHOZOOXPEKSFYTZWFAFFQJVWXSWLULC\n",
    "UBIUVFZVAHTMKZSQHEVZTYUTIYAYAGULIKCSTRVSSVTDONTKGWYREWKSVKZWSNFXWYORVBJCVJG\n",
    "JLEAHGLWGFJPTGBYPEMSITPUOWLJKSXHEVKMLEADWLGSFJKKGUTOFESYOVSBNTRDSAPEUSIHUAG\n",
    "UVJAHNVELCFJTGAUHEQAJPGWFRPKLSIPKLCIVJGCHJRKWTURDZDZKGCUPEYOSKGSHYPEYWYHJAD\n",
    "WVTWSILUOVJUZLFJHTZSIAYWVTBJWWYKFESXAZUOYLUAHXLCXOYVEUSFUUTSHHDWWRTVVWFAVDM\n",
    "FNIWOYMRNCWPKWKNAYEMBPWWTTYDQCBUGSFYPJGCSMFMBIHUAGQPBWHTPKSFNZZFUBPKZWSTVLV\n",
    "NZNSGOBJLHMLIWJJYJWCKDYSHNORVOSAZUWUHKWRGBKAYSVNFCYOFOCWDYQWYDRKWYZVNWILELT\n",
    "TUUFSXZWGFRFJWZKYRLVJYUAGLBJLSIHEVOSUFQSIIPKZTDUWUWLVKHMLJWTJLCABLZFXRNZXMG\n",
    "YHEVOSUFQOSJVJCXLZFHTAYWPNAKWFSLJKCKORLFJKZSJTPUWRYOVUFJHKMFJHTWFYHZFGJUJWC\n",
    "KZYSAJHEVHMLIWAJTSJOSJVGTRFWGFRLIVSJKFXQWBVDHDWIWJJUKABLTVXFTTGZMXPTSZQFRTI\n",
    "XPEYWYPUARSVKXCWZFESBLVCGXAIAYJVIGHMLIOWXLMACQLELZDPCDIXLZLPZAXJOIBRDZDCVJM\n",
    "LYRVIFSCQWHHDWHTSFGYZWFFWYDZLVZULLHJYRTZJSFSHMPEYOSKKGTQLVKWQLELZDMIGANAJGR\n",
    "NVLKDWLJWBHLRKTWVDLVJIIWOYOFXOULJLWQLEUSBORLOIKVVBTKFMPYAFEMMHKJSIVWLVJIVSG\n",
    "YDRKHMLUAGHVMWFDVELVJTFJBNUXSTYLIAPWVLYVYPKZCRLKZOYSZCSUSLLCNARDGTORVPJLEVS\n",
    "UYZNSIVWGBJVWAHXLPWGYOZKQNYTMAXARFQJOFOSALIGBQFVFRJHIWRNAKGADDZXSBOFSGNORNS\n",
    "FSIWOIFJSWIWFKGJZJWRNURZWLOUWUWLVLVFAYMAFUZLMTMWWSQPEYKMPTZVFKFFQJIVWBRFUAG\n",
    "YPEYINZYABLAISWYHEVHMLJGIWJVGTRHEQCKTPKWRWCWGYHEVDZYVKHUSVSGZYVKKNAYEMFCVJG\n",
    "NVELCYOZKQFAYGKJCVJWYZGSFYPRDWYFWGFRFJWZKZVWAJKKGWSJIWOXLZLTTSCGKJKDQTTVKKH\n",
    "JWJOWYORHSWAZFOHPKQKMPTZWYDFMZIIVVWKMZUIQAKGAFRVLVJYVSRJYTGAUYVZSSKNZSSLMWF\n",
    "NZRLWYDFMZIJIGIHOSWBJHKZADJYSWWVIKDWPEYIUVEEMPUVWGHVMWFNUXESBPKZWYZCGOYOJGA\n",
    "JJRJSXZVKWKPRJCXLKGKFSBAHBVLDRLLKTSYDVWBRFWWSYHEVHMBJFSFYCQHMYFOAJKFOBTYWSG\n",
    "YLEABLPKKZTUXSBIZYSFUJCSKXPEEMIYVKGHSREPJYZFHMPJEOSUVJHTTPTFJHJLOYZLUVYPDWG\n",
    "FSKZCZNYAZTUXWRYVUWGYYFQWYDZLVFICGKNDRKMJANAHMOVDRKYFEGTKFABLWRJHQFZLOYIPSA\n",
    "JTFJMTMDQTTYDWFHYZESGBKUVNLWDMQLKESHVEXSXZZLOYVEUSGFRTGTSLLSIYVSRTMKZSGLRKH\n",
    "YOZKRWLRVKFZEGHJERUHQFRVFJHUGTUOPKWHHCWJNSRFRDLKAGMVLDRGLRLOQVJKVTDFLVJYNAG\n",
    "JAFVSKPEWWYPREOQTFKHFZYSAJKKGCBUPWGJCVFWSAYAGKLCGBXJVDZNHDSZRVJLOXORESIAFGK\n",
    "SAYSHYOVLSWYFJOSKYGFWVIOWYONZWHOKZSFUZEOQPEKDNYVVAJORVPJLEZSNNYLSSLUTMTUVGT\n",
    "YOVESWLJLQMPDSSWHJAHBVLDRGLGGGXPSDSYVTGBHLZNSRFNATJORVQFSCWRRFRLHJUKACSTFJS\n",
    "YORFCSJVLCYOVUVFYRUHJYFXHMLDSFPVWOVNAVZONYFXKMPTZWMHMWGUVBWBFUUOVNJYUCSZKAH\n",
    "ZAVVHMLJGZJCZKWGSVVWKMVJSSJVTSYDVWBYOVKHWHEYSGLRKHFUULVJVEWWMHUQGNKVKHWVPWR\n",
    "YOVJSFKVJKNSCJSRLDTSWAYSHYOZKAFYBSZYOFMUMSRJUJORVPJLEGFNNZFOQSPNSWFZFRJMZFW\n",
    "YLSMHGFJDCBKVYFJLJVSLYVWGSLRJZDPDHSWJVHHNICWOSKNZWHOWGFFSFFUYPDWADYVSGTUJLF\n",
    "ZNXDSIAFJSOLTLOXMRFQNMLDWYORVOYSVFUYORKGZTVVOWPXGFTBJVWXAZFQYUVKGTMFMHQPEWW\n",
    "YDRKBTDKZSWLGJSXLELOYPFFCKHEGPOLTLHMHKAGMBUVSWAFFORLRFRKVILVNZRTCALRDZNSFSH\n",
    "MLUSBIKIWOILUSBIDFMZIORNSWPUEMXLCXCKAYWATUJLSWORVWIHIWRNANSGSVNAGFFKZSNTRYS\n",
    "TMRZWILFMGTMRYVFZKDMYOZFUTMKZSLHCDCBZFZATBIFTZSRFRYLIJWGSVWBLPEWCKOFJFTYRFR\n",
    "TMTJWRLFXOLVEQOSKFXRJHKZOSKEGKBHJAWSKVWRBYVLQMLUTSDVEVHMLNJSYJYWRSLJKCKTVJS\n",
    "MBDSBNAPSBIHSJIYLSWOXANZCXLWWZQVNAVFKTGBYLDHHZVLKZDKVKHWVPWRFIIMHJIVSGYAFOC\n",
    "WRFMHKVIESKVIESFTRFTFZYACSLUABYOVAAFNVGTYOVZWLOXGRXVDMQMVWABXBWXSWHSDSBVRDO\n",
    "XUVAHMLITMIHPFCWIPFWLOKCBJDZLVJICWGXPEYCKYVKHFUPECWLUMFNUXLVJMFJAJYKZSHYVSH\n",
    "ZYVDSKADWBTTFESSARDCSLRFRNUKZSQHKLSWPJLOWAVVVTBIDMKYFERWLREGTMLFIYAVJOGSVXS\n",
    "FYKGTNUULVJOFLPWLRLVTMKZSYOZFUZWFFADMRUSFUUAHXCRKHBLZYVYHEABHHIFOYLEAUMADSF\n",
    "JAYSHNORVBTWFOSWAFKVFRVGTKPEUIRIVFHJAVJBFSCQIUVEEMMLRJHGLEWOYOKZSUYVKGZYVGT\n",
    "YVIESSAJKIHORKHMLJWHMLWWSGSVJSRURFHTMKZSLVFVKNAYABRLJMQHBDTSILMAZYOFMUMAJTS\n",
    "HHDWADZFDSNUKAAFAVKHMLUSFPLJLOSKDGGYLMAZTMKZCZNYLGYOVECTKZFSXZFXADBJMOQAVED\n",
    "JYZFQWLRKSIAFZOYYVVCKHCDHMPEYGFUUGTFSCEOSRZFRBOZDSKYFEHMLJMRILEXFJXLWBYHEVI\n",
    "SNFNSWURTZJVLLPZYJLGTMRXIWFKGKMPTZWSVNTZNUUDMFIRFRTUVVADZVDTRFLFQTTGDONUZFU\n",
    "BPWWOQHJOOXAYWATZKMGZHCSBIAYWATZKHOYPVFHTMJMTKLIWFXVEWRFFJZSFJTGAUHEASITVMD\n",
    "TUJGAJOFMGJOFDRJYISBIPELCYOVUSQSRJCKAYWCQKSMWQKZFUBOZUVTBIHCALILMHVDHSQSVVI\n",
    "XAFABMHSAHYOVUOYMFDZTDVVAJKFOBYOVKHJLGKHFPIKOSKEWOWSPLVWVNABLTVZSFKCGBLLOSG\n",
    "ULISHJKDWHTTRVBJZJMDQPWLWSNRFOCLRFRKVIYSYAZFUNUDQKWHKZHMLTZWQKZKVIYVSRBOZUV\n",
    "MHUZWYOVJHTZKSMJKDQVFUUAONTVVOGSFOOYAYWOSPDSZBOZUVTMTGIWZVOCZSUZOALGJCALUAB\n",
    "XARFHQFWSHFSYSRNAUWGHLEVSIHJAKNZYWRGBKLVNZSDCBDRKOWYVKHJKSQHMLYSBIVWEMBPWWU\n",
    "THUWRGFKZSNUKWFKLIWBHLZFHTHISUJTFJSYORFRJTFFWFJRDWBPKZRWLNEMFYDXFTTYWFLYRKD\n",
    "FUUTIWPVVHMLRPSNUYWFGYRABXOVXSQSUWOIBGGBYOVKDTANAHMVLLOLYFSBYOZKVNKVGIXTLJR\n",
    "JYRUQTTGDWXOVVWXLKEMXLCXTTYKZKNAYSBIDZLVJUKAFJKVDWGLISHNVELCYOVLOXRFXQTUTWO\n",
    "QPEYHMLSGRDPBFSBAYSHNJFMZIUFLFJTFNSNAWJCRAYWVTBJWSNAYWFGFUSMTYSQBNNYLKNAYGI\n",
    "YAYWFNZBGTGLZFUTIJWFALUTMYOVFSNNYTCWZDSBDWIGXJJKKSSAVJSITPEWSKRLCSLGWFNVUAH\n",
    "MVLYVYVWUIYAZFUYOVUCWWJWWSAFEWSBKWTWHXESSAJSBIKVKHWVPABLAYWAGFWAFJHKSBTAYWF\n",
    "NYVKCQCVVHTKZYOLYRNSKVIAHNUKZSKSFGFTMKZSHLCDOWHXSWSPUWZNIVJOYLUSPTBKUOXAZFU\n",
    "NAZFHMLNWZQPELVJFRJRFIFMHUHTCWSNZLWSHSGLFZZXAJYTZOSKZRSBPKZHMLLKIFSRJFFUXWA\n",
    "JUKKOSKJGUJAKABLHGGFYLILCYHBWWYMIGAYOVZCZZVXWSHCDMNOZLIUVEOVFAZUCSZZVSWLUST\n",
    "FYSWHYLIWLULUASSAKZOSLZLVJYFXHMLJWWILKWFRPEWRYVNSZQPKMDNUKZSHLCDOWHJLVJTFFY\n",
    "XVWLVJTZVRQLRYSXHIWFJJFJRJKKGVFCVOOQSVVIUAYWWWCZUHNTJXCWHGMFUVJWGZJYSGYOZKH\n",
    "MLTWZQHIOOXDVDZFKRHHJKZLGBHCDGBLIWZTVJWZDJFFGYYLUHJKRFRMHUDOYLCQPJLEHZFZKWF\n",
    "JKKZFTBXZCZANAHMHIGILOGDOXAVJKMPTZHMLUSAUUVKGTMKZSFADGGUOVJSMHUHFJCVFHJKWJC\n",
    "RORJRJUZFURVIWCALIABTUVGTYOVOOQSJOOXHGJCOLTLWTUTSIXLUTMFMRDGJJYAASLPGFKPIWD\n",
    "QHTWHMHKZOIIVWBKPCDSIBGSBITRVSYVIWGJTSDSYOVJSXAFXHMLTWZQHIAAFKVFCIVLTHYORLW\n",
    "HVLDRWLRVWQFUAGUSRUSYOVSHYOZKDTPELWSZVJHYOVUCWWJWOSKNSZQAYWKMVCWIUHJTSKVIWG\n",
    "TAYSHSVVQSHVLDRILKWQYHEQHMPEYGZZGAQNVLKOSKZFHMPJUOQJLDOYPFFWBHJFCYKVUSNCVVP\n",
    "DTVSBXVWSQWVNTOWPVSGNSPVWXSFVUJKKZSGYZUYXHEVVFCZFUHHIWTZSCQRJWFKWYLULVJIFVM\n",
    "FNRABXAKZSNUEWFBHCDWUYFHDJKZLWSAYSHUVJAHNVEOVNSVOWYOCAHYSVLFTBSDSNYVDONKKZS\n",
    "BOFDSXAIMQYBIWOXPKGFNNZFOQSPKHTVUZOAPEYDWVTMFJKDGFYHIKOSKRFRMHZJKNAYWJJYPHC\n",
    "XZZTZJWIWQFBKACSPGJSUHIWRFWCSGYLIUCZSUFCYLMWFDWFKGGLUAGYPEYINZYWRKYFEHMLFDR\n",
    "FUUOWYOKZWXPMWFDJRJSKBCDMBLELCALILVJUVOPWPTCKTYBOVJUZZOIMZFWXOVVWKLCLGFAZKT\n",
    "NLULVFARDZBHJJWLOKLVJDRDZIPUFCYWIWGJUKLVJZCAUMAVKHFWGWOWHEUSTMYSJNUXTSJUUAG\n",
    "YBITSIAYWFZISAGMVELVJMCGCWDRKDNJBWRZWNAHMAYWANULLSXATSFJPCGCPLUSFTBEVHWPLED\n",
    "MHELZDHEVGFPULCRFJWZKOVJSFACWOXAKZSSTPDOGVIZOXUFLPJLEABAHZFADUVPHXAVHKFZKGZ\n",
    "TVBXCWAYWPJHJLKMPTZVFKSWSSAYWQFBJWCKZFEIHONJSYJYWRSLJKTTYZZOIHKDSSNKZTNYDDM\n",
    "WLJGZALULCUBKAHYVUWOYOYSRNIVWBFICWHTTVWHBPKZWYHKLVJTFESSAKZSWLTGIQKYSJJIVWB\n",
    "SVUGIGAFXWYZWSHJILLWYHGHSFYVVHMHKLVJJISTYFRFWRHCZOIIVWBFSRJAJKRLHMLMACQLEUS\n",
    "TMDQDWLMACZZRFUJYRFRKVIWPTYVLCUYVKSSAZLGJSWABRFGJSXLELATVUAHNZZEDTZJAPQLKGR\n",
    "JZTJWGLFJHTPDSUNUVLVJKVWDYOVTZNZJXIQZVFGJVWJSQPVXKMPTZHMLRTGJUTWCKAYWRJAVKH\n",
    "JKTJSFALJSTJTSGNVEWRNUDQPTZFEWYKZVBTADSYJPKKOUWVSFFUTWRZYZFUYOVFWLOKSBIAYMG\n",
    "KVIGBJUZYVYHKDSFZKKWSJVAHXPELFTKLUHNVEABYVKZSMVLKSNZFMBISPSBIAISBVBZDZDZCWD\n",
    "YHPWGQLGLSALEOWYOKZSGBIVSSVWEIWKVJIUVEEMXVLDHMLJWQTUUSBIAYWHMPIVRFFGSGXLUSB\n",
    "IZKAZQTPLCWTVFHTYTSAJUFLCSJVSUFPEAPWLRLVJKRKOKYVWAFUKZSRVEKHJYZFHJYIGFMHUXZ\n",
    "JKKZSUYVEWXLJXCWLMWFNZYGIQKSWVTSUAHSVDGFJTPZOUWZFSXZNSGXBGJSRLKZSLBZDHTMDQR\n",
    "FYBVSJKUAGYBITSITVTIYSZLHQLJGAJMVOWSXLAFNLJZOIIVWBRHUWPZAKZSXLYSRGLVFFJHUAZ\n",
    "DHEKKJYVVSALESGJHIUVMHUTSJUZFGYPKMHJKSMHTMTGIWZVFCYOZFUBHJLCGLUAGHVMWFJKZDC\n",
    "TRVVIUVEEMKBKMFJMVDWHPKQOXZVUIWLUMDTUKZSKVLJHMKRQCKAYWOXZRKGNURLWTURHOWAPGT\n",
    "YOVHCQPTWQFTVNSWFLFSCWVUHJKCQWSAFLVJOFMGJHEVDWVTWSILUSUFPELCRHBWFNNFJCZZZFJ\n",
    "JZKAUFAZGBTMKZSUYVEWXLJKSHBIWVTDVNSWPELVJPEKQWBKSPNSZLMTMDQDQHTWCKJFFQJHCES\n",
    "SAZXSQAEGSRIRJFFZJESSANZOYLMWFYOVGTKPTWFXIRVSRLRUQTTGSBDAYWANUKZSNYJWOWJYLV\n",
    "JFCWTYUFFCTRFJQTYEWFZUVPDQVIWRFACWBLAYXCWAYWHMPIVCWMFMFYOKAAJAYWMILJUSSKVVW\n",
    "SAFLVJJVDZFYZIINCVJSIUFLWSHDMGHSVEMMLRJHGLRLQFSDDMFZKZOYVWGBJDYGGQBDTSWZZFW\n",
    "SUFUSSJVAKFSBWRYOVUSQSRJTWVDWBIAFWBIPWGZILUEMFYDKIUVEEMGVJGAFUUJCFTVVSFZZDM\n",
    "YVRFRKYFLVJWFDWHLNWFJAYGFTBXZZDZRLWXMZWRFUUHFJWRJSIAFVSUHILHMLXDSJHKEMMLRJH\n",
    "BHJLCTZKJCSNKGPJYVKHWHZFSIPSMFSLULCXHPATGBKGBJDFJRGFNSMTMKJWZTGZOSKKGFJUUWF\n",
    "IVLTZDZLJSYOVAFFZJMFFUTWCKTPYINSKDSXZEWGXNVFHQLDWBNZRARFACSGYHJLVJWRJHDHJUS\n",
    "SKVVHMLJLSUZZVSQPXZHYVYSJJHCDODLUQCZYJMGUPTACSZZOWXOPGIFSCZSFSKZOSKRDWYACWA\n",
    "TYVUCZYKWGDIPLVJIPWUJUKDSRLELVNZKZWXPJSJJYPOSQSTGBXAIMQYLUZCZZVABYOVJOGPUVS\n",
    "XPIWHTZRQGTTVLVNUXWOXPCQWXJRJQJSPCBJDNZOYPLLHJYVVOYHCDWRHPKODHEWLHLCDSSACQK\n",
    "JSCUCSZKJIHAVVVTBJWHMLJWKFSCKOWLPGILVZFULLELZJTVFHMLJWKFSCKOWLJGZNKCQDZAKGU\n",
    "JAYWFFUUZSWLKZFTBXZHMLDWFJWYJSSGPGTGYRNOIVZJOUWVVVJHMAZDDZLVFJRFSBOZUVNOVDR\n",
    "NUDQVFUUMDTUKZOYCVJMUVILWTUFXHMLSJWHRNGFPIVZWSKNZWHOJLCTKKZSHVIHGJVWLVJDZXS\n",
    "TMDQPTZFEPZADSMLVUKVNLCVOSKUWZNCVJAJMIGAYOVXOSNJGTYOVSFHOWASSKEGGTVEWFMHULV\n",
    "JYVNSWIVJOYPFFCKTPTZTDJKISRZFHTZZDSSJVLVFUZOOXHEKKJYVVPDHMGWHLWJCRDZLVNUKZS\n",
    "YVDTPDHTJMFAWAFXADMTKSVVOSKSJCPLEDWPLKZSXVSTWSNFXOHOZDRFUULVJUHMWHRCQGBLCDW\n",
    "SNZFHTVEWZTUXDCZKRFRHVELWSBFMGXJIWORBKLSWSPSBTTRDCZZRFRNUYMAFURZCBSROONSZFU\n",
    "XOIASPORDTTMYGFWVISBIORDTTMKJWZTGZGZJYSGRPXZHMHMWOWPJWBTUCQCZAFXVJSCUCSQFAB\n",
    "YSPXFTTKZSYOIGOYZFXHMLUSASLUABYOVAFFNFFMFUUGTYOVVSRVEKHMHKWLZSKABYOVVORURLW\n",
    "TUFXADVNFHMVLYVYZZLWXMFDZDAFKDJHBKKTVEABLPJLOLNVJSIAFLVJVGHCXPKWKFSCXCWVEWW\n",
    "SZKSBYAYWDFYKQIUVELVJZKSWWZIWAFPEWRRVKACSSVKGYOIGILOVPHWLDAHDVWLSWYFJOSKFXO\n",
    "BLZFHMLEWLYHUGNJUJLCZARJAXDVJSYVCDWSNRLHMLNSZQPKXSQSSGRNSPLVJJFJDXLRDFJHUQU\n",
    "WLRLZDKVUODLUSBIJCGHYLUOWYOXGFJZKGCILIWQYIVXCWLKZSJFVKCKAYWGULTLOYVIKIUVEAH\n",
    "XOVSRBPKZFJKVPHJUUWRRVLLVFUUKCQPKSFDLPWCKMZJSXHKLVJOZVSTBJTSFZKOVTZVUFFMKZO\n",
    "IZVVIHLUESNUKGAZYUWFFUUOVTZVABKVIEWSNMGWHLYSRHVEKWLUVVAJAFLVJORFURHEAVFKNSZ\n",
    "QLULVJTFFGYLIMDBPKZWSAYWHTTS\n",
    "\"\"\")"
   ]
  },
  {
   "cell_type": "code",
   "execution_count": 114,
   "metadata": {
    "slideshow": {
     "slide_type": "slide"
    }
   },
   "outputs": [
    {
     "data": {
      "image/png": "[encoded data removed]",
      "text/plain": [
       "<Figure size 432x288 with 1 Axes>"
      ]
     },
     "metadata": {},
     "output_type": "display_data"
    }
   ],
   "source": [
    "# Let's try a key length equal to 1\n",
    "t = 1\n",
    "\n",
    "AS = AlphabeticStrings()\n",
    "p = ct[0::t]\n",
    "\n",
    "plot_frequencies(p.frequency_distribution())"
   ]
  },
  {
   "cell_type": "code",
   "execution_count": 121,
   "metadata": {},
   "outputs": [
    {
     "data": {
      "image/png": "[encoded data removed]",
      "text/plain": [
       "<Figure size 432x288 with 1 Axes>"
      ]
     },
     "metadata": {},
     "output_type": "display_data"
    }
   ],
   "source": [
    "# We can test multiple key sizes\n",
    "e = []\n",
    "for t in range(1,10):\n",
    "    p = ct[0::t]\n",
    "    e.append(p.frequency_distribution().entropy())\n",
    "plt.bar(range(1,10),e)\n",
    "plt.show()"
   ]
  },
  {
   "cell_type": "code",
   "execution_count": 115,
   "metadata": {
    "slideshow": {
     "slide_type": "slide"
    }
   },
   "outputs": [
    {
     "data": {
      "image/png": "[encoded data removed]",
      "text/plain": [
       "<Figure size 432x288 with 1 Axes>"
      ]
     },
     "metadata": {},
     "output_type": "display_data"
    }
   ],
   "source": [
    "# Probably the key size is 5\n",
    "t = 5\n",
    "\n",
    "p = ct[0::t]\n",
    "\n",
    "plot_frequencies(p.frequency_distribution())"
   ]
  },
  {
   "cell_type": "code",
   "execution_count": 30,
   "metadata": {
    "slideshow": {
     "slide_type": "slide"
    }
   },
   "outputs": [
    {
     "data": {
      "text/plain": [
       "5"
      ]
     },
     "execution_count": 30,
     "metadata": {},
     "output_type": "execute_result"
    }
   ],
   "source": [
    "# The first letter of the key is\n",
    "A.index(\"J\")-A.index(\"E\")"
   ]
  },
  {
   "cell_type": "code",
   "execution_count": 123,
   "metadata": {
    "slideshow": {
     "slide_type": "slide"
    }
   },
   "outputs": [
    {
     "data": {
      "text/plain": [
       "THEBLACKCATBYEDGARALLANPOEFORTHEMOSTWILDYETMOSTHOMELYNARRATIVEWHICHIAMABOUTTOPENINEITHEREXPECTNORSOLICITBELIEFMADINDEEDWOULDIBETOEXPECTITINACASEWHEREMYVERYSENSESREJECTTHEIROWNEVIDENCEYETMADAMINOTANDVERYSURELYDOINOTDREAMBUTTOMORROWIDIEANDTODAYIWOULDUNBURTHENMYSOULMYIMMEDIATEPURPOSEISTOPLACEBEFORETHEWORLDPLAINLYSUCCINCTLYANDWITHOUTCOMMENTASERIESOFMEREHOUSEHOLDEVENTSINTHEIRCONSEQUENCESTHESEEVENTSHAVETERRIFIEDHAVETORTUREDHAVEDESTROYEDMEYETIWILLNOTATTEMPTTOEXPOUNDTHEMTOMETHEYHAVEPRESENTEDLITTLEBUTHORRORTOMANYTHEYWILLSEEMLESSTERRIBLETHANBAROQUESHEREAFTERPERHAPSSOMEINTELLECTMAYBEFOUNDWHICHWILLREDUCEMYPHANTASMTOTHECOMMONPLACESOMEINTELLECTMORECALMMORELOGICALANDFARLESSEXCITABLETHANMYOWNWHICHWILLPERCEIVEINTHECIRCUMSTANCESIDETAILWITHAWENOTHINGMORETHANANORDINARYSUCCESSIONOFVERYNATURALCAUSESANDEFFECTSFROMMYINFANCYIWASNOTEDFORTHEDOCILITYANDHUMANITYOFMYDISPOSITIONMYTENDERNESSOFHEARTWASEVENSOCONSPICUOUSASTOMAKEMETHEJESTOFMYCOMPANIONSIWASESPECIALLYFONDOFANIMALSANDWASINDULGEDBYMYPARENTSWITHAGREATVARIETYOFPETSWITHTHESEISPENTMOSTOFMYTIMEANDNEVERWASSOHAPPYASWHENFEEDINGANDCARESSINGTHEMTHISPECULIAROFCHARACTERGREWWITHMYGROWTHANDINMYMANHOODIDERIVEDFROMITONEOFMYPRINCIPALSOURCESOFPLEASURETOTHOSEWHOHAVECHERISHEDANAFFECTIONFORAFAITHFULANDSAGACIOUSDOGINEEDHARDLYBEATTHETROUBLEOFEXPLAININGTHENATUREORTHEINTENSITYOFTHEGRATIFICATIONTHUSDERIVABLETHEREISSOMETHINGINTHEUNSELFISHANDSELFSACRIFICINGLOVEOFABRUTEWHICHGOESDIRECTLYTOTHEHEARTOFHIMWHOHASHADFREQUENTOCCASIONTOTESTTHEPALTRYFRIENDSHIPANDGOSSAMERFIDELITYOFMEREMANIMARRIEDEARLYANDWASHAPPYTOFINDINMYWIFEADISPOSITIONNOTUNCONGENIALWITHMYOWNOBSERVINGMYPARTIALITYFORDOMESTICPETSSHELOSTNOOPPORTUNITYOFPROCURINGTHOSEOFTHEMOSTAGREEABLEKINDWEHADBIRDSGOLDFISHAFINEDOGRABBITSASMALLMONKEYANDACATTHISLATTERWASAREMARKABLYLARGEANDBEAUTIFULANIMALENTIRELYBLACKANDSAGACIOUSTOANASTONISHINGDEGREEINSPEAKINGOFHISINTELLIGENCEMYWIFEWHOATHEARTWASNOTALITTLETINCTUREDWITHSUPERSTITIONMADEFREQUENTALLUSIONTOTHEANCIENTPOPULARNOTIONWHICHREGARDEDALLBLACKCATSASWITCHESINDISGUISENOTTHATSHEWASEVERSERIOUSUPONTHISPOINTANDIMENTIONTHEMATTERATALLFORNOBETTERREASONTHANTHATITHAPPENSJUSTNOWTOBEREMEMBEREDPLUTOTHISWASTHECATSNAMEWASMYFAVORITEPETANDPLAYMATEIALONEFEDHIMANDHEATTENDEDMEWHEREVERIWENTABOUTTHEHOUSEITWASEVENWITHDIFFICULTYTHATICOULDPREVENTHIMFROMFOLLOWINGMETHROUGHTHESTREETSOURFRIENDSHIPLASTEDINTHISMANNERFORSEVERALYEARSDURINGWHICHMYGENERALTEMPERAMENTANDCHARACTERTHROUGHTHEINSTRUMENTALITYOFTHEFIENDINTEMPERANCEHADIBLUSHTOCONFESSITEXPERIENCEDARADICALALTERATIONFORTHEWORSEIGREWDAYBYDAYMOREMOODYMOREIRRITABLEMOREREGARDLESSOFTHEFEELINGSOFOTHERSISUFFEREDMYSELFTOUSEINTEMPERATELANGUAGETOMYATLENGTHIEVENOFFEREDHERPERSONALVIOLENCEMYPETSOFCOURSEWEREMADETOFEELTHECHANGEINMYDISPOSITIONINOTONLYNEGLECTEDBUTILLUSEDTHEMFORPLUTOHOWEVERISTILLRETAINEDSUFFICIENTREGARDTORESTRAINMEFROMMALTREATINGHIMASIMADENOSCRUPLEOFMALTREATINGTHERABBITSTHEMONKEYOREVENTHEDOGWHENBYACCIDENTORTHROUGHAFFECTIONTHEYCAMEINMYWAYBUTMYDISEASEGREWUPONMEFORWHATDISEASEISLIKEALCOHOLANDATLENGTHEVENPLUTOWHOWASNOWBECOMINGOLDANDCONSEQUENTLYSOMEWHATPEEVISHEVENPLUTOBEGANTOEXPERIENCETHEEFFECTSOFMYILLTEMPERONENIGHTRETURNINGHOMEMUCHINTOXICATEDFROMONEOFMYHAUNTSABOUTTOWNIFANCIEDTHATTHECATAVOIDEDMYPRESENCEISEIZEDHIMWHENINHISFRIGHTATMYVIOLENCEHEINFLICTEDASLIGHTWOUNDUPONMYHANDWITHHISTEETHTHEFURYOFADEMONINSTANTLYPOSSESSEDMEIKNEWMYSELFNOLONGERMYORIGINALSOULSEEMEDATONCETOTAKEITSFLIGHTFROMMYBODYANDAMORETHANFIENDISHMALEVOLENCEGINNURTUREDTHRILLEDEVERYFIBREOFMYFRAMEITOOKFROMMYWAISTCOATPOCKETAPENKNIFEOPENEDITGRASPEDTHEPOORBEASTBYTHETHROATANDDELIBERATELYCUTONEOFITSEYESFROMTHESOCKETIBLUSHIBURNISHUDDERWHILEIPENTHEDAMNABLEATROCITYWHENREASONRETURNEDWITHTHEMORNINGWHENIHADSLEPTOFFTHEFUMESOFTHENIGHTSDEBAUCHIEXPERIENCEDASENTIMENTHALFOFHORRORHALFOFREMORSEFORTHECRIMEOFWHICHIHADBEENGUILTYBUTITWASATBESTAFEEBLEANDEQUIVOCALFEELINGANDTHESOULREMAINEDUNTOUCHEDIAGAINPLUNGEDINTOEXCESSANDSOONDROWNEDINWINEALLMEMORYOFTHEDEEDINTHEMEANTIMETHECATSLOWLYRECOVEREDTHESOCKETOFTHELOSTEYEPRESENTEDITISTRUEAFRIGHTFULAPPEARANCEBUTHENOLONGERAPPEAREDTOSUFFERANYPAINHEWENTABOUTTHEHOUSEASUSUALBUTASMIGHTBEEXPECTEDFLEDINEXTREMETERRORATMYAPPROACHIHADSOMUCHOFMYOLDHEARTLEFTASTOBEATFIRSTGRIEVEDBYTHISEVIDENTDISLIKEONTHEPARTOFACREATUREWHICHHADONCESOLOVEDMEBUTTHISFEELINGSOONGAVEPLACETOIRRITATIONANDTHENCAMEASIFTOMYFINALANDIRREVOCABLEOVERTHROWTHESPIRITOFPERVERSENESSOFTHISSPIRITPHILOSOPHYTAKESNOACCOUNTYETIAMNOTMORESURETHATMYSOULLIVESTHANIAMTHATPERVERSENESSISONEOFTHEPRIMITIVEIMPULSESOFTHEHUMANHEARTONEOFTHEINDIVISIBLEPRIMARYFACULTIESORSENTIMENTSWHICHGIVEDIRECTIONTOTHECHARACTEROFMANWHOHASNOTAHUNDREDTIMESFOUNDHIMSELFCOMMITTINGAVILEORASILLYACTIONFORNOOTHERREASONTHANBECAUSEHEKNOWSHESHOULDNOTHAVEWENOTAPERPETUALINCLINATIONINTHETEETHOFOURBESTJUDGMENTTOVIOLATETHATWHICHISLAWMERELYBECAUSEWEUNDERSTANDITTOBESUCHTHISSPIRITOFPERVERSENESSISAYCAMETOMYFINALOVERTHROWITWASTHISUNFATHOMABLELONGINGOFTHESOULTOVEXITSELFTOOFFERVIOLENCETOITSOWNNATURETODOWRONGFORTHEWRONGSSAKEONLYTHATURGEDMETOCONTINUEANDFINALLYTOCONSUMMATETHEINJURYIHADINFLICTEDUPONTHEUNOFFENDINGBRUTEONEMORNINGINCOOLBLOODISLIPPEDANOOSEABOUTITSNECKANDHUNGITTOTHELIMBOFATREEHUNGITWITHTHETEARSSTREAMINGFROMMYEYESANDWITHTHEBITTERESTREMORSEATMYHEARTHUNGITBECAUSEIKNEWTHATITHADLOVEDMEANDBECAUSEIFELTITHADGIVENMENOREASONOFOFFENCEHUNGITBECAUSEIKNEWTHATINSODOINGIWASCOMMITTINGASINADEADLYSINTHATWOULDSOJEOPARDIZEMYIMMORTALSOULASTOPLACEITIFSUCHATHINGWEREPOSSIBLEEVENBEYONDTHEREACHOFTHEINFINITEMERCYOFTHEMOSTMERCIFULANDMOSTTERRIBLEGODONTHENIGHTOFTHEDAYONWHICHTHISCRUELDEEDWASDONEIWASAROUSEDFROMSLEEPBYTHECRYOFFIRETHECURTAINSOFMYBEDWEREINFLAMESTHEWHOLEHOUSEWASBLAZINGITWASWITHGREATDIFFICULTYTHATMYWIFEASERVANTANDMYSELFMADEOURESCAPEFROMTHECONFLAGRATIONTHEDESTRUCTIONWASCOMPLETEMYENTIREWORLDLYWEALTHWASSWALLOWEDUPANDIRESIGNEDMYSELFTHENCEFORWARDTODESPAIRIAMABOVETHEWEAKNESSOFSEEKINGTOESTABLISHASEQUENCEOFCAUSEANDEFFECTBETWEENTHEDISASTERANDTHEATROCITYBUTIAMDETAILINGACHAINOFFACTSANDWISHNOTTOLEAVEEVENAPOSSIBLELINKIMPERFECTONTHEDAYSUCCEEDINGTHEFIREIVISITEDTHERUINSTHEWALLSWITHONEEXCEPTIONHADFALLENINTHISEXCEPTIONWASFOUNDINACOMPARTMENTWALLNOTVERYTHICKWHICHSTOODABOUTTHEMIDDLEOFTHEHOUSEANDAGAINSTWHICHHADRESTEDTHEHEADOFMYBEDTHEPLASTERINGHADHEREINGREATMEASURERESISTEDTHEACTIONOFTHEFIREAFACTWHICHIATTRIBUTEDTOITSHAVINGBEENRECENTLYSPREADABOUTTHISWALLADENSECROWDWERECOLLECTEDANDMANYPERSONSSEEMEDTOBEEXAMININGAPARTICULARPORTIONOFITWITHEVERYMINUTEANDEAGERATTENTIONTHEWORDSSTRANGESINGULARANDOTHERSIMILAREXPRESSIONSEXCITEDMYCURIOSITYIAPPROACHEDANDSAWASIFGRAVENINBASRELIEFUPONTHEWHITESURFACETHEFIGUREOFAGIGANTICCATTHEIMPRESSIONWASGIVENWITHANACCURACYTRULYMARVELLOUSTHEREWASAROPEABOUTTHEANIMALSNECKWHENIFIRSTBEHELDTHISAPPARITIONFORICOULDSCARCELYREGARDITASLESSMYWONDERANDMYTERRORWEREEXTREMEBUTATLENGTHREFLECTIONCAMETOMYAIDTHECATIREMEMBEREDHADBEENHUNGINAGARDENADJACENTTOTHEHOUSEUPONTHEALARMOFFIRETHISGARDENHADBEENIMMEDIATELYFILLEDBYTHECROWDBYSOMEONEOFWHOMTHEANIMALMUSTHAVEBEENCUTFROMTHETREEANDTHROWNTHROUGHANOPENWINDOWINTOMYCHAMBERTHISHADPROBABLYBEENDONEWITHTHEVIEWOFAROUSINGMEFROMSLEEPTHEFALLINGOFOTHERWALLSHADCOMPRESSEDTHEVICTIMOFMYCRUELTYINTOTHESUBSTANCEOFTHEFRESHLYSPREADPLASTERTHELIMEOFWHICHHADTHENWITHTHEFLAMESANDTHEAMMONIAFROMTHECARCASSACCOMPLISHEDTHEPORTRAITUREASISAWITALTHOUGHITHUSREADILYACCOUNTEDTOMYREASONIFNOTALTOGETHERTOMYCONSCIENCEFORTHESTARTLINGFACTJUSTDETAILEDITDIDNOTTHELESSFALLTOMAKEADEEPIMPRESSIONUPONMYFANCYFORMONTHSICOULDNOTRIDMYSELFOFTHEPHANTASMOFTHECATANDDURINGTHISPERIODTHERECAMEBACKINTOMYSPIRITAHALFSENTIMENTTHATSEEMEDBUTWASNOTREMORSEIWENTSOFARASTOREGRETTHELOSSOFTHEANIMALANDTOLOOKABOUTMEAMONGTHEVILEHAUNTSWHICHINOWHABITUALLYFREQUENTEDFORANOTHERPETOFTHESAMESPECIESANDOFSOMEWHATSIMILARAPPEARANCEWITHWHICHTOSUPPLYITSPLACEONENIGHTASISATHALFSTUPEFIEDINADENOFMORETHANINFAMYMYATTENTIONWASSUDDENLYDRAWNTOSOMEBLACKOBJECTREPOSINGUPONTHEHEADOFONEOFTHEIMMENSEHOGSHEADSOFGINOROFRUMWHICHCONSTITUTEDTHECHIEFFURNITUREOFTHEAPARTMENTIHADBEENLOOKINGSTEADILYATTHETOPOFTHISHOGSHEADFORSOMEMINUTESANDWHATNOWCAUSEDMESURPRISEWASTHEFACTTHATIHADNOTSOONERPERCEIVEDTHEOBJECTTHEREUPONIAPPROACHEDITANDTOUCHEDITWITHMYHANDITWASABLACKCATAVERYLARGEONEFULLYASLARGEASPLUTOANDCLOSELYRESEMBLINGHIMINEVERYRESPECTBUTONEPLUTOHADNOTAWHITEHAIRUPONANYPORTIONOFHISBODYBUTTHISCATHADALARGEALTHOUGHINDEFINITESPLOTCHOFWHITECOVERINGNEARLYTHEWHOLEREGIONOFTHEBREASTUPONMYTOUCHINGHIMHEIMMEDIATELYAROSEPURREDLOUDLYRUBBEDAGAINSTMYHANDANDAPPEAREDDELIGHTEDWITHMYNOTICETHISTHENWASTHEVERYCREATUREOFWHICHIWASINSEARCHIATONCEOFFEREDTOPURCHASEITOFTHELANDLORDBUTTHISPERSONMADENOCLAIMTOITKNEWNOTHINGOFITHADNEVERSEENITBEFOREICONTINUEDMYCARESSESANDWHENIPREPAREDTOGOHOMETHEANIMALEVINCEDADISPOSITIONTOACCOMPANYMEIPERMITTEDITTODOSOOCCASIONALLYSTOOPINGANDPATTINGITASIPROCEEDEDWHENITREACHEDTHEHOUSEITDOMESTICATEDITSELFATONCEANDBECAMEIMMEDIATELYAGREATFAVORITEWITHMYWIFEFORMYOWNPARTISOONFOUNDADISLIKETOITARISINGWITHINMETHISWASJUSTTHEREVERSEOFWHATIHADANTICIPATEDBUTIKNOWNOTHOWORWHYITWASITSEVIDENTFONDNESSFORMYSELFRATHERDISGUSTEDANDANNOYEDBYSLOWDEGREESTHESEFEELINGSOFDISGUSTANDANNOYANCEROSEINTOTHEBITTERNESSOFHATREDIAVOIDEDTHECREATUREACERTAINSENSEOFSHAMEANDTHEREMEMBRANCEOFMYFORMERDEEDOFCRUELTYPREVENTINGMEFROMPHYSICALLYABUSINGITIDIDNOTFORSOMEWEEKSSTRIKEOROTHERWISEVIOLENTLYILLUSEITBUTGRADUALLYVERYGRADUALLYICAMETOLOOKUPONITWITHUNUTTERABLELOATHINGANDTOFLEESILENTLYFROMITSODIOUSPRESENCEASFROMTHEBREATHOFAPESTILENCEWHATADDEDNODOUBTTOMYHATREDOFTHEBEASTWASTHEDISCOVERYONTHEMORNINGAFTERIBROUGHTITHOMETHATLIKEPLUTOITALSOHADBEENDEPRIVEDOFONEOFITSEYESTHISCIRCUMSTANCEHOWEVERONLYENDEAREDITTOMYWIFEWHOASIHAVEALREADYSAIDPOSSESSEDINAHIGHDEGREETHATHUMANITYOFFEELINGWHICHHADONCEBEENMYDISTINGUISHINGTRAITANDTHESOURCEOFMANYOFMYSIMPLESTANDPURESTPLEASURESWITHMYAVERSIONTOTHISCATHOWEVERITSPARTIALITYFORMYSELFSEEMEDTOINCREASEITFOLLOWEDMYFOOTSTEPSWITHAPERTINACITYWHICHITWOULDBEDIFFICULTTOMAKETHEREADERCOMPREHENDWHENEVERISATITWOULDCROUCHBENEATHMYCHAIRORSPRINGUPONMYKNEESCOVERINGMEWITHITSLOATHSOMECARESSESIFIAROSETOWALKITWOULDGETBETWEENMYFEETANDTHUSNEARLYTHROWMEDOWNORFASTENINGITSLONGANDSHARPCLAWSINMYDRESSCLAMBERINTHISMANNERTOMYBREASTATSUCHTIMESALTHOUGHILONGEDTODESTROYITWITHABLOWIWASYETWITHHELDFROMSODOINGPARTLYITATBYAMEMORYOFMYFORMERCRIMEBUTCHIEFLYLETMECONFESSITATONCEBYABSOLUTEDREADOFTHEBEASTTHISDREADWASNOTEXACTLYADREADOFPHYSICALEVILANDYETISHOULDBEATALOSSHOWOTHERWISETODEFINEITIAMALMOSTASHAMEDTOOWNYESEVENINTHISFELONSCELLIAMALMOSTASHAMEDTOOWNTHATTHETERRORANDHORRORWITHWHICHTHEANIMALINSPIREDMEHADBEENHEIGHTENEDBYONEOFTHEMERESTCHIMAERASITWOULDBEPOSSIBLETOCONCEIVEMYWIFEHADCALLEDMYATTENTIONMORETHANONCETOTHECHARACTEROFTHEMARKOFWHITEHAIROFWHICHIHAVESPOKENANDWHICHCONSTITUTEDTHESOLEVISIBLEDIFFERENCEBETWEENTHESTRANGEBEASTANDTHEONEIHADYSIDESTROYEDTHEREADERWILLREMEMBERTHATTHISMARKALTHOUGHLARGEHADBEENORIGINALLYVERYINDEFINITEBUTBYSLOWDEGREESDEGREESNEARLYIMPERCEPTIBLEANDWHICHFORALONGTIMEMYREASONSTRUGGLEDTOREJECTASFANCIFULITHADATLENGTHASSUMEDARIGOROUSDISTINCTNESSOFOUTLINEITWASNOWTHEREPRESENTATIONOFANOBJECTTHATISHUDDERTONAMEANDFORTHISABOVEALLILOATHEDANDDREADEDANDWOULDHAVERIDMYSELFOFTHEMONSTERHADIDAREDITWASNOWISAYTHEIMAGEOFAHIDEOUSOFAGHASTLYTHINGOFTHEGALLOWSOHMOURNFULANDTERRIBLEENGINEOFHORRORANDOFCRIMEOFAGONYANDOFDEATHANDNOWWASIINDEEDWRETCHEDBEYONDTHEWRETCHEDNESSOFMEREHUMANITYANDABRUTEBEASTWHOSEFELLOWIHADCONTEMPTUOUSLYDESTROYEDABRUTEBEASTTOWORKOUTFORMEFORMEAMANFASHIONEDINTHEIMAGEOFTHEHIGHGODSOMUCHOFINSUFFERABLEWOALASNEITHERBYDAYNORBYNIGHTKNEWITHEBLESSINGOFRESTANYMOREDURINGTHEFORMERTHECREATURELEFTMENOMOMENTALONEANDINTHELATTERISTARTEDHOURLYFROMDREAMSOFUNUTTERABLEFEARTOFINDTHEHOTBREATHOFTHETHINGUPONMYFACEANDITSVASTWEIGHTANINCARNATENIGHTMARETHATIHADNOPOWERTOSHAKEOFFINCUMBENTETERNALLYUPONMYHEARTBENEATHTHEPRESSUREOFTORMENTSSUCHASTHESETHEFEEBLEREMNANTOFTHEGOODWITHINMESUCCUMBEDEVILTHOUGHTSBECAMEMYSOLEINTIMATESTHEDARKESTANDMOSTEVILOFTHOUGHTSTHEMOODINESSOFMYUSUALTEMPERINCREASEDTOHATREDOFALLTHINGSANDOFALLMANKINDWHILEFROMTHESUDDENFREQUENTANDUNGOVERNABLEOUTBURSTSOFAFURYTOWHICHINOWBLINDLYABANDONEDMYSELFMYUNCOMPLAININGWIFEALASWASTHEMOSTUSUALANDTHEMOSTPATIENTOFSUFFERERSONEDAYSHEACCOMPANIEDMEUPONSOMEHOUSEHOLDERRANDINTOTHECELLAROFTHEOLDBUILDINGWHICHOURPOVERTYCOMPELLEDUSTOINHABITTHECATFOLLOWEDMEDOWNTHESTEEPSTAIRSANDNEARLYTHROWINGMEHEADLONGEXASPERATEDMETOMADNESSUPLIFTINGANAXEANDFORGETTINGINMYWRATHTHECHILDISHDREADWHICHHADHITHERTOSTAYEDMYHANDIAIMEDABLOWATTHEANIMALWHICHOFCOURSEWOULDHAVEPROVEDINSTANTLYFATALHADITDESCENDEDASIWISHEDBUTTHISBLOWWASARRESTEDBYTHEHANDOFMYWIFEGOADEDBYTHEINTERFERENCEINTOARAGEMORETHANDEMONIACALIWITHDREWMYARMFROMHERGRASPANDBURIEDTHEAXEINHERBRAINSHEFELLDEADUPONTHESPOTWITHOUTAGROANTHISHIDEOUSMURDERACCOMPLISHEDISETMYSELFFORTHWITHANDWITHENTIREDELIBERATIONTOTHETASKOFCONCEALINGTHEBODYIKNEWTHATICOULDNOTREMOVEITFROMTHEHOUSEEITHERBYDAYORBYNIGHTWITHOUTTHERISKOFBEINGOBSERVEDBYTHENEIGHBORSMANYPROJECTSENTEREDMYMINDATONEPERIODITHOUGHTOFCUTTINGTHECORPSEINTOMINUTEFRAGMENTSANDDESTROYINGTHEMBYFIREATANOTHERIRESOLVEDTODIGAGRAVEFORITINTHEFLOOROFTHECELLARAGAINIDELIBERATEDABOUTCASTINGITINTHEWELLINTHEYARDABOUTPACKINGITINABOXASIFMERCHANDIZEWITHTHEUSUALARRANGEMENTSANDSOGETTINGAPORTERTOTAKEITFROMTHEHOUSEFINALLYIHITUPONWHATICONSIDEREDAFARBETTEREXPEDIENTTHANEITHEROFTHESEIDETERMINEDTOWALLITUPINTHECELLARASTHEMONKSOFTHEMIDDLEAGESARERECORDEDTOHAVEWALLEDUPTHEIRVICTIMSFORAPURPOSESUCHASTHISTHECELLARWASWELLADAPTEDITSWALLSWERELOOSELYCONSTRUCTEDANDHADLATELYBEENPLASTEREDTHROUGHOUTWITHAROUGHPLASTERWHICHTHEDAMPNESSOFTHEATMOSPHEREHADPREVENTEDFROMHARDENINGMOREOVERINONEOFTHEWALLSWASAPROJECTIONCAUSEDBYAFALSECHIMNEYORFIREPLACETHATHADBEENFILLEDUPANDMADETORESEMBLETHERESTOFTHECELLARIMADENODOUBTTHATICOULDREADILYDISPLACETHEATTHISPOINTINSERTTHECORPSEANDWALLTHEWHOLEUPASBEFORESOTHATNOEYECOULDDETECTANYTHINGSUSPICIOUSANDINTHISCALCULATIONIWASNOTDECEIVEDBYMEANSOFACROWBARIEASILYDISLODGEDTHEBRICKSANDHAVINGCAREFULLYDEPOSITEDTHEBODYAGAINSTTHEINNERWALLIPROPPEDITINTHATPOSITIONWHILEWITHLITTLETROUBLEIRELAIDTHEWHOLESTRUCTUREASITORIGINALLYSTOODHAVINGPROCUREDMORTARSANDANDHAIRWITHEVERYPOSSIBLEPRECAUTIONIPREPAREDAPLASTERCOULDNOTEVERYPOSSBEDISTINGUISHEDFROMTHEOLDANDWITHTHISIVERYCAREFULLYWENTOVERTHENEWBRICKWORKWHENIHADFINISHEDIFELTSATISFIEDTHATALLWASRIGHTTHEWALLDIDNOTPRESENTTHESLIGHTESTAPPEARANCEOFHAVINGBEENDISTURBEDTHERUBBISHONTHEFLOORWASPICKEDUPWITHTHEMINUTESTCAREILOOKEDAROUNDTRIUMPHANTLYANDSAIDTOMYSELFHEREATLEASTTHENMYLABORHASNOTBEENINVAINMYNEXTSTEPWASTOLOOKFORTHEBEASTWHICHHADBEENTHECAUSEOFSOMUCHWRETCHEDNESSFORIHADATLENGTHFIRMLYRESOLVEDTOPUTITTODEATHHADIBEENABLETOMEETWITHITATTHEMOMENTTHERECOULDHAVEBEENNODOUBTOFITSFATEBUTITAPPEAREDTHATTHECRAFTYANIMALHADBEENALARMEDATTHEVIOLENCEOFMYPREVIOUSANGERANDFOREBORETOPRESENTITSELFINMYPRESENTMOODITISIMPOSSIBLETODESCRIBEORTOIMAGINETHEDEEPTHEBLISSFULSENSEOFRELIEFWHICHTHEABSENCEOFTHEDETESTEDCREATUREOCCASIONEDINMYBOSOMITDIDNOTMAKEITSAPPEARANCEDURINGTHENIGHTANDTHUSFORONENIGHTATLEASTSINCEITSINTRODUCTIONINTOTHEHOUSEISOUNDLYANDTRANQUILLYSLEPTAYESLEPTEVENWITHTHEBURDENOFMURDERUPONMYSOULTHESECONDANDTHETHIRDDAYPASSEDANDSTILLMYTORMENTORCAMENOTONCEAGAINIBREATHEDASAFREEMANTHEMONSTERINTERRORHADFLEDTHEPREMISESFOREVERISHOULDBEHOLDITNOMOREMYHAPPINESSWASSUPREMETHEGUILTOFMYDARKDEEDDISTURBEDMEBUTLITTLESOMEFEWINQUIRIESHADBEENMADEBUTTHESEHADBEENREADILYANSWEREDEVENASEARCHHADBEENINSTITUTEDBUTOFCOURSENOTHINGWASTOBEDISCOVEREDILOOKEDUPONMYFUTUREFELICITYASSECUREDUPONTHEFOURTHDAYOFTHEASSASSINATIONAPARTYOFTHEPOLICECAMEVERYUNEXPECTEDLYINTOTHEHOUSEANDPROCEEDEDAGAINTOMAKERIGOROUSINVESTIGATIONOFTHEPREMISESSECUREHOWEVERINTHEINSCRUTABILITYOFMYPLACEOFCONCEALMENTIFELTNOEMBARRASSMENTWHATEVERTHEOFFICERSBADEMEACCOMPANYTHEMINTHEIRSEARCHTHEYLEFTNONOOKORCORNERUNEXPLOREDATLENGTHFORTHETHIRDORFOURTHTIMETHEYDESCENDEDINTOTHECELLARIQUIVEREDNOTINAMUSCLEMYHEARTBEATCALMLYASTHATOFONEWHOSLUMBERSININNOCENCEIWALKEDTHECELLARFROMENDTOENDIFOLDEDMYARMSUPONMYBOSOMANDROAMEDEASILYTOANDFROTHEPOLICEWERETHOROUGHLYSATISFIEDANDPREPAREDTODEPARTTHEGLEEATMYHEARTWASTOOSTRONGTOBERESTRAINEDIBURNEDTOSAYIFBUTONEWORDBYWAYOFTRIUMPHANDTORENDERDOUBLYSURETHEIRASSURANCEOFMYGUILTLESSNESSGENTLEMENISAIDATLASTASTHEPARTYASCENDEDTHESTEPSIDELIGHTTOHAVEALLAYEDYOURSUSPICIONSIWISHYOUALLHEALTHANDALITTLEMORECOURTESYBYTHEBYEGENTLEMENTHISTHISISAVERYWELLCONSTRUCTEDHOUSEINTHERABIDDESIRETOSAYSOMETHINGEASILYISCARCELYKNEWWHATIUTTEREDATALLIMAYSAYANEXCELLENTLYWELLCONSTRUCTEDHOUSETHESEWALLSAREYOUGOINGGENTLEMENTHESEWALLSARESOLIDLYPUTTOGETHERANDHERETHROUGHTHEMEREPHRENZYOFBRAVADOIRAPPEDHEAVILYWITHACANEWHICHIHELDINMYHANDUPONTHATVERYPORTIONOFTHEBRICKWORKBEHINDWHICHSTOODTHECORPSEOFTHEWIFEOFMYBOSOMBUTMAYGODSHIELDANDDELIVERMEFROMTHEFANGSOFTHEARCHFIENDNOSOONERHADTHEREVERBERATIONOFMYBLOWSSUNKINTOSILENCETHANIWASANSWEREDBYAVOICEFROMWITHINTHETOMBBYACRYATFIRSTMUFFLEDANDBROKENLIKETHESOBBINGOFACHILDANDTHENQUICKLYSWELLINGINTOONELONGLOUDANDCONTINUOUSSCREAMUTTERLYANOMALOUSANDINHUMANAHOWLAWAILINGSHRIEKHALFOFHORRORANDHALFOFTRIUMPHSUCHASMIGHTHAVEARISENONLYOUTOFHELLCONJOINTLYFROMTHETHROATSOFTHEDAMNEDINTHEIRAGONYANDOFTHEDEMONSTHATEXULTINTHEDAMNATIONOFMYOWNTHOUGHTSITISFOLLYTOSPEAKSWOONINGISTAGGEREDTOTHEOPPOSITEWALLFORONEINSTANTTHEPARTYUPONTHESTAIRSREMAINEDMOTIONLESSTHROUGHEXTREMITYOFTERRORANDOFAWEINTHENEXTADOZENSTOUTARMSWERETOLLINGATTHEWALLITFELLBODILYTHECORPSEALREADYGREATLYDECAYEDANDCLOTTEDWITHGORESTOODERECTBEFORETHEEYESOFTHESPECTATORSUPONITSHEADWITHREDEXTENDEDMOUTHANDSOLITARYEYEOFFIRESATTHEHIDEOUSBEASTWHOSECRAFTHADSEDUCEDMEINTOMURDERANDWHOSEINFORMINGVOICEHADCONSIGNEDMETOTHEHANGMANIHADWALLEDTHEMONSTERUPWITHINTHETOMB"
      ]
     },
     "execution_count": 123,
     "metadata": {},
     "output_type": "execute_result"
    }
   ],
   "source": [
    "# repeating for all the letters we find the key \"FHRSO\"\n",
    "VC = VigenereCryptosystem(AS,5)\n",
    "VC.deciphering(AS.encoding(\"FHRSO\"),ct)"
   ]
  },
  {
   "cell_type": "code",
   "execution_count": null,
   "metadata": {
    "slideshow": {
     "slide_type": "slide"
    }
   },
   "outputs": [],
   "source": [
    "# compare to the original plaintext\n",
    "m = \"\"\"\n",
    "THE BLACK CAT\n",
    "\n",
    "                             by Edgar Allan Poe\n",
    "                                   (1843)\n",
    "\n",
    "   FOR the most wild, yet most homely narrative which I am about to pen, I\n",
    "neither expect nor solicit belief. Mad indeed would I be to expect it, in a\n",
    "case where my very senses reject their own evidence. Yet, mad am I not --and\n",
    "very surely do I not dream. But to-morrow I die, and to-day I would\n",
    "unburthen my soul. My immediate purpose is to place before the world,\n",
    "plainly, succinctly, and without comment, a series of mere household events.\n",
    "In their consequences, these events have terrified --have tortured --have\n",
    "destroyed me. Yet I will not attempt to expound them. To me, they have\n",
    "presented little but Horror --to many they will seem less terrible than\n",
    "baroques. Hereafter, perhaps, some intellect may be found which will reduce\n",
    "my phantasm to the common-place --some intellect more calm, more logical,\n",
    "and far less excitable than my own, which will perceive, in the\n",
    "circumstances I detail with awe, nothing more than an ordinary succession of\n",
    "very natural causes and effects.\n",
    "   From my infancy I was noted for the docility and humanity of my\n",
    "disposition. My tenderness of heart was even so conspicuous as to make me\n",
    "the jest of my companions. I was especially fond of animals, and was\n",
    "indulged by my parents with a great variety of pets. With these I spent most\n",
    "of my time, and never was so happy as when feeding and caressing them. This\n",
    "peculiar of character grew with my growth, and in my manhood, I derived from\n",
    "it one of my principal sources of pleasure. To those who have cherished an\n",
    "affection for a faithful and sagacious dog, I need hardly be at the trouble\n",
    "of explaining the nature or the intensity of the gratification thus\n",
    "derivable. There is something in the unselfish and self-sacrificing love of\n",
    "a brute, which goes directly to the heart of him who has had frequent\n",
    "occasion to test the paltry friendship and gossamer fidelity of mere Man.\n",
    "   I married early, and was happy to find in my wife a disposition not\n",
    "uncongenial with my own. Observing my partiality for domestic pets, she lost\n",
    "no opportunity of procuring those of the most agreeable kind. We had birds,\n",
    "gold fish, a fine dog, rabbits, a small monkey, and a cat.\n",
    "   This latter was a remarkably large and beautiful animal, entirely black,\n",
    "and sagacious to an astonishing degree. In speaking of his intelligence, my\n",
    "wife, who at heart was not a little tinctured with superstition, made\n",
    "frequent allusion to the ancient popular notion, which regarded all black\n",
    "cats as witches in disguise. Not that she was ever serious upon this point\n",
    "--and I mention the matter at all for no better reason than that it happens,\n",
    "just now, to be remembered.\n",
    "   Pluto --this was the cat's name --was my favorite pet and playmate. I\n",
    "alone fed him, and he attended me wherever I went about the house. It was\n",
    "even with difficulty that I could prevent him from following me through the\n",
    "streets.\n",
    "   Our friendship lasted, in this manner, for several years, during which my\n",
    "general temperament and character --through the instrumentality of the Fiend\n",
    "Intemperance --had (I blush to confess it) experienced a radical alteration\n",
    "for the worse. I grew, day by day, more moody, more irritable, more\n",
    "regardless of the feelings of others. I suffered myself to use intemperate\n",
    "language to my At length, I even offered her personal violence. My pets, of\n",
    "course, were made to feel the change in my disposition. I not only\n",
    "neglected, but ill-used them. For Pluto, however, I still retained\n",
    "sufficient regard to restrain me from maltreating him, as I made no scruple\n",
    "of maltreating the rabbits, the monkey, or even the dog, when by accident,\n",
    "or through affection, they came in my way. But my disease grew upon me --for\n",
    "what disease is like Alcohol! --and at length even Pluto, who was now\n",
    "becoming old, and consequently somewhat peevish --even Pluto began to\n",
    "experience the effects of my ill temper.\n",
    "   One night, returning home, much intoxicated, from one of my haunts about\n",
    "town, I fancied that the cat avoided my presence. I seized him; when, in his\n",
    "fright at my violence, he inflicted a slight wound upon my hand with his\n",
    "teeth. The fury of a demon instantly possessed me. I knew myself no longer.\n",
    "My original soul seemed, at once, to take its flight from my body; and a\n",
    "more than fiendish malevolence, gin-nurtured, thrilled every fibre of my\n",
    "frame. I took from my waistcoat-pocket a pen-knife, opened it, grasped the\n",
    "poor beast by the throat, and deliberately cut one of its eyes from the\n",
    "socket! I blush, I burn, I shudder, while I pen the damnable atrocity.\n",
    "   When reason returned with the morning --when I had slept off the fumes of\n",
    "the night's debauch --I experienced a sentiment half of horror, half of\n",
    "remorse, for the crime of which I had been guilty; but it was, at best, a\n",
    "feeble and equivocal feeling, and the soul remained untouched. I again\n",
    "plunged into excess, and soon drowned in wine all memory of the deed.\n",
    "   In the meantime the cat slowly recovered. The socket of the lost eye\n",
    "presented, it is true, a frightful appearance, but he no longer appeared to\n",
    "suffer any pain. He went about the house as usual, but, as might be\n",
    "expected, fled in extreme terror at my approach. I had so much of my old\n",
    "heart left, as to be at first grieved by this evident dislike on the part of\n",
    "a creature which had once so loved me. But this feeling soon gave place to\n",
    "irritation. And then came, as if to my final and irrevocable overthrow, the\n",
    "spirit of PERVERSENESS. Of this spirit philosophy takes no account. Yet I am\n",
    "not more sure that my soul lives, than I am that perverseness is one of the\n",
    "primitive impulses of the human heart --one of the indivisible primary\n",
    "faculties, or sentiments, which give direction to the character of Man. Who\n",
    "has not, a hundred times, found himself committing a vile or a silly action,\n",
    "for no other reason than because he knows he should not? Have we not a\n",
    "perpetual inclination, in the teeth of our best judgment, to violate that\n",
    "which is Law, merely because we understand it to be such? This spirit of\n",
    "perverseness, I say, came to my final overthrow. It was this unfathomable\n",
    "longing of the soul to vex itself --to offer violence to its own nature --to\n",
    "do wrong for the wrong's sake only --that urged me to continue and finally\n",
    "to consummate the injury I had inflicted upon the unoffending brute. One\n",
    "morning, in cool blood, I slipped a noose about its neck and hung it to the\n",
    "limb of a tree; --hung it with the tears streaming from my eyes, and with\n",
    "the bitterest remorse at my heart; --hung it because I knew that it had\n",
    "loved me, and because I felt it had given me no reason of offence; --hung it\n",
    "because I knew that in so doing I was committing a sin --a deadly sin that\n",
    "would so jeopardize my immortal soul as to place it --if such a thing were\n",
    "possible --even beyond the reach of the infinite mercy of the Most Merciful\n",
    "and Most Terrible God.\n",
    "   On the night of the day on which this cruel deed was done, I was aroused\n",
    "from sleep by the cry of fire. The curtains of my bed were in flames. The\n",
    "whole house was blazing. It was with great difficulty that my wife, a\n",
    "servant, and myself, made our escape from the conflagration. The destruction\n",
    "was complete. My entire worldly wealth was swallowed up, and I resigned\n",
    "myself thenceforward to despair.\n",
    "   I am above the weakness of seeking to establish a sequence of cause and\n",
    "effect, between the disaster and the atrocity. But I am detailing a chain of\n",
    "facts --and wish not to leave even a possible link imperfect. On the day\n",
    "succeeding the fire, I visited the ruins. The walls, with one exception, had\n",
    "fallen in. This exception was found in a compartment wall, not very thick,\n",
    "which stood about the middle of the house, and against which had rested the\n",
    "head of my bed. The plastering had here, in great measure, resisted the\n",
    "action of the fire --a fact which I attributed to its having been recently\n",
    "spread. About this wall a dense crowd were collected, and many persons\n",
    "seemed to be examining a particular portion of it with every minute and\n",
    "eager attention. The words \"strange!\" \"singular!\" and other similar\n",
    "expressions, excited my curiosity. I approached and saw, as if graven in bas\n",
    "relief upon the white surface, the figure of a gigantic cat. The impression\n",
    "was given with an accuracy truly marvellous. There was a rope about the\n",
    "animal's neck.\n",
    "   When I first beheld this apparition --for I could scarcely regard it as\n",
    "less --my wonder and my terror were extreme. But at length reflection came\n",
    "to my aid. The cat, I remembered, had been hung in a garden adjacent to the\n",
    "house. Upon the alarm of fire, this garden had been immediately filled by\n",
    "the crowd --by some one of whom the animal must have been cut from the tree\n",
    "and thrown, through an open window, into my chamber. This had probably been\n",
    "done with the view of arousing me from sleep. The falling of other walls had\n",
    "compressed the victim of my cruelty into the substance of the freshly-spread\n",
    "plaster; the lime of which, had then with the flames, and the ammonia from\n",
    "the carcass, accomplished the portraiture as I saw it.\n",
    "   Although I thus readily accounted to my reason, if not altogether to my\n",
    "conscience, for the startling fact 'just detailed, it did not the less fall\n",
    "to make a deep impression upon my fancy. For months I could not rid myself\n",
    "of the phantasm of the cat; and, during this period, there came back into my\n",
    "spirit a half-sentiment that seemed, but was not, remorse. I went so far as\n",
    "to regret the loss of the animal, and to look about me, among the vile\n",
    "haunts which I now habitually frequented, for another pet of the same\n",
    "species, and of somewhat similar appearance, with which to supply its place.\n",
    "\n",
    "   One night as I sat, half stupefied, in a den of more than infamy, my\n",
    "attention was suddenly drawn to some black object, reposing upon the head of\n",
    "one of the immense hogsheads of Gin, or of Rum, which constituted the chief\n",
    "furniture of the apartment. I had been looking steadily at the top of this\n",
    "hogshead for some minutes, and what now caused me surprise was the fact that\n",
    "I had not sooner perceived the object thereupon. I approached it, and\n",
    "touched it with my hand. It was a black cat --a very large one --fully as\n",
    "large as Pluto, and closely resembling him in every respect but one. Pluto\n",
    "had not a white hair upon any portion of his body; but this cat had a large,\n",
    "although indefinite splotch of white, covering nearly the whole region of\n",
    "the breast.\n",
    "   Upon my touching him, he immediately arose, purred loudly, rubbed against\n",
    "my hand, and appeared delighted with my notice. This, then, was the very\n",
    "creature of which I was in search. I at once offered to purchase it of the\n",
    "landlord; but this person made no claim to it --knew nothing of it --had\n",
    "never seen it before.\n",
    "   I continued my caresses, and, when I prepared to go home, the animal\n",
    "evinced a disposition to accompany me. I permitted it to do so; occasionally\n",
    "stooping and patting it as I proceeded. When it reached the house it\n",
    "domesticated itself at once, and became immediately a great favorite with my\n",
    "wife.\n",
    "   For my own part, I soon found a dislike to it arising within me. This was\n",
    "just the reverse of what I had anticipated; but I know not how or why it was\n",
    "--its evident fondness for myself rather disgusted and annoyed. By slow\n",
    "degrees, these feelings of disgust and annoyance rose into the bitterness of\n",
    "hatred. I avoided the creature; a certain sense of shame, and the\n",
    "remembrance of my former deed of cruelty, preventing me from physically\n",
    "abusing it. I did not, for some weeks, strike, or otherwise violently ill\n",
    "use it; but gradually --very gradually --I came to look upon it with\n",
    "unutterable loathing, and to flee silently from its odious presence, as from\n",
    "the breath of a pestilence.\n",
    "   What added, no doubt, to my hatred of the beast, was the discovery, on\n",
    "the morning after I brought it home, that, like Pluto, it also had been\n",
    "deprived of one of its eyes. This circumstance, however, only endeared it to\n",
    "my wife, who, as I have already said, possessed, in a high degree, that\n",
    "humanity of feeling which had once been my distinguishing trait, and the\n",
    "source of many of my simplest and purest pleasures.\n",
    "   With my aversion to this cat, however, its partiality for myself seemed\n",
    "to increase. It followed my footsteps with a pertinacity which it would be\n",
    "difficult to make the reader comprehend. Whenever I sat, it would crouch\n",
    "beneath my chair, or spring upon my knees, covering me with its loathsome\n",
    "caresses. If I arose to walk it would get between my feet and thus nearly\n",
    "throw me down, or, fastening its long and sharp claws in my dress, clamber,\n",
    "in this manner, to my breast. At such times, although I longed to destroy it\n",
    "with a blow, I was yet withheld from so doing, partly it at by a memory of\n",
    "my former crime, but chiefly --let me confess it at once --by absolute dread\n",
    "of the beast.\n",
    "   This dread was not exactly a dread of physical evil-and yet I should be\n",
    "at a loss how otherwise to define it. I am almost ashamed to own --yes, even\n",
    "in this felon's cell, I am almost ashamed to own --that the terror and\n",
    "horror with which the animal inspired me, had been heightened by one of the\n",
    "merest chimaeras it would be possible to conceive. My wife had called my\n",
    "attention, more than once, to the character of the mark of white hair, of\n",
    "which I have spoken, and which constituted the sole visible difference\n",
    "between the strange beast and the one I had y si destroyed. The reader will\n",
    "remember that this mark, although large, had been originally very\n",
    "indefinite; but, by slow degrees --degrees nearly imperceptible, and which\n",
    "for a long time my Reason struggled to reject as fanciful --it had, at\n",
    "length, assumed a rigorous distinctness of outline. It was now the\n",
    "representation of an object that I shudder to name --and for this, above\n",
    "all, I loathed, and dreaded, and would have rid myself of the monster had I\n",
    "dared --it was now, I say, the image of a hideous --of a ghastly thing --of\n",
    "the GALLOWS! --oh, mournful and terrible engine of Horror and of Crime --of\n",
    "Agony and of Death!\n",
    "   And now was I indeed wretched beyond the wretchedness of mere Humanity.\n",
    "And a brute beast --whose fellow I had contemptuously destroyed --a brute\n",
    "beast to work out for me --for me a man, fashioned in the image of the High\n",
    "God --so much of insufferable wo! Alas! neither by day nor by night knew I\n",
    "the blessing of Rest any more! During the former the creature left me no\n",
    "moment alone; and, in the latter, I started, hourly, from dreams of\n",
    "unutterable fear, to find the hot breath of the thing upon my face, and its\n",
    "vast weight --an incarnate Night-Mare that I had no power to shake off\n",
    "--incumbent eternally upon my heart!\n",
    "   Beneath the pressure of torments such as these, the feeble remnant of the\n",
    "good within me succumbed. Evil thoughts became my sole intimates --the\n",
    "darkest and most evil of thoughts. The moodiness of my usual temper\n",
    "increased to hatred of all things and of all mankind; while, from the\n",
    "sudden, frequent, and ungovernable outbursts of a fury to which I now\n",
    "blindly abandoned myself, my uncomplaining wife, alas! was the most usual\n",
    "and the most patient of sufferers.\n",
    "   One day she accompanied me, upon some household errand, into the cellar\n",
    "of the old building which our poverty compelled us to inhabit. The cat\n",
    "followed me down the steep stairs, and, nearly throwing me headlong,\n",
    "exasperated me to madness. Uplifting an axe, and forgetting, in my wrath,\n",
    "the childish dread which had hitherto stayed my hand, I aimed a blow at the\n",
    "animal which, of course, would have proved instantly fatal had it descended\n",
    "as I wished. But this blow was arrested by the hand of my wife. Goaded, by\n",
    "the interference, into a rage more than demoniacal, I withdrew my arm from\n",
    "her grasp and buried the axe in her brain. She fell dead upon the spot,\n",
    "without a groan.\n",
    "   This hideous murder accomplished, I set myself forthwith, and with entire\n",
    "deliberation, to the task of concealing the body. I knew that I could not\n",
    "remove it from the house, either by day or by night, without the risk of\n",
    "being observed by the neighbors. Many projects entered my mind. At one\n",
    "period I thought of cutting the corpse into minute fragments, and destroying\n",
    "them by fire. At another, I resolved to dig a grave for it in the floor of\n",
    "the cellar. Again, I deliberated about casting it in the well in the yard\n",
    "--about packing it in a box, as if merchandize, with the usual arrangements,\n",
    "and so getting a porter to take it from the house. Finally I hit upon what I\n",
    "considered a far better expedient than either of these. I determined to wall\n",
    "it up in the cellar --as the monks of the middle ages are recorded to have\n",
    "walled up their victims.\n",
    "   For a purpose such as this the cellar was well adapted. Its walls were\n",
    "loosely constructed, and had lately been plastered throughout with a rough\n",
    "plaster, which the dampness of the atmosphere had prevented from hardening.\n",
    "Moreover, in one of the walls was a projection, caused by a false chimney,\n",
    "or fireplace, that had been filled up, and made to resemble the rest of the\n",
    "cellar. I made no doubt that I could readily displace the at this point,\n",
    "insert the corpse, and wall the whole up as before, so that no eye could\n",
    "detect anything suspicious.\n",
    "   And in this calculation I was not deceived. By means of a crow-bar I\n",
    "easily dislodged the bricks, and, having carefully deposited the body\n",
    "against the inner wall, I propped it in that position, while, with little\n",
    "trouble, I re-laid the whole structure as it originally stood. Having\n",
    "procured mortar, sand, and hair, with every possible precaution, I prepared\n",
    "a plaster could not every poss be distinguished from the old, and with this\n",
    "I very carefully went over the new brick-work. When I had finished, I felt\n",
    "satisfied that all was right. The wall did not present the slightest\n",
    "appearance of having been disturbed. The rubbish on the floor was picked up\n",
    "with the minutest care. I looked around triumphantly, and said to myself\n",
    "--\"Here at least, then, my labor has not been in vain.\"\n",
    "   My next step was to look for the beast which had been the cause of so\n",
    "much wretchedness; for I had, at length, firmly resolved to put it to death.\n",
    "Had I been able to meet with it, at the moment, there could have been no\n",
    "doubt of its fate; but it appeared that the crafty animal had been alarmed\n",
    "at the violence of my previous anger, and forebore to present itself in my\n",
    "present mood. It is impossible to describe, or to imagine, the deep, the\n",
    "blissful sense of relief which the absence of the detested creature\n",
    "occasioned in my bosom. It did not make its appearance during the night\n",
    "--and thus for one night at least, since its introduction into the house, I\n",
    "soundly and tranquilly slept; aye, slept even with the burden of murder upon\n",
    "my soul!\n",
    "   The second and the third day passed, and still my tormentor came not.\n",
    "Once again I breathed as a free-man. The monster, in terror, had fled the\n",
    "premises forever! I should behold it no more! My happiness was supreme! The\n",
    "guilt of my dark deed disturbed me but little. Some few inquiries had been\n",
    "made, but these had been readily answered. Even a search had been instituted\n",
    "--but of course nothing was to be discovered. I looked upon my future\n",
    "felicity as secured.\n",
    "   Upon the fourth day of the assassination, a party of the police came,\n",
    "very unexpectedly, into the house, and proceeded again to make rigorous\n",
    "investigation of the premises. Secure, however, in the inscrutability of my\n",
    "place of concealment, I felt no embarrassment whatever. The officers bade me\n",
    "accompany them in their search. They left no nook or corner unexplored. At\n",
    "length, for the third or fourth time, they descended into the cellar. I\n",
    "quivered not in a muscle. My heart beat calmly as that of one who slumbers\n",
    "in innocence. I walked the cellar from end to end. I folded my arms upon my\n",
    "bosom, and roamed easily to and fro. The police were thoroughly satisfied\n",
    "and prepared to depart. The glee at my heart was too strong to be\n",
    "restrained. I burned to say if but one word, by way of triumph, and to\n",
    "render doubly sure their assurance of my guiltlessness.\n",
    "   \"Gentlemen,\" I said at last, as the party ascended the steps, \"I delight\n",
    "to have allayed your suspicions. I wish you all health, and a little more\n",
    "courtesy. By the bye, gentlemen, this --this is a very well constructed\n",
    "house.\" (In the rabid desire to say something easily, I scarcely knew what I\n",
    "uttered at all.) --\"I may say an excellently well constructed house. These\n",
    "walls --are you going, gentlemen? --these walls are solidly put together\";\n",
    "and here, through the mere phrenzy of bravado, I rapped heavily, with a cane\n",
    "which I held in my hand, upon that very portion of the brick-work behind\n",
    "which stood the corpse of the wife of my bosom.\n",
    "   But may God shield and deliver me from the fangs of the Arch-Fiend! No\n",
    "sooner had the reverberation of my blows sunk into silence than I was\n",
    "answered by a voice from within the tomb! --by a cry, at first muffled and\n",
    "broken, like the sobbing of a child, and then quickly swelling into one\n",
    "long, loud, and continuous scream, utterly anomalous and inhuman --a howl\n",
    "--a wailing shriek, half of horror and half of triumph, such as might have\n",
    "arisen only out of hell, conjointly from the throats of the damned in their\n",
    "agony and of the demons that exult in the damnation.\n",
    "   Of my own thoughts it is folly to speak. Swooning, I staggered to the\n",
    "opposite wall. For one instant the party upon the stairs remained\n",
    "motionless, through extremity of terror and of awe. In the next, a dozen\n",
    "stout arms were tolling at the wall. It fell bodily. The corpse, already\n",
    "greatly decayed and clotted with gore, stood erect before the eyes of the\n",
    "spectators. Upon its head, with red extended mouth and solitary eye of fire,\n",
    "sat the hideous beast whose craft had seduced me into murder, and whose\n",
    "informing voice had consigned me to the hangman. I had walled the monster up\n",
    "within the tomb!\n",
    "\"\"\""
   ]
  },
  {
   "cell_type": "markdown",
   "metadata": {
    "slideshow": {
     "slide_type": "slide"
    }
   },
   "source": [
    "# Homework"
   ]
  },
  {
   "cell_type": "markdown",
   "metadata": {
    "slideshow": {
     "slide_type": "-"
    }
   },
   "source": [
    "The ciphertext \"KDDKMU\" has been encrypted with a Ceasar cipher. Find the plaintext using brute force attack."
   ]
  },
  {
   "cell_type": "markdown",
   "metadata": {
    "slideshow": {
     "slide_type": "-"
    }
   },
   "source": [
    "Encrypt the plaintext \"CLEOPATRA\" using an affine cipher with encryption function 7x+8."
   ]
  },
  {
   "cell_type": "markdown",
   "metadata": {
    "slideshow": {
     "slide_type": "-"
    }
   },
   "source": [
    "The ciphertext \"MZDVEZC\" has been obtained using an affine cipher with encryption function y=5x+12. Find the plaintext."
   ]
  },
  {
   "cell_type": "code",
   "execution_count": null,
   "metadata": {},
   "outputs": [],
   "source": []
  }
 ],
 "metadata": {
  "kernelspec": {
   "display_name": "SageMath 9.0",
   "language": "sage",
   "name": "sagemath"
  },
  "language_info": {
   "codemirror_mode": {
    "name": "ipython",
    "version": 3
   },
   "file_extension": ".py",
   "mimetype": "text/x-python",
   "name": "python",
   "nbconvert_exporter": "python",
   "pygments_lexer": "ipython3",
   "version": "3.7.3"
  }
 },
 "nbformat": 4,
 "nbformat_minor": 2
}
