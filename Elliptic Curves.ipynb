{
 "cells": [
  {
   "cell_type": "markdown",
   "metadata": {},
   "source": [
    "## Elliptic Curves"
   ]
  },
  {
   "cell_type": "markdown",
   "metadata": {},
   "source": [
    "Elliptic curves can be created easily with the command EllipticCurve\n",
    "\n",
    "Suppose we want to create the curve $y^2 = x^3 + x + 1 \\mod 13$\n"
   ]
  },
  {
   "cell_type": "code",
   "execution_count": 1,
   "metadata": {},
   "outputs": [
    {
     "name": "stdout",
     "output_type": "stream",
     "text": [
      "Elliptic Curve defined by y^2 = x^3 + x + 1 over Ring of integers modulo 13\n"
     ]
    }
   ],
   "source": [
    "p = 13\n",
    "b = 1\n",
    "c = 1\n",
    "\n",
    "E = EllipticCurve(Zmod(p),[b,c])\n",
    "print(E)"
   ]
  },
  {
   "cell_type": "markdown",
   "metadata": {},
   "source": [
    "We can check if the curve is singular"
   ]
  },
  {
   "cell_type": "code",
   "execution_count": 2,
   "metadata": {},
   "outputs": [
    {
     "data": {
      "text/plain": [
       "False"
      ]
     },
     "execution_count": 2,
     "metadata": {},
     "output_type": "execute_result"
    }
   ],
   "source": [
    "E.is_singular()"
   ]
  },
  {
   "cell_type": "markdown",
   "metadata": {},
   "source": [
    "We can plot the curve"
   ]
  },
  {
   "cell_type": "code",
   "execution_count": 3,
   "metadata": {},
   "outputs": [
    {
     "data": {
      "image/png": "[encoded data removed]",
      "text/plain": [
       "Graphics object consisting of 1 graphics primitive"
      ]
     },
     "execution_count": 3,
     "metadata": {},
     "output_type": "execute_result"
    }
   ],
   "source": [
    "E.plot()"
   ]
  },
  {
   "cell_type": "markdown",
   "metadata": {},
   "source": [
    "How many points?"
   ]
  },
  {
   "cell_type": "code",
   "execution_count": 4,
   "metadata": {},
   "outputs": [
    {
     "data": {
      "text/plain": [
       "18"
      ]
     },
     "execution_count": 4,
     "metadata": {},
     "output_type": "execute_result"
    }
   ],
   "source": [
    "E.order()"
   ]
  },
  {
   "cell_type": "markdown",
   "metadata": {},
   "source": [
    "We can do that only because the curve is small. We can also print the points."
   ]
  },
  {
   "cell_type": "code",
   "execution_count": 5,
   "metadata": {},
   "outputs": [
    {
     "data": {
      "text/plain": [
       "[(0 : 1 : 0), (0 : 1 : 1), (0 : 12 : 1), (1 : 4 : 1), (1 : 9 : 1), (4 : 2 : 1), (4 : 11 : 1), (5 : 1 : 1), (5 : 12 : 1), (7 : 0 : 1), (8 : 1 : 1), (8 : 12 : 1), (10 : 6 : 1), (10 : 7 : 1), (11 : 2 : 1), (11 : 11 : 1), (12 : 5 : 1), (12 : 8 : 1)]"
      ]
     },
     "execution_count": 5,
     "metadata": {},
     "output_type": "execute_result"
    }
   ],
   "source": [
    "E.points()"
   ]
  },
  {
   "cell_type": "markdown",
   "metadata": {},
   "source": [
    "Sagemath uses projective coordinates, so the points have three coordinates (x,y,z).\n",
    "z is always equal to 1, except for the infinity, which has z = 0.\n",
    "In sagemath the point at infinity is (0:1:0).\n",
    "\n",
    "If we do not have the infinity, we can write the points in the usual (x,y) coordinates using E.xy()"
   ]
  },
  {
   "cell_type": "code",
   "execution_count": 6,
   "metadata": {},
   "outputs": [
    {
     "data": {
      "text/plain": [
       "[(0, 1),\n",
       " (0, 12),\n",
       " (1, 4),\n",
       " (1, 9),\n",
       " (4, 2),\n",
       " (4, 11),\n",
       " (5, 1),\n",
       " (5, 12),\n",
       " (7, 0),\n",
       " (8, 1),\n",
       " (8, 12),\n",
       " (10, 6),\n",
       " (10, 7),\n",
       " (11, 2),\n",
       " (11, 11),\n",
       " (12, 5),\n",
       " (12, 8)]"
      ]
     },
     "execution_count": 6,
     "metadata": {},
     "output_type": "execute_result"
    }
   ],
   "source": [
    "[P.xy() for P in E.points()[1:] ]"
   ]
  },
  {
   "cell_type": "markdown",
   "metadata": {},
   "source": [
    "Let's find a generator"
   ]
  },
  {
   "cell_type": "code",
   "execution_count": 7,
   "metadata": {},
   "outputs": [
    {
     "data": {
      "text/plain": [
       "((1 : 9 : 1),)"
      ]
     },
     "execution_count": 7,
     "metadata": {},
     "output_type": "execute_result"
    }
   ],
   "source": [
    "E.gens()"
   ]
  },
  {
   "cell_type": "markdown",
   "metadata": {},
   "source": [
    "In some domains you need multiple generators, so the function returns a tuple of generators. In our case a single generator is sufficient."
   ]
  },
  {
   "cell_type": "code",
   "execution_count": 8,
   "metadata": {},
   "outputs": [
    {
     "name": "stdout",
     "output_type": "stream",
     "text": [
      "(1, 9)\n"
     ]
    }
   ],
   "source": [
    "P=E.gens()[0]\n",
    "print(P.xy())"
   ]
  },
  {
   "cell_type": "markdown",
   "metadata": {},
   "source": [
    "Let's see the order"
   ]
  },
  {
   "cell_type": "code",
   "execution_count": 9,
   "metadata": {},
   "outputs": [
    {
     "data": {
      "text/plain": [
       "18"
      ]
     },
     "execution_count": 9,
     "metadata": {},
     "output_type": "execute_result"
    }
   ],
   "source": [
    "P.order()"
   ]
  },
  {
   "cell_type": "markdown",
   "metadata": {},
   "source": [
    "Sagemath tells that the order is 18, but we want to verify.\n",
    "\n",
    "To verify that P is a generator, we multiply it by the divisors of the number of points $n$ and verify that the result is not infinity.\n",
    "\n",
    "If the factorization of the number of points is $n=\\sum p_i^{a_i}$, it is sufficient to try all the $N/p_i$"
   ]
  },
  {
   "cell_type": "code",
   "execution_count": 10,
   "metadata": {},
   "outputs": [
    {
     "name": "stdout",
     "output_type": "stream",
     "text": [
      "9P is: (7 : 0 : 1)\n",
      "6P is: (10 : 7 : 1)\n"
     ]
    }
   ],
   "source": [
    "print(\"9P is: %s\" % (9*P))\n",
    "print(\"6P is: %s\" % (6*P))"
   ]
  },
  {
   "cell_type": "markdown",
   "metadata": {},
   "source": [
    "We can also list the points or draw them in a wheel"
   ]
  },
  {
   "cell_type": "code",
   "execution_count": 17,
   "metadata": {},
   "outputs": [
    {
     "data": {
      "text/plain": [
       "[(0 : 1 : 0),\n",
       " (1 : 9 : 1),\n",
       " (8 : 1 : 1),\n",
       " (0 : 1 : 1),\n",
       " (11 : 2 : 1),\n",
       " (5 : 12 : 1),\n",
       " (10 : 7 : 1),\n",
       " (12 : 5 : 1),\n",
       " (4 : 11 : 1),\n",
       " (7 : 0 : 1),\n",
       " (4 : 2 : 1),\n",
       " (12 : 8 : 1),\n",
       " (10 : 6 : 1),\n",
       " (5 : 1 : 1),\n",
       " (11 : 11 : 1),\n",
       " (0 : 12 : 1),\n",
       " (8 : 12 : 1),\n",
       " (1 : 4 : 1)]"
      ]
     },
     "execution_count": 17,
     "metadata": {},
     "output_type": "execute_result"
    }
   ],
   "source": [
    "[i*P for i in range(order(P))]"
   ]
  },
  {
   "cell_type": "code",
   "execution_count": 18,
   "metadata": {},
   "outputs": [
    {
     "data": {
      "image/png": "[encoded data removed]",
      "text/plain": [
       "Graphics object consisting of 18 graphics primitives"
      ]
     },
     "execution_count": 18,
     "metadata": {},
     "output_type": "execute_result"
    }
   ],
   "source": [
    "#g = list_plot([(cos(2*pi*t/order(P)),sin(2*pi*t/order(P))) for t in range(order(P))])\n",
    "g = text(r\"$\\infty$\",(1,0))\n",
    "for t in range(1,order(P)):\n",
    "    g += text((t*P).xy(),(cos(2*pi*t/order(P)),sin(2*pi*t/order(P))))\n",
    "g"
   ]
  },
  {
   "cell_type": "markdown",
   "metadata": {},
   "source": [
    "## ECDSA\n",
    "\n",
    "We now execute some real ECDSA using a standard curve."
   ]
  },
  {
   "cell_type": "code",
   "execution_count": 19,
   "metadata": {},
   "outputs": [],
   "source": [
    "from cryptography.hazmat.backends import default_backend\n",
    "from cryptography.hazmat.primitives import hashes\n",
    "from cryptography.hazmat.primitives.asymmetric import ec\n",
    "from cryptography.hazmat.primitives.asymmetric.utils import decode_dss_signature"
   ]
  },
  {
   "cell_type": "markdown",
   "metadata": {},
   "source": [
    "We use NIST curve SECP384r1. The key size is 384 bits.\n",
    "There is no need to generate parameters, because the standard already provides the curve equation, a generator and its order.\n",
    "\n",
    "We proceed with the generation of a private key and of the corresponding public key."
   ]
  },
  {
   "cell_type": "code",
   "execution_count": 33,
   "metadata": {},
   "outputs": [
    {
     "name": "stdout",
     "output_type": "stream",
     "text": [
      "Private key is: 33116702632925456467471543954722153581240061404579606490301797715878614527002926702292647143326474178867729984324926\n"
     ]
    }
   ],
   "source": [
    "private_key = ec.generate_private_key(\n",
    "    ec.SECP384R1(), default_backend()\n",
    "    )\n",
    "print(\"Private key is: %d\" % private_key.private_numbers().private_value)"
   ]
  },
  {
   "cell_type": "code",
   "execution_count": 34,
   "metadata": {},
   "outputs": [
    {
     "name": "stdout",
     "output_type": "stream",
     "text": [
      "Public key is : (5249236418722360737785283926114280323143441693407168724134026998666168534286801355530452427204549341848292156952436,2400253076419321484909647344421940597552893651248320872376646124319909998215450948831257556852839652193855939190758)\n"
     ]
    }
   ],
   "source": [
    "public_key = private_key.public_key()\n",
    "print(\"Public key is : (%s,%s)\" % (public_key.public_numbers().x,public_key.public_numbers().y))"
   ]
  },
  {
   "cell_type": "markdown",
   "metadata": {},
   "source": [
    "Remember that the private key is an integer, while the public key is a point. Now we can sign a message.\n",
    "The signature will be encoded using the DER rules, so it will be a string of bits."
   ]
  },
  {
   "cell_type": "code",
   "execution_count": 22,
   "metadata": {},
   "outputs": [
    {
     "name": "stdout",
     "output_type": "stream",
     "text": [
      "306502304aa9cab3b4aa86bbebf7b52a9355e83beb2dce1fbbf84c72659ef59f1e7b9e41e303896e31927c05429492d0f1ae94e2023100a59c9eda1316c053b5c4a14e59cc5762f2216fa18957d4401749a4d8186d772a6f2e9d4cae9f72f16410ef056eefde90\n"
     ]
    }
   ],
   "source": [
    "data = b\"this is some data I'd like to sign\"\n",
    "signature = private_key.sign(\n",
    "    data,\n",
    "    ec.ECDSA(hashes.SHA256())\n",
    "    )\n",
    "print(signature.hex())"
   ]
  },
  {
   "cell_type": "markdown",
   "metadata": {},
   "source": [
    "The DSA signature is randomized, so if we run the algorithm again we get a different signature. The interface does not ask for a nonce, so we cannot make the mistake of providing repeated nonces."
   ]
  },
  {
   "cell_type": "code",
   "execution_count": 24,
   "metadata": {},
   "outputs": [
    {
     "name": "stdout",
     "output_type": "stream",
     "text": [
      "30650230604981635bbd9a19f8dae87f3d51fc3a1f871c789515e9144a6e8f20f5807fb2c40871d5b5bea83b12a7c42289a8425b023100f52dfe6aa981c40516cd8686ab24472749ecd5690593df8c9657aedde3eaaf4b0fced3d3b7fa8c98828430c448016466\n"
     ]
    }
   ],
   "source": [
    "signature = private_key.sign(\n",
    "    data,\n",
    "    ec.ECDSA(hashes.SHA256())\n",
    "    )\n",
    "print(signature.hex())"
   ]
  },
  {
   "cell_type": "markdown",
   "metadata": {},
   "source": [
    "We can decode the signature and retrieve the parameters $r$ and $s$"
   ]
  },
  {
   "cell_type": "code",
   "execution_count": 25,
   "metadata": {},
   "outputs": [
    {
     "name": "stdout",
     "output_type": "stream",
     "text": [
      "r = 14819945760941046450528965501454069975628264105719125264612264585123295913956595614474061646985335738951695327576667\n",
      "s = 37736603961530581136830217433410930613637373997625320347253775268047990267890835045781240759677863118787543293846630\n"
     ]
    }
   ],
   "source": [
    "(r,s)=decode_dss_signature(signature)\n",
    "print(\"r = %d\\ns = %d\" % (r,s) )"
   ]
  },
  {
   "cell_type": "markdown",
   "metadata": {},
   "source": [
    "We can verify the signature using the public key. If the signature is wrong, we get an exception"
   ]
  },
  {
   "cell_type": "code",
   "execution_count": 26,
   "metadata": {},
   "outputs": [
    {
     "name": "stdout",
     "output_type": "stream",
     "text": [
      "OK\n"
     ]
    }
   ],
   "source": [
    "try:\n",
    "    public_key.verify(signature,data,ec.ECDSA(hashes.SHA256()))\n",
    "    print(\"OK\")\n",
    "except:\n",
    "    print(\"KO\")"
   ]
  },
  {
   "cell_type": "markdown",
   "metadata": {},
   "source": [
    "What happens if the message was modified?"
   ]
  },
  {
   "cell_type": "code",
   "execution_count": 27,
   "metadata": {},
   "outputs": [
    {
     "name": "stdout",
     "output_type": "stream",
     "text": [
      "KO\n"
     ]
    }
   ],
   "source": [
    "modified_data = b\"this is some forged data I'd like to sign\"\n",
    "try:\n",
    "    public_key.verify(signature,modified_data,ec.ECDSA(hashes.SHA256()))\n",
    "    print(\"OK\")\n",
    "except:\n",
    "    print(\"KO\")"
   ]
  },
  {
   "cell_type": "markdown",
   "metadata": {},
   "source": [
    "## Elliptic Curve\n",
    "Let's play a bit with the SECP384r1 curve. The parameters are the following:"
   ]
  },
  {
   "cell_type": "code",
   "execution_count": 35,
   "metadata": {},
   "outputs": [],
   "source": [
    "p = 2^384 - 2^128 - 2^96 + 2^32 - 1\n",
    "b = -3\n",
    "c = 27580193559959705877849011840389048093056905856361568521428707301988689241309860865136260764883745107765439761230575\n",
    "gx = 0xaa87ca22be8b05378eb1c71ef320ad746e1d3b628ba79b9859f741e082542a385502f25dbf55296c3a545e3872760ab7\n",
    "gy = 0x3617de4a96262c6f5d9e98bf9292dc29f8f41dbd289a147ce9da3113b5f0b8c00a60b1ce1d7e819d7a431d7c90ea0e5f\n",
    "ordg = 39402006196394479212279040100143613805079739270465446667946905279627659399113263569398956308152294913554433653942643"
   ]
  },
  {
   "cell_type": "code",
   "execution_count": 36,
   "metadata": {},
   "outputs": [
    {
     "name": "stdout",
     "output_type": "stream",
     "text": [
      "E = Elliptic Curve defined by y^2 = x^3 + 39402006196394479212279040100143613805079739270465446667948293404245721771496870329047266088258938001861606973112316*x + 27580193559959705877849011840389048093056905856361568521428707301988689241309860865136260764883745107765439761230575 over Ring of integers modulo 39402006196394479212279040100143613805079739270465446667948293404245721771496870329047266088258938001861606973112319\n",
      "G = (\n",
      "26247035095799689268623156744566981891852923491109213387815615900925518854738050089022388053975719786650872476732087,\n",
      "8325710961489029985546751289520108179287853048861315594709205902480503199884419224438643760392947333078086511627871)\n"
     ]
    }
   ],
   "source": [
    "E = EllipticCurve(Zmod(p),[b,c])\n",
    "G = E(gx,gy)\n",
    "print(\"E = %s\" % E)\n",
    "print(\"G = (\\n%d,\\n%d)\" % G.xy())"
   ]
  },
  {
   "cell_type": "markdown",
   "metadata": {},
   "source": [
    "Is the curve singular?"
   ]
  },
  {
   "cell_type": "code",
   "execution_count": 37,
   "metadata": {},
   "outputs": [
    {
     "data": {
      "text/plain": [
       "False"
      ]
     },
     "execution_count": 37,
     "metadata": {},
     "output_type": "execute_result"
    }
   ],
   "source": [
    "E.is_singular()"
   ]
  },
  {
   "cell_type": "markdown",
   "metadata": {},
   "source": [
    "Let's verify that the order of $G$ is correct."
   ]
  },
  {
   "cell_type": "code",
   "execution_count": 38,
   "metadata": {},
   "outputs": [
    {
     "data": {
      "text/plain": [
       "(0 : 1 : 0)"
      ]
     },
     "execution_count": 38,
     "metadata": {},
     "output_type": "execute_result"
    }
   ],
   "source": [
    "ordg*G"
   ]
  },
  {
   "cell_type": "markdown",
   "metadata": {},
   "source": [
    "Ok, but what about the factors?"
   ]
  },
  {
   "cell_type": "code",
   "execution_count": 39,
   "metadata": {},
   "outputs": [
    {
     "data": {
      "text/plain": [
       "True"
      ]
     },
     "execution_count": 39,
     "metadata": {},
     "output_type": "execute_result"
    }
   ],
   "source": [
    "is_prime(ordg)"
   ]
  },
  {
   "cell_type": "markdown",
   "metadata": {},
   "source": [
    "Oh, the order of $G$ is prime. The standard also says that $G$ is a generator of the curve. Let's compare it with Hasse's theorem."
   ]
  },
  {
   "cell_type": "code",
   "execution_count": 40,
   "metadata": {},
   "outputs": [
    {
     "data": {
      "text/plain": [
       "True"
      ]
     },
     "execution_count": 40,
     "metadata": {},
     "output_type": "execute_result"
    }
   ],
   "source": [
    "abs(ordg-(p+1)) < 2*sqrt(p+0.0)"
   ]
  },
  {
   "cell_type": "markdown",
   "metadata": {},
   "source": [
    "Ok, it is consistent with Hasse's theorem."
   ]
  },
  {
   "cell_type": "markdown",
   "metadata": {},
   "source": [
    "Now we can try to calculate the public key from the private key."
   ]
  },
  {
   "cell_type": "code",
   "execution_count": 41,
   "metadata": {},
   "outputs": [
    {
     "data": {
      "text/plain": [
       "(5249236418722360737785283926114280323143441693407168724134026998666168534286801355530452427204549341848292156952436,\n",
       " 2400253076419321484909647344421940597552893651248320872376646124319909998215450948831257556852839652193855939190758)"
      ]
     },
     "execution_count": 41,
     "metadata": {},
     "output_type": "execute_result"
    }
   ],
   "source": [
    "P = private_key.private_numbers().private_value * G\n",
    "P.xy()"
   ]
  },
  {
   "cell_type": "markdown",
   "metadata": {},
   "source": [
    "Compare that to the public key calculated with the openssl library"
   ]
  },
  {
   "cell_type": "code",
   "execution_count": 42,
   "metadata": {},
   "outputs": [
    {
     "data": {
      "text/plain": [
       "<EllipticCurvePublicNumbers(curve=secp384r1, x=5249236418722360737785283926114280323143441693407168724134026998666168534286801355530452427204549341848292156952436, y=2400253076419321484909647344421940597552893651248320872376646124319909998215450948831257556852839652193855939190758>"
      ]
     },
     "execution_count": 42,
     "metadata": {},
     "output_type": "execute_result"
    }
   ],
   "source": [
    "public_key.public_numbers()"
   ]
  },
  {
   "cell_type": "code",
   "execution_count": 0,
   "metadata": {},
   "outputs": [],
   "source": []
  }
 ],
 "metadata": {
  "kernelspec": {
   "display_name": "SageMath 9.0",
   "language": "sage",
   "name": "sagemath"
  },
  "language_info": {
   "codemirror_mode": {
    "name": "ipython",
    "version": 3
   },
   "file_extension": ".py",
   "mimetype": "text/x-python",
   "name": "python",
   "nbconvert_exporter": "python",
   "pygments_lexer": "ipython3",
   "version": "3.7.3"
  }
 },
 "nbformat": 4,
 "nbformat_minor": 1
}
