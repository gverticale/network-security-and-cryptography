{
 "cells": [
  {
   "cell_type": "markdown",
   "metadata": {},
   "source": [
    "## Elliptic Curves"
   ]
  },
  {
   "cell_type": "markdown",
   "metadata": {},
   "source": [
    "Elliptic curves can be created easily with the command EllipticCurve\n",
    "\n",
    "Suppose we want to create the curve $y^2 = x^3 + x + 1 \\mod 13$\n"
   ]
  },
  {
   "cell_type": "code",
   "execution_count": 2,
   "metadata": {},
   "outputs": [
    {
     "name": "stdout",
     "output_type": "stream",
     "text": [
      "Elliptic Curve defined by y^2 = x^3 + x + 1 over Ring of integers modulo 13\n"
     ]
    }
   ],
   "source": [
    "p = 13\n",
    "b = 1\n",
    "c = 1\n",
    "\n",
    "E = EllipticCurve(Zmod(p),[b,c])\n",
    "print(E)"
   ]
  },
  {
   "cell_type": "markdown",
   "metadata": {},
   "source": [
    "We can check if the curve is singular"
   ]
  },
  {
   "cell_type": "code",
   "execution_count": 3,
   "metadata": {},
   "outputs": [
    {
     "data": {
      "text/plain": [
       "False"
      ]
     },
     "execution_count": 3,
     "metadata": {},
     "output_type": "execute_result"
    }
   ],
   "source": [
    "E.is_singular()"
   ]
  },
  {
   "cell_type": "markdown",
   "metadata": {},
   "source": [
    "We can plot the curve"
   ]
  },
  {
   "cell_type": "code",
   "execution_count": 4,
   "metadata": {},
   "outputs": [
    {
     "data": {
      "image/png": "[encoded data removed]",
      "text/plain": [
       "Graphics object consisting of 1 graphics primitive"
      ]
     },
     "execution_count": 4,
     "metadata": {},
     "output_type": "execute_result"
    }
   ],
   "source": [
    "E.plot()"
   ]
  },
  {
   "cell_type": "markdown",
   "metadata": {},
   "source": [
    "How many points?"
   ]
  },
  {
   "cell_type": "code",
   "execution_count": 5,
   "metadata": {},
   "outputs": [
    {
     "data": {
      "text/plain": [
       "18"
      ]
     },
     "execution_count": 5,
     "metadata": {},
     "output_type": "execute_result"
    }
   ],
   "source": [
    "E.order()"
   ]
  },
  {
   "cell_type": "markdown",
   "metadata": {},
   "source": [
    "We can do that only because the curve is small. We can also print the points."
   ]
  },
  {
   "cell_type": "code",
   "execution_count": 16,
   "metadata": {},
   "outputs": [
    {
     "data": {
      "text/plain": [
       "[(0 : 1 : 0), (0 : 1 : 1), (0 : 12 : 1), (1 : 4 : 1), (1 : 9 : 1), (4 : 2 : 1), (4 : 11 : 1), (5 : 1 : 1), (5 : 12 : 1), (7 : 0 : 1), (8 : 1 : 1), (8 : 12 : 1), (10 : 6 : 1), (10 : 7 : 1), (11 : 2 : 1), (11 : 11 : 1), (12 : 5 : 1), (12 : 8 : 1)]"
      ]
     },
     "execution_count": 16,
     "metadata": {},
     "output_type": "execute_result"
    }
   ],
   "source": [
    "E.points()"
   ]
  },
  {
   "cell_type": "markdown",
   "metadata": {},
   "source": [
    "Sagemath uses projective coordinates, so the points have three coordinates (x,y,z).\n",
    "z is always equal to 1, except for the infinity, which has z = 0.\n",
    "In sagemath the point at infinity is (0:1:0).\n",
    "\n",
    "If we do not have the infinity, we can write the points in the usual (x,y) coordinates using E.xy()"
   ]
  },
  {
   "cell_type": "code",
   "execution_count": 20,
   "metadata": {},
   "outputs": [
    {
     "data": {
      "text/plain": [
       "[(0, 1),\n",
       " (0, 12),\n",
       " (1, 4),\n",
       " (1, 9),\n",
       " (4, 2),\n",
       " (4, 11),\n",
       " (5, 1),\n",
       " (5, 12),\n",
       " (7, 0),\n",
       " (8, 1),\n",
       " (8, 12),\n",
       " (10, 6),\n",
       " (10, 7),\n",
       " (11, 2),\n",
       " (11, 11),\n",
       " (12, 5),\n",
       " (12, 8)]"
      ]
     },
     "execution_count": 20,
     "metadata": {},
     "output_type": "execute_result"
    }
   ],
   "source": [
    "[P.xy() for P in E.points()[1:] ]"
   ]
  },
  {
   "cell_type": "markdown",
   "metadata": {},
   "source": [
    "Let's find a generator"
   ]
  },
  {
   "cell_type": "code",
   "execution_count": 21,
   "metadata": {},
   "outputs": [
    {
     "data": {
      "text/plain": [
       "((1 : 9 : 1),)"
      ]
     },
     "execution_count": 21,
     "metadata": {},
     "output_type": "execute_result"
    }
   ],
   "source": [
    "E.gens()"
   ]
  },
  {
   "cell_type": "markdown",
   "metadata": {},
   "source": [
    "In some domains you need multiple generators, so the function returns a tuple of generators. In our case a single generator is sufficient."
   ]
  },
  {
   "cell_type": "code",
   "execution_count": 24,
   "metadata": {},
   "outputs": [
    {
     "name": "stdout",
     "output_type": "stream",
     "text": [
      "(1, 9)\n"
     ]
    }
   ],
   "source": [
    "P=E.gens()[0]\n",
    "print(P.xy())"
   ]
  },
  {
   "cell_type": "markdown",
   "metadata": {},
   "source": [
    "Let's see the order"
   ]
  },
  {
   "cell_type": "code",
   "execution_count": 25,
   "metadata": {},
   "outputs": [
    {
     "data": {
      "text/plain": [
       "18"
      ]
     },
     "execution_count": 25,
     "metadata": {},
     "output_type": "execute_result"
    }
   ],
   "source": [
    "P.order()"
   ]
  },
  {
   "cell_type": "markdown",
   "metadata": {},
   "source": [
    "Sagemath tells that the order is 18, but we want to verify.\n",
    "\n",
    "To verify that P is a generator, we multiply it by the divisors of the number of points $n$ and verify that the result is not infinity.\n",
    "\n",
    "If the factorization of the number of points is $n=\\sum p_i^{a_i}$, it is sufficient to try all the $N/p_i$"
   ]
  },
  {
   "cell_type": "code",
   "execution_count": 30,
   "metadata": {},
   "outputs": [
    {
     "name": "stdout",
     "output_type": "stream",
     "text": [
      "9P is: (7 : 0 : 1)\n",
      "6P is: (10 : 7 : 1)\n"
     ]
    }
   ],
   "source": [
    "print(\"9P is: %s\" % (9*P))\n",
    "print(\"6P is: %s\" % (6*P))"
   ]
  },
  {
   "cell_type": "markdown",
   "metadata": {},
   "source": [
    "We can also list the points or draw them in a wheel"
   ]
  },
  {
   "cell_type": "code",
   "execution_count": 35,
   "metadata": {},
   "outputs": [
    {
     "data": {
      "text/plain": [
       "[(0 : 1 : 0),\n",
       " (1 : 9 : 1),\n",
       " (8 : 1 : 1),\n",
       " (0 : 1 : 1),\n",
       " (11 : 2 : 1),\n",
       " (5 : 12 : 1),\n",
       " (10 : 7 : 1),\n",
       " (12 : 5 : 1),\n",
       " (4 : 11 : 1),\n",
       " (7 : 0 : 1),\n",
       " (4 : 2 : 1),\n",
       " (12 : 8 : 1),\n",
       " (10 : 6 : 1),\n",
       " (5 : 1 : 1),\n",
       " (11 : 11 : 1),\n",
       " (0 : 12 : 1),\n",
       " (8 : 12 : 1),\n",
       " (1 : 4 : 1)]"
      ]
     },
     "execution_count": 35,
     "metadata": {},
     "output_type": "execute_result"
    }
   ],
   "source": [
    "[i*P for i in range(order(P))]"
   ]
  },
  {
   "cell_type": "code",
   "execution_count": 36,
   "metadata": {},
   "outputs": [
    {
     "data": {
      "image/png": "[encoded data removed]",
      "text/plain": [
       "Graphics object consisting of 18 graphics primitives"
      ]
     },
     "execution_count": 36,
     "metadata": {},
     "output_type": "execute_result"
    }
   ],
   "source": [
    "#g = list_plot([(cos(2*pi*t/order(P)),sin(2*pi*t/order(P))) for t in range(order(P))])\n",
    "g = text(r\"$\\infty$\",(1,0))\n",
    "for t in range(1,order(P)):\n",
    "    g += text((t*P).xy(),(cos(2*pi*t/order(P)),sin(2*pi*t/order(P))))\n",
    "g"
   ]
  },
  {
   "cell_type": "markdown",
   "metadata": {},
   "source": [
    "## ECDSA\n",
    "\n",
    "We now execute some real ECDSA using a standard curve."
   ]
  },
  {
   "cell_type": "code",
   "execution_count": 37,
   "metadata": {},
   "outputs": [],
   "source": [
    "from cryptography.hazmat.backends import default_backend\n",
    "from cryptography.hazmat.primitives import hashes\n",
    "from cryptography.hazmat.primitives.asymmetric import ec\n",
    "from cryptography.hazmat.primitives.asymmetric.utils import decode_dss_signature"
   ]
  },
  {
   "cell_type": "markdown",
   "metadata": {},
   "source": [
    "We use NIST curve SECP384r1. The key size is 384 bits.\n",
    "There is no need to generate parameters, because the standard already provides the curve equation, a generator and its order.\n",
    "\n",
    "We proceed with the generation of a private key and of the corresponding public key."
   ]
  },
  {
   "cell_type": "code",
   "execution_count": 40,
   "metadata": {},
   "outputs": [
    {
     "name": "stdout",
     "output_type": "stream",
     "text": [
      "Private key is: 6461216294477480606504673742447275348529627389994382965713045066711064946957582817198445665432445758196810139068216\n",
      "Public key is : <EllipticCurvePublicNumbers(curve=secp384r1, x=37053770842938270296157497301751432528566966137607322619709506809176315409076334838114818116750798125218675918937066, y=35445389969712088269142744103570060987384403875318179020259397541574949053098800283873426606285531333460190017618063>\n"
     ]
    }
   ],
   "source": [
    "private_key = ec.generate_private_key(\n",
    "    ec.SECP384R1(), default_backend()\n",
    "    )\n",
    "print(\"Private key is: %d\" % private_key.private_numbers().private_value)\n",
    "public_key = private_key.public_key()\n",
    "print(\"Public key is : %s\" % public_key.public_numbers())"
   ]
  },
  {
   "cell_type": "markdown",
   "metadata": {},
   "source": [
    "Remember that the private key is an integer, while the public key is a point. Now we can sign a message.\n",
    "The signature will be encoded using the DER rules, so it will be a string of bits."
   ]
  },
  {
   "cell_type": "code",
   "execution_count": 43,
   "metadata": {},
   "outputs": [
    {
     "name": "stdout",
     "output_type": "stream",
     "text": [
      "30640230049fcfe5330a5af0cd096a1ff035459e951c786fc233384dd16c694f062c60f2fbaa076f6f7bc3499b42b48331319b41023009d1d73524b90dbe5c6f031f8450d3729c362fbbada5381e6a92148bbcc3933418c3293ec8768ce684443c100ff1199b\n"
     ]
    }
   ],
   "source": [
    "data = b\"this is some data I'd like to sign\"\n",
    "signature = private_key.sign(\n",
    "    data,\n",
    "    ec.ECDSA(hashes.SHA256())\n",
    "    )\n",
    "print(signature.encode('hex'))"
   ]
  },
  {
   "cell_type": "markdown",
   "metadata": {},
   "source": [
    "The DSA signature is randomized, so if we run the algorithm again we get a different signature. The interface does not ask for a nonce, so we cannot make the mistake of providing repeated nonces."
   ]
  },
  {
   "cell_type": "code",
   "execution_count": 44,
   "metadata": {},
   "outputs": [
    {
     "name": "stdout",
     "output_type": "stream",
     "text": [
      "3066023100a24fdcd9249f10ea34ea491bd1f0aa16edbfc2035aafc0b838fb0022ff39edade692f85a2d218c377e8c56c1acb134f7023100c90c4d42e437009c2390fdbd9b49b6c419c99273d58820eac012594bbbab4a797a0c5095c706698e2e7ec381fd0af28e\n"
     ]
    }
   ],
   "source": [
    "signature = private_key.sign(\n",
    "    data,\n",
    "    ec.ECDSA(hashes.SHA256())\n",
    "    )\n",
    "print(signature.encode('hex'))"
   ]
  },
  {
   "cell_type": "markdown",
   "metadata": {},
   "source": [
    "We can decode the signature and retrieve the parameters $r$ and $s$"
   ]
  },
  {
   "cell_type": "code",
   "execution_count": 50,
   "metadata": {},
   "outputs": [
    {
     "name": "stdout",
     "output_type": "stream",
     "text": [
      "r = 24982097642787267986548555712228631724179527408594898696954855470642240630496006843591264690319708303563011589747959\n",
      "s = 30944127601892930516756066797417630871615665660231645224590109722979384173750777828174756681963675496258376691282574\n"
     ]
    }
   ],
   "source": [
    "(r,s)=decode_dss_signature(signature)\n",
    "print(\"r = %d\\ns = %d\" % (r,s) )"
   ]
  },
  {
   "cell_type": "markdown",
   "metadata": {},
   "source": [
    "We can verify the signature using the public key. If the signature is wrong, we get an exception"
   ]
  },
  {
   "cell_type": "code",
   "execution_count": 52,
   "metadata": {},
   "outputs": [
    {
     "name": "stdout",
     "output_type": "stream",
     "text": [
      "OK\n"
     ]
    }
   ],
   "source": [
    "try:\n",
    "    public_key.verify(signature,data,ec.ECDSA(hashes.SHA256()))\n",
    "    print(\"OK\")\n",
    "except:\n",
    "    print(\"KO\")"
   ]
  },
  {
   "cell_type": "markdown",
   "metadata": {},
   "source": [
    "What happens if the message was modified?"
   ]
  },
  {
   "cell_type": "code",
   "execution_count": 53,
   "metadata": {},
   "outputs": [
    {
     "name": "stdout",
     "output_type": "stream",
     "text": [
      "KO\n"
     ]
    }
   ],
   "source": [
    "modified_data = b\"this is some forged data I'd like to sign\"\n",
    "try:\n",
    "    public_key.verify(signature,modified_data,ec.ECDSA(hashes.SHA256()))\n",
    "    print(\"OK\")\n",
    "except:\n",
    "    print(\"KO\")"
   ]
  },
  {
   "cell_type": "markdown",
   "metadata": {},
   "source": [
    "## Elliptic Curve\n",
    "Let's play a bit with the SECP384r1 curve. The parameters are the following:"
   ]
  },
  {
   "cell_type": "code",
   "execution_count": 54,
   "metadata": {},
   "outputs": [],
   "source": [
    "p = 2^384 - 2^128 - 2^96 + 2^32 - 1\n",
    "b = -3\n",
    "c = 27580193559959705877849011840389048093056905856361568521428707301988689241309860865136260764883745107765439761230575\n",
    "gx = 0xaa87ca22be8b05378eb1c71ef320ad746e1d3b628ba79b9859f741e082542a385502f25dbf55296c3a545e3872760ab7\n",
    "gy = 0x3617de4a96262c6f5d9e98bf9292dc29f8f41dbd289a147ce9da3113b5f0b8c00a60b1ce1d7e819d7a431d7c90ea0e5f\n",
    "ordg = 39402006196394479212279040100143613805079739270465446667946905279627659399113263569398956308152294913554433653942643"
   ]
  },
  {
   "cell_type": "code",
   "execution_count": 58,
   "metadata": {},
   "outputs": [
    {
     "name": "stdout",
     "output_type": "stream",
     "text": [
      "E = Elliptic Curve defined by y^2 = x^3 + 39402006196394479212279040100143613805079739270465446667948293404245721771496870329047266088258938001861606973112316*x + 27580193559959705877849011840389048093056905856361568521428707301988689241309860865136260764883745107765439761230575 over Ring of integers modulo 39402006196394479212279040100143613805079739270465446667948293404245721771496870329047266088258938001861606973112319\n",
      "G = (\n",
      "26247035095799689268623156744566981891852923491109213387815615900925518854738050089022388053975719786650872476732087,\n",
      "8325710961489029985546751289520108179287853048861315594709205902480503199884419224438643760392947333078086511627871)\n"
     ]
    }
   ],
   "source": [
    "E = EllipticCurve(Zmod(p),[b,c])\n",
    "G = E(gx,gy)\n",
    "print(\"E = %s\" % E)\n",
    "print(\"G = (\\n%d,\\n%d)\" % G.xy())"
   ]
  },
  {
   "cell_type": "markdown",
   "metadata": {},
   "source": [
    "Is the curve singular?"
   ]
  },
  {
   "cell_type": "code",
   "execution_count": 59,
   "metadata": {},
   "outputs": [
    {
     "data": {
      "text/plain": [
       "False"
      ]
     },
     "execution_count": 59,
     "metadata": {},
     "output_type": "execute_result"
    }
   ],
   "source": [
    "E.is_singular()"
   ]
  },
  {
   "cell_type": "markdown",
   "metadata": {},
   "source": [
    "Let's verify that the order of $G$ is correct."
   ]
  },
  {
   "cell_type": "code",
   "execution_count": 62,
   "metadata": {},
   "outputs": [
    {
     "data": {
      "text/plain": [
       "(0 : 1 : 0)"
      ]
     },
     "execution_count": 62,
     "metadata": {},
     "output_type": "execute_result"
    }
   ],
   "source": [
    "ordg*G"
   ]
  },
  {
   "cell_type": "markdown",
   "metadata": {},
   "source": [
    "Ok, but what about the factors?"
   ]
  },
  {
   "cell_type": "code",
   "execution_count": 63,
   "metadata": {},
   "outputs": [
    {
     "data": {
      "text/plain": [
       "True"
      ]
     },
     "execution_count": 63,
     "metadata": {},
     "output_type": "execute_result"
    }
   ],
   "source": [
    "is_prime(ordg)"
   ]
  },
  {
   "cell_type": "markdown",
   "metadata": {},
   "source": [
    "Oh, the order of $G$ is prime. The standard also says that $G$ is a generator of the curve. Let's compare it with Hasse's theorem."
   ]
  },
  {
   "cell_type": "code",
   "execution_count": 66,
   "metadata": {},
   "outputs": [
    {
     "data": {
      "text/plain": [
       "True"
      ]
     },
     "execution_count": 66,
     "metadata": {},
     "output_type": "execute_result"
    }
   ],
   "source": [
    "abs(ordg-(p+1)) < 2*sqrt(p+0.0)"
   ]
  },
  {
   "cell_type": "markdown",
   "metadata": {},
   "source": [
    "Ok, it is consistent with Hasse's theorem."
   ]
  },
  {
   "cell_type": "markdown",
   "metadata": {},
   "source": [
    "Now we can try to calculate the public key from the private key."
   ]
  },
  {
   "cell_type": "code",
   "execution_count": 69,
   "metadata": {},
   "outputs": [
    {
     "data": {
      "text/plain": [
       "(37053770842938270296157497301751432528566966137607322619709506809176315409076334838114818116750798125218675918937066,\n",
       " 35445389969712088269142744103570060987384403875318179020259397541574949053098800283873426606285531333460190017618063)"
      ]
     },
     "execution_count": 69,
     "metadata": {},
     "output_type": "execute_result"
    }
   ],
   "source": [
    "P = private_key.private_numbers().private_value * G\n",
    "P.xy()"
   ]
  },
  {
   "cell_type": "markdown",
   "metadata": {},
   "source": [
    "Compare that to the public key calculated with the openssl library"
   ]
  },
  {
   "cell_type": "code",
   "execution_count": 70,
   "metadata": {},
   "outputs": [
    {
     "data": {
      "text/plain": [
       "<EllipticCurvePublicNumbers(curve=secp384r1, x=37053770842938270296157497301751432528566966137607322619709506809176315409076334838114818116750798125218675918937066, y=35445389969712088269142744103570060987384403875318179020259397541574949053098800283873426606285531333460190017618063>"
      ]
     },
     "execution_count": 70,
     "metadata": {},
     "output_type": "execute_result"
    }
   ],
   "source": [
    "public_key.public_numbers()"
   ]
  },
  {
   "cell_type": "code",
   "execution_count": 0,
   "metadata": {},
   "outputs": [],
   "source": []
  }
 ],
 "metadata": {
  "kernelspec": {
   "display_name": "SageMath 9.0",
   "language": "sage",
   "name": "sagemath"
  },
  "language_info": {
   "codemirror_mode": {
    "name": "ipython",
    "version": 3
   },
   "file_extension": ".py",
   "mimetype": "text/x-python",
   "name": "python",
   "nbconvert_exporter": "python",
   "pygments_lexer": "ipython3",
   "version": "3.7.3"
  }
 },
 "nbformat": 4,
 "nbformat_minor": 1
}
