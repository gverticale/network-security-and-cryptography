{
 "cells": [
  {
   "cell_type": "markdown",
   "id": "1fb90df8",
   "metadata": {},
   "source": [
    "# Challenge 1. Secret Sharing"
   ]
  },
  {
   "cell_type": "markdown",
   "id": "1ee2e23f",
   "metadata": {},
   "source": [
    "We provide 5 shares of a secret with threshold $t=3$. One of them is wrong.\n",
    "Your goal is to find the secret."
   ]
  },
  {
   "cell_type": "markdown",
   "id": "3023758d",
   "metadata": {},
   "source": [
    "Public prime number"
   ]
  },
  {
   "cell_type": "code",
   "execution_count": 12,
   "id": "aeef05f7",
   "metadata": {},
   "outputs": [],
   "source": [
    "p = 23"
   ]
  },
  {
   "cell_type": "code",
   "execution_count": 13,
   "id": "e65b905c",
   "metadata": {},
   "outputs": [],
   "source": [
    "shares = [(1, 19), (2, 17), (3, 4), (4, 9), (5, 14)]"
   ]
  },
  {
   "cell_type": "markdown",
   "id": "514c349c",
   "metadata": {},
   "source": [
    "Find the secret"
   ]
  },
  {
   "cell_type": "code",
   "execution_count": null,
   "id": "087b67ca",
   "metadata": {},
   "outputs": [],
   "source": []
  },
  {
   "cell_type": "markdown",
   "id": "a5f8c973",
   "metadata": {},
   "source": [
    "# Challenge 2. Find the preimage"
   ]
  },
  {
   "cell_type": "markdown",
   "id": "01f47be2",
   "metadata": {},
   "source": [
    "For this challenge use the hash function SHAKE128 with 1 byte of output.\n",
    "Your goal it to find a second preimage for the following input. Measure the time it takes, then increase the output size by one byte and repeat. Plot your measurements in a graph."
   ]
  },
  {
   "cell_type": "code",
   "execution_count": 14,
   "id": "f7910d8c",
   "metadata": {},
   "outputs": [],
   "source": [
    "input_string = b'The frog jumped into the pond'"
   ]
  },
  {
   "cell_type": "code",
   "execution_count": null,
   "id": "cb476246",
   "metadata": {},
   "outputs": [],
   "source": []
  }
 ],
 "metadata": {
  "kernelspec": {
   "display_name": "Python 3 (ipykernel)",
   "language": "python",
   "name": "python3"
  },
  "language_info": {
   "codemirror_mode": {
    "name": "ipython",
    "version": 3
   },
   "file_extension": ".py",
   "mimetype": "text/x-python",
   "name": "python",
   "nbconvert_exporter": "python",
   "pygments_lexer": "ipython3",
   "version": "3.9.7"
  }
 },
 "nbformat": 4,
 "nbformat_minor": 5
}
