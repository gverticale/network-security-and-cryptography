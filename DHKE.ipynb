{
 "cells": [
  {
   "cell_type": "markdown",
   "metadata": {},
   "source": [
    "# Diffie-Hellman Key Exchange"
   ]
  },
  {
   "cell_type": "code",
   "execution_count": null,
   "metadata": {},
   "outputs": [],
   "source": [
    "from cryptography.hazmat.primitives import hashes\n",
    "from cryptography.hazmat.primitives.asymmetric import dh\n",
    "from cryptography.hazmat.primitives.kdf.hkdf import HKDF\n",
    "from cryptography.hazmat.primitives.serialization import (\n",
    "    Encoding, ParameterFormat, PublicFormat,\n",
    "    load_pem_parameters, load_pem_public_key\n",
    ")"
   ]
  },
  {
   "cell_type": "markdown",
   "metadata": {},
   "source": [
    "We play the role of Alice and generate the parameters ($p$, $g$, $q$)"
   ]
  },
  {
   "cell_type": "code",
   "execution_count": null,
   "metadata": {},
   "outputs": [],
   "source": [
    "parameters = dh.generate_parameters(generator=2, key_size=1024)"
   ]
  },
  {
   "cell_type": "markdown",
   "metadata": {},
   "source": [
    "We need to send the parameters to Bob, so we serialize the parameters into a string that can be sent over the Internet.\n",
    "Bob will load the parameters with the command `parameters = load_pem_parameters(b'...string...')`"
   ]
  },
  {
   "cell_type": "code",
   "execution_count": null,
   "metadata": {},
   "outputs": [],
   "source": [
    "# If you are Bob, comment the following line\n",
    "parameters.parameter_bytes(Encoding.PEM,ParameterFormat.PKCS3)\n",
    "\n",
    "# If you are Bob, uncomment the following line and write the DH parameter string that you received from Alice\n",
    "# parameters = load_pem_parameters(b'...parameter string...')"
   ]
  },
  {
   "cell_type": "code",
   "execution_count": null,
   "metadata": {},
   "outputs": [],
   "source": [
    "# Now generate the local keypair\n",
    "local_private_key = parameters.generate_private_key()\n",
    "local_public_key = local_private_key.public_key()"
   ]
  },
  {
   "cell_type": "code",
   "execution_count": null,
   "metadata": {},
   "outputs": [],
   "source": [
    "# We need to send the local public key to the remote host\n",
    "# The remote host will load with the command\n",
    "# remote_public_key = load_pem_public_key(b'...string...')\n",
    "local_public_key.public_bytes(Encoding.PEM,PublicFormat.SubjectPublicKeyInfo)"
   ]
  },
  {
   "cell_type": "code",
   "execution_count": null,
   "metadata": {},
   "outputs": [],
   "source": [
    "# If you have the remote public key, uncomment the following line\n",
    "# remote_public_key = load_pem_public_key(\"...string...\")\n",
    "\n",
    "# If you do not have the remote public key and are just testing, you can generate a test key with the following lines\n",
    "# If you have the remote public key, comment the following lines\n",
    "test_private_key = parameters.generate_private_key()\n",
    "remote_public_key = test_private_key.public_key()"
   ]
  },
  {
   "cell_type": "code",
   "execution_count": null,
   "metadata": {},
   "outputs": [],
   "source": [
    "# This is the shared group element\n",
    "shared_secret = local_private_key.exchange(remote_public_key)"
   ]
  },
  {
   "cell_type": "code",
   "execution_count": null,
   "metadata": {},
   "outputs": [],
   "source": [
    "# You can use derived_key to encrypt a message using any symmetric cipher\n",
    "# If possible prefer an authenticated\n",
    "derived_key = HKDF(\n",
    "    algorithm=hashes.SHA256(),\n",
    "    length=32,\n",
    "    salt=None,\n",
    "    info=b'some shared data',\n",
    ").derive(shared_secret)\n",
    "derived_key"
   ]
  },
  {
   "cell_type": "markdown",
   "metadata": {},
   "source": [
    "## Laboratory"
   ]
  },
  {
   "cell_type": "markdown",
   "metadata": {},
   "source": [
    "Pick a classmate, decide who's Alice and who's Bob. Generate a key and send a message.\n",
    "You can use email or chat to exchange the protocol messages."
   ]
  }
 ],
 "metadata": {
  "kernelspec": {
   "display_name": "Python 3 (ipykernel)",
   "language": "python",
   "name": "python3"
  },
  "language_info": {
   "codemirror_mode": {
    "name": "ipython",
    "version": 3
   },
   "file_extension": ".py",
   "mimetype": "text/x-python",
   "name": "python",
   "nbconvert_exporter": "python",
   "pygments_lexer": "ipython3",
   "version": "3.9.12"
  }
 },
 "nbformat": 4,
 "nbformat_minor": 2
}
