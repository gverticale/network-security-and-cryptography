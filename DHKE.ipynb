{
 "cells": [
  {
   "cell_type": "markdown",
   "metadata": {},
   "source": [
    "# Diffie-Hellman Key Exchange"
   ]
  },
  {
   "cell_type": "code",
   "execution_count": null,
   "metadata": {},
   "outputs": [],
   "source": [
    "from cryptography.hazmat.primitives import hashes\n",
    "from cryptography.hazmat.primitives.asymmetric import dh\n",
    "from cryptography.hazmat.primitives.kdf.hkdf import HKDF\n",
    "from cryptography.hazmat.primitives.serialization import (\n",
    "    Encoding, ParameterFormat, PublicFormat,\n",
    "    load_pem_parameters, load_pem_public_key\n",
    ")"
   ]
  },
  {
   "cell_type": "markdown",
   "metadata": {},
   "source": [
    "We play Alice and generate the parameters ($p$, $g$, $q$)"
   ]
  },
  {
   "cell_type": "code",
   "execution_count": null,
   "metadata": {},
   "outputs": [],
   "source": [
    "parameters = dh.generate_parameters(generator=2, key_size=1024)"
   ]
  },
  {
   "cell_type": "code",
   "execution_count": null,
   "metadata": {},
   "outputs": [],
   "source": [
    "# This is the parameter string to send to Bob \n",
    "# Bob can load with\n",
    "# parameters = load_pem_parameters(\"...string...\")\n",
    "parameters.parameter_bytes(Encoding.PEM,ParameterFormat.PKCS3)"
   ]
  },
  {
   "cell_type": "code",
   "execution_count": null,
   "metadata": {},
   "outputs": [],
   "source": [
    "# Now generate the private key\n",
    "private_key = parameters.generate_private_key()"
   ]
  },
  {
   "cell_type": "code",
   "execution_count": null,
   "metadata": {},
   "outputs": [],
   "source": [
    "# This is the public key to send to Bob \n",
    "# Bob can load with\n",
    "# parameters = load_pem_public_key(\"...string...\")\n",
    "private_key.public_key().public_bytes(Encoding.PEM,PublicFormat.SubjectPublicKeyInfo)"
   ]
  },
  {
   "cell_type": "code",
   "execution_count": null,
   "metadata": {},
   "outputs": [],
   "source": [
    "# Here we should load Bob's public key with\n",
    "# bob_public_key = load_pem_public_key(\"...string...\")\n",
    "# Since we do not have Bob, we generate Bob's key locally\n",
    "bob_private_key = parameters.generate_private_key()\n",
    "bob_public_key = bob_private_key.public_key()"
   ]
  },
  {
   "cell_type": "code",
   "execution_count": null,
   "metadata": {},
   "outputs": [],
   "source": [
    "# This is the shared group element\n",
    "shared_key = private_key.exchange(bob_private_key.public_key())"
   ]
  },
  {
   "cell_type": "code",
   "execution_count": null,
   "metadata": {},
   "outputs": [],
   "source": [
    "# This is the shared key\n",
    "# You can use derived_key to encrypt a message using any symmetric cipher\n",
    "# If possible prefer an authenticated\n",
    "derived_key = HKDF(\n",
    "    algorithm=hashes.SHA256(),\n",
    "    length=32,\n",
    "    salt=None,\n",
    "    info=b'some shared data',\n",
    ").derive(shared_key)\n",
    "derived_key"
   ]
  },
  {
   "cell_type": "markdown",
   "metadata": {},
   "source": [
    "## Laboratory"
   ]
  },
  {
   "cell_type": "markdown",
   "metadata": {},
   "source": [
    "Pick a classmate, decide who's Alice and who's Bob. Generate a key and send a message.\n",
    "You can use email or chat to exchange the protocol messages."
   ]
  }
 ],
 "metadata": {
  "kernelspec": {
   "display_name": "Python 3 (ipykernel)",
   "language": "python",
   "name": "python3"
  },
  "language_info": {
   "codemirror_mode": {
    "name": "ipython",
    "version": 3
   },
   "file_extension": ".py",
   "mimetype": "text/x-python",
   "name": "python",
   "nbconvert_exporter": "python",
   "pygments_lexer": "ipython3",
   "version": "3.8.8"
  }
 },
 "nbformat": 4,
 "nbformat_minor": 2
}
