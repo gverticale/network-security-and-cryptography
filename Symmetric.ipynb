{
 "cells": [
  {
   "cell_type": "markdown",
   "metadata": {},
   "source": [
    "# Some tests with Symmetric Cryptography"
   ]
  },
  {
   "cell_type": "code",
   "execution_count": null,
   "metadata": {},
   "outputs": [],
   "source": [
    "# Some imports\n",
    "from os import urandom\n",
    "from binascii import hexlify\n",
    "import time\n",
    "import collections\n",
    "import numpy as np\n",
    "import matplotlib.pyplot as plt\n",
    "\n",
    "from cryptography.hazmat.primitives.ciphers import Cipher, algorithms, modes\n",
    "from cryptography.hazmat.backends import default_backend"
   ]
  },
  {
   "cell_type": "code",
   "execution_count": null,
   "metadata": {},
   "outputs": [],
   "source": [
    "# We use AES-128\n",
    "# key size is 16 bytes\n",
    "KEYLEN = 16\n",
    "# block size is 16 bytes\n",
    "BLOCKLEN = 16"
   ]
  },
  {
   "cell_type": "markdown",
   "metadata": {},
   "source": [
    "## Example 1\n",
    "We will encrypt a single block of data using AES in ECB mode"
   ]
  },
  {
   "cell_type": "code",
   "execution_count": null,
   "metadata": {},
   "outputs": [],
   "source": [
    "# set plaintext block p to the all-zero string\n",
    "p = b'\\x00'*BLOCKLEN\n",
    "# print as hex string\n",
    "print(\"p = {}\".format(hexlify(p)))"
   ]
  },
  {
   "cell_type": "code",
   "execution_count": null,
   "metadata": {},
   "outputs": [],
   "source": [
    "# pick a random key using Python's crypto PRNG\n",
    "k = urandom(KEYLEN)\n",
    "# print as hex string\n",
    "print(\"k = {}\".format(hexlify(k)))"
   ]
  },
  {
   "cell_type": "code",
   "execution_count": null,
   "metadata": {},
   "outputs": [],
   "source": [
    "# create an instance of AES-128 to encrypt a single block\n",
    "cipher = Cipher(algorithms.AES(k), modes.ECB(), backend = default_backend())"
   ]
  },
  {
   "cell_type": "code",
   "execution_count": null,
   "metadata": {},
   "outputs": [],
   "source": [
    "# encrypt plaintext p to ciphertext c\n",
    "aes_encrypt = cipher.encryptor()\n",
    "c = aes_encrypt.update(p) + aes_encrypt.finalize()\n",
    "print (\"E({},{}) = {}\".format(hexlify(k),hexlify(p), hexlify(c)))"
   ]
  },
  {
   "cell_type": "code",
   "execution_count": null,
   "metadata": {},
   "outputs": [],
   "source": [
    "# decrypt ciphertext c to plaintext p\n",
    "aes_decrypt = cipher.decryptor()\n",
    "p = aes_decrypt.update(c) + aes_decrypt.finalize()\n",
    "print(\"D({},{}) = {}\".format(hexlify(k),hexlify(c), hexlify(p)))"
   ]
  },
  {
   "cell_type": "markdown",
   "metadata": {},
   "source": [
    "## Example 2\n",
    "We encrypt two identical blocks with ECB and see that their encryption is the same"
   ]
  },
  {
   "cell_type": "code",
   "execution_count": null,
   "metadata": {},
   "outputs": [],
   "source": [
    "# a function that pretty prints the plaintext into blocks\n",
    "def blocks(data):\n",
    "    split = [hexlify(data[i:i+BLOCKLEN]) for i in range(0, len(data), BLOCKLEN)]\n",
    "    return b' '.join(split)"
   ]
  },
  {
   "cell_type": "code",
   "execution_count": null,
   "metadata": {},
   "outputs": [],
   "source": [
    "# set plaintext block p to the all-zero string\n",
    "p = b'\\x00'*BLOCKLEN*2\n",
    "print(\"p = {}\".format(hexlify(p)))"
   ]
  },
  {
   "cell_type": "code",
   "execution_count": null,
   "metadata": {},
   "outputs": [],
   "source": [
    "# pick a random key using Python's crypto PRNG\n",
    "k = urandom(KEYLEN)\n",
    "print(\"k = {}\".format(hexlify(k)))"
   ]
  },
  {
   "cell_type": "code",
   "execution_count": null,
   "metadata": {},
   "outputs": [],
   "source": [
    "# create an instance of AES-128 to encrypt and decrypt\n",
    "cipher = Cipher(algorithms.AES(k), modes.ECB(), backend=default_backend())"
   ]
  },
  {
   "cell_type": "code",
   "execution_count": null,
   "metadata": {},
   "outputs": [],
   "source": [
    "# encrypt plaintext p to ciphertext c\n",
    "aes_encrypt = cipher.encryptor()\n",
    "c = aes_encrypt.update(p) + aes_encrypt.finalize()\n",
    "print(\"enc({}) =\\n    {}\".format(blocks(p), blocks(c)))"
   ]
  },
  {
   "cell_type": "markdown",
   "metadata": {},
   "source": [
    "## Example 3\n",
    "We encrypt the Linux mascot with ecb, and see that patterns get through. According to Marsh Ray,\n",
    "> \"ECB cannot be used because you can see the penguin\""
   ]
  },
  {
   "cell_type": "code",
   "execution_count": null,
   "metadata": {},
   "outputs": [],
   "source": [
    "# Load the penguin image\n",
    "tux = plt.imread('tux_gray.png')\n",
    "plt.imshow(tux)\n",
    "plt.show()"
   ]
  },
  {
   "cell_type": "code",
   "execution_count": null,
   "metadata": {},
   "outputs": [],
   "source": [
    "# Keep only luminance and serialize the image\n",
    "# The plaintext is a string of bytes\n",
    "tux = tux[:,:,1] * 255\n",
    "tux = tux.astype(np.uint8)\n",
    "p = tux.tobytes()"
   ]
  },
  {
   "cell_type": "code",
   "execution_count": null,
   "metadata": {},
   "outputs": [],
   "source": [
    "# Generate a key and an instance of AES\n",
    "k = urandom(KEYLEN)\n",
    "cipher = Cipher(algorithms.AES(k), modes.ECB(), backend=default_backend())"
   ]
  },
  {
   "cell_type": "code",
   "execution_count": null,
   "metadata": {},
   "outputs": [],
   "source": [
    "# Encrypt the image\n",
    "aes_encrypt = cipher.encryptor()\n",
    "c = aes_encrypt.update(p) + aes_encrypt.finalize()"
   ]
  },
  {
   "cell_type": "code",
   "execution_count": null,
   "metadata": {},
   "outputs": [],
   "source": [
    "# Reshape the ciphertext into a matrix of bytes \n",
    "# Show the ciphertext\n",
    "encrypted_tux = np.frombuffer(c, dtype = np.uint8).reshape(tux.shape)\n",
    "\n",
    "plt.imshow(encrypted_tux,cmap='gray')\n",
    "plt.show()"
   ]
  },
  {
   "cell_type": "markdown",
   "metadata": {},
   "source": [
    "## Example 4\n",
    "We encrypt the Linux mascot with deterministic CTR, and see that patterns disappear."
   ]
  },
  {
   "cell_type": "code",
   "execution_count": null,
   "metadata": {},
   "outputs": [],
   "source": [
    "# Generate a key and an instance of AES\n",
    "k = urandom(KEYLEN)"
   ]
  },
  {
   "cell_type": "code",
   "execution_count": null,
   "metadata": {},
   "outputs": [],
   "source": [
    "# Generate the starting counter (in deterministic CTR, we start from 0)\n",
    "iv = b'\\x00'*BLOCKLEN"
   ]
  },
  {
   "cell_type": "code",
   "execution_count": null,
   "metadata": {},
   "outputs": [],
   "source": [
    "# Generate an instance of AES with the given key and nonce\n",
    "cipher = Cipher(algorithms.AES(k), modes.CTR(iv), backend=default_backend())"
   ]
  },
  {
   "cell_type": "code",
   "execution_count": null,
   "metadata": {},
   "outputs": [],
   "source": [
    "# Encrypt the image\n",
    "aes_encrypt = cipher.encryptor()\n",
    "c = aes_encrypt.update(p) + aes_encrypt.finalize()"
   ]
  },
  {
   "cell_type": "code",
   "execution_count": null,
   "metadata": {},
   "outputs": [],
   "source": [
    "# Reshape the ciphertext into a matrix of bytes \n",
    "# Show the ciphertext\n",
    "encrypted_tux = np.frombuffer(c, dtype = np.uint8).reshape(tux.shape)\n",
    "\n",
    "plt.imshow(encrypted_tux,cmap='gray')\n",
    "plt.show()"
   ]
  },
  {
   "cell_type": "markdown",
   "metadata": {},
   "source": [
    "## Example 5\n",
    "We generate a new ciphertext with the same key and still use deterministic CTR.\n",
    "We then see that we can then learn about the plaintext "
   ]
  },
  {
   "cell_type": "code",
   "execution_count": null,
   "metadata": {},
   "outputs": [],
   "source": [
    "# Load \"The Black Cat\" by Edgar Allan Poe \n",
    "with open('cat.txt', 'rb') as myfile:\n",
    "    cat=myfile.read()\n",
    "\n",
    "# The file is shorter than the image, so we make it the same size\n",
    "plaintext_cat = 50 * cat\n",
    "plaintext_cat = plaintext_cat[0:len(p)]"
   ]
  },
  {
   "cell_type": "code",
   "execution_count": null,
   "metadata": {},
   "outputs": [],
   "source": [
    "# Encrypt the text with the same key and IV\n",
    "cipher = Cipher(algorithms.AES(k), modes.CTR(iv), backend=default_backend())\n",
    "aes_encrypt = cipher.encryptor()\n",
    "encrypted_cat = aes_encrypt.update(plaintext_cat) + aes_encrypt.finalize()"
   ]
  },
  {
   "cell_type": "code",
   "execution_count": null,
   "metadata": {},
   "outputs": [],
   "source": [
    "# Reshape the encripted poem into a matrix\n",
    "encrypted_cat = np.frombuffer(encrypted_cat, dtype = np.uint8).reshape(tux.shape)"
   ]
  },
  {
   "cell_type": "code",
   "execution_count": null,
   "metadata": {},
   "outputs": [],
   "source": [
    "# Calculate the XOR between the ciphertexts\n",
    "ciphertext_xor = np.bitwise_xor(encrypted_cat, encrypted_tux)\n",
    "\n",
    "plt.imshow(ciphertext_xor,cmap='gray')\n",
    "plt.show()"
   ]
  },
  {
   "cell_type": "markdown",
   "metadata": {},
   "source": [
    "----\n",
    "## Example 6\n",
    "We look at RC4 bias. It is known that the second byte of the keystream is twice more likely to be zero."
   ]
  },
  {
   "cell_type": "code",
   "execution_count": null,
   "metadata": {},
   "outputs": [],
   "source": [
    "# Generate a random plaintext\n",
    "p = urandom(16)"
   ]
  },
  {
   "cell_type": "code",
   "execution_count": null,
   "metadata": {},
   "outputs": [],
   "source": [
    "# Now encrypt the plaintext with several different keys and collect the second byte\n",
    "second_byte_of_c = []\n",
    "for i in range(10000):\n",
    "    # Generate a random key\n",
    "    k = urandom(8)\n",
    "    # Generate an instance of RC4\n",
    "    cipher = Cipher(algorithms.ARC4(k), None, backend=default_backend())\n",
    "    # Perform encryption\n",
    "    rc4_encrypt = cipher.encryptor()\n",
    "    c = rc4_encrypt.update(p) + rc4_encrypt.finalize()\n",
    "    # Save the second byte\n",
    "    second_byte_of_c.append(c[1])"
   ]
  },
  {
   "cell_type": "code",
   "execution_count": null,
   "metadata": {},
   "outputs": [],
   "source": [
    "# Count the number of times each value appears\n",
    "# The most popular value appears almost twice as often as the second one\n",
    "collections.Counter(second_byte_of_c).most_common(5)"
   ]
  },
  {
   "cell_type": "code",
   "execution_count": null,
   "metadata": {},
   "outputs": [],
   "source": [
    "# Compare to the second character in the plaintext \n",
    "p[1]"
   ]
  },
  {
   "cell_type": "markdown",
   "metadata": {},
   "source": [
    "----\n",
    "## Example 7\n",
    "Compare the speed of AES and Chacha20"
   ]
  },
  {
   "cell_type": "code",
   "execution_count": null,
   "metadata": {},
   "outputs": [],
   "source": [
    "# Generate a large plaintext\n",
    "p = urandom(2**22)"
   ]
  },
  {
   "cell_type": "code",
   "execution_count": null,
   "metadata": {},
   "outputs": [],
   "source": [
    "# Instantiate AES with random key and nonce\n",
    "k = urandom(32)\n",
    "nonce = urandom(16)\n",
    "cipher = Cipher(algorithms.AES(k), modes.CTR(nonce), backend=default_backend())\n",
    "aes_encrypt = cipher.encryptor()"
   ]
  },
  {
   "cell_type": "code",
   "execution_count": null,
   "metadata": {},
   "outputs": [],
   "source": [
    "start = time.time()\n",
    "c = aes_encrypt.update(p) + aes_encrypt.finalize()\n",
    "end = time.time()\n",
    "print(end-start)"
   ]
  },
  {
   "cell_type": "code",
   "execution_count": null,
   "metadata": {},
   "outputs": [],
   "source": [
    "# Instantiate Chacha20 with random key and nonce\n",
    "k = urandom(32)\n",
    "nonce = urandom(16)\n",
    "cipher = Cipher(algorithms.ChaCha20(k,nonce), None, backend=default_backend())\n",
    "chacha_encrypt = cipher.encryptor()"
   ]
  },
  {
   "cell_type": "code",
   "execution_count": null,
   "metadata": {},
   "outputs": [],
   "source": [
    "start = time.time()\n",
    "c = chacha_encrypt.update(p) + chacha_encrypt.finalize()\n",
    "end = time.time()\n",
    "print(end-start)"
   ]
  },
  {
   "cell_type": "markdown",
   "metadata": {},
   "source": [
    "-------\n",
    "# Example 8\n",
    "We encrypt the same message with Chacha20 and different nonces and look at the hamming distance.\n",
    "We should see that about half of the bits are ones"
   ]
  },
  {
   "cell_type": "code",
   "execution_count": null,
   "metadata": {},
   "outputs": [],
   "source": [
    "# Generate a random plaintext and key\n",
    "message_size = 2**10\n",
    "p = urandom(message_size)\n",
    "k = urandom(32)"
   ]
  },
  {
   "cell_type": "code",
   "execution_count": null,
   "metadata": {},
   "outputs": [],
   "source": [
    "# Encrypt with first nonce\n",
    "nonce = urandom(16)\n",
    "cipher = Cipher(algorithms.ChaCha20(k,nonce), None, backend=default_backend())\n",
    "chacha_encrypt = cipher.encryptor()\n",
    "c1 = chacha_encrypt.update(p) + chacha_encrypt.finalize()"
   ]
  },
  {
   "cell_type": "code",
   "execution_count": null,
   "metadata": {},
   "outputs": [],
   "source": [
    "# Encrypt with second nonce\n",
    "nonce = urandom(16)\n",
    "cipher = Cipher(algorithms.ChaCha20(k,nonce), None, backend=default_backend())\n",
    "chacha_encrypt = cipher.encryptor()\n",
    "c2 = chacha_encrypt.update(p) + chacha_encrypt.finalize()"
   ]
  },
  {
   "cell_type": "code",
   "execution_count": null,
   "metadata": {},
   "outputs": [],
   "source": [
    "# Find what bits are different in the two encryptions\n",
    "difference = np.bitwise_xor(\n",
    "    np.frombuffer(c1, dtype = np.uint8),\n",
    "    np.frombuffer(c2, dtype = np.uint8)\n",
    ")"
   ]
  },
  {
   "cell_type": "code",
   "execution_count": null,
   "metadata": {},
   "outputs": [],
   "source": [
    "# Count the number of ones\n",
    "ones = ''.join(map(bin,difference)).count('1')"
   ]
  },
  {
   "cell_type": "code",
   "execution_count": null,
   "metadata": {},
   "outputs": [],
   "source": [
    "print(\"Total number of bits is {}, number of ones is {}\".format(message_size*8,ones))"
   ]
  },
  {
   "cell_type": "markdown",
   "metadata": {},
   "source": []
  }
 ],
 "metadata": {
  "kernelspec": {
   "display_name": "Python 3 (ipykernel)",
   "language": "python",
   "name": "python3"
  },
  "language_info": {
   "codemirror_mode": {
    "name": "ipython",
    "version": 3
   },
   "file_extension": ".py",
   "mimetype": "text/x-python",
   "name": "python",
   "nbconvert_exporter": "python",
   "pygments_lexer": "ipython3",
   "version": "3.8.8"
  }
 },
 "nbformat": 4,
 "nbformat_minor": 2
}
