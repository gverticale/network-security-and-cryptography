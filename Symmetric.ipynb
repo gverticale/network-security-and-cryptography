{
 "cells": [
  {
   "cell_type": "markdown",
   "metadata": {},
   "source": [
    "# Some tests with Symmetric Cryptography"
   ]
  },
  {
   "cell_type": "code",
   "execution_count": null,
   "metadata": {},
   "outputs": [],
   "source": [
    "# Some imports\n",
    "from os import urandom\n",
    "from binascii import hexlify\n",
    "import time\n",
    "import collections\n",
    "import numpy as np\n",
    "# import matplotlib.pyplot as plt\n",
    "import requests"
   ]
  },
  {
   "cell_type": "code",
   "execution_count": null,
   "metadata": {},
   "outputs": [],
   "source": [
    "%pip install -q mediapy\n",
    "import mediapy as media"
   ]
  },
  {
   "cell_type": "code",
   "execution_count": null,
   "metadata": {},
   "outputs": [],
   "source": [
    "#if you get an error about of missing package, uncomment the following line\n",
    "%pip install -q cryptography \n",
    "\n",
    "from cryptography.hazmat.primitives.ciphers import Cipher, algorithms, modes\n",
    "from cryptography.exceptions import InvalidTag\n",
    "# from cryptography.hazmat.backends import default_backend"
   ]
  },
  {
   "cell_type": "code",
   "execution_count": null,
   "metadata": {},
   "outputs": [],
   "source": [
    "# We use AES-128\n",
    "# key size is 16 bytes\n",
    "KEYLEN = 16\n",
    "# block size is 16 bytes\n",
    "BLOCKLEN = 16"
   ]
  },
  {
   "cell_type": "markdown",
   "metadata": {},
   "source": [
    "## Example 1\n",
    "We will encrypt a single block of data using AES in ECB mode"
   ]
  },
  {
   "cell_type": "code",
   "execution_count": null,
   "metadata": {},
   "outputs": [],
   "source": [
    "# set plaintext block p to the all-zero string\n",
    "p = b'\\x00'*BLOCKLEN\n",
    "# print as hex string\n",
    "print(\"p = {}\".format(hexlify(p)))"
   ]
  },
  {
   "cell_type": "code",
   "execution_count": null,
   "metadata": {},
   "outputs": [],
   "source": [
    "# pick a random key using Python's crypto PRNG\n",
    "k = urandom(KEYLEN)\n",
    "# print as hex string\n",
    "print(\"k = {}\".format(hexlify(k)))"
   ]
  },
  {
   "cell_type": "code",
   "execution_count": null,
   "metadata": {},
   "outputs": [],
   "source": [
    "# create an instance of AES-128 to encrypt a single block\n",
    "cipher = Cipher(algorithms.AES(k), modes.ECB())"
   ]
  },
  {
   "cell_type": "code",
   "execution_count": null,
   "metadata": {},
   "outputs": [],
   "source": [
    "# encrypt plaintext p to ciphertext c\n",
    "aes_encrypt = cipher.encryptor()\n",
    "c = aes_encrypt.update(p) + aes_encrypt.finalize()\n",
    "print (\"E({},{}) = {}\".format(hexlify(k),hexlify(p), hexlify(c)))"
   ]
  },
  {
   "cell_type": "code",
   "execution_count": null,
   "metadata": {},
   "outputs": [],
   "source": [
    "# decrypt ciphertext c to plaintext p\n",
    "aes_decrypt = cipher.decryptor()\n",
    "p = aes_decrypt.update(c) + aes_decrypt.finalize()\n",
    "print(\"D({},{}) = {}\".format(hexlify(k),hexlify(c), hexlify(p)))"
   ]
  },
  {
   "cell_type": "markdown",
   "metadata": {},
   "source": [
    "## Example 2\n",
    "We encrypt two identical blocks with ECB and see that their encryption is the same"
   ]
  },
  {
   "cell_type": "code",
   "execution_count": null,
   "metadata": {},
   "outputs": [],
   "source": [
    "# a function that pretty prints the plaintext into blocks\n",
    "def blocks(data):\n",
    "    split = [hexlify(data[i:i+BLOCKLEN]) for i in range(0, len(data), BLOCKLEN)]\n",
    "    return b' '.join(split)"
   ]
  },
  {
   "cell_type": "code",
   "execution_count": null,
   "metadata": {},
   "outputs": [],
   "source": [
    "# set plaintext block p to the all-zero string\n",
    "p = b'\\x00'*BLOCKLEN*2\n",
    "print(\"p = {}\".format(blocks(p)))"
   ]
  },
  {
   "cell_type": "code",
   "execution_count": null,
   "metadata": {},
   "outputs": [],
   "source": [
    "# pick a random key using Python's crypto PRNG\n",
    "k = urandom(KEYLEN)\n",
    "print(\"k = {}\".format(hexlify(k)))"
   ]
  },
  {
   "cell_type": "code",
   "execution_count": null,
   "metadata": {},
   "outputs": [],
   "source": [
    "# create an instance of AES-128 to encrypt and decrypt\n",
    "cipher = Cipher(algorithms.AES(k), modes.ECB())"
   ]
  },
  {
   "cell_type": "code",
   "execution_count": null,
   "metadata": {},
   "outputs": [],
   "source": [
    "# encrypt plaintext p to ciphertext c\n",
    "aes_encrypt = cipher.encryptor()\n",
    "c = aes_encrypt.update(p) + aes_encrypt.finalize()\n",
    "print(\"enc({}) =\\n    {}\".format(blocks(p), blocks(c)))"
   ]
  },
  {
   "cell_type": "markdown",
   "metadata": {},
   "source": [
    "## Example 3\n",
    "We encrypt the Linux mascot with ecb, and see that patterns get through. According to Marsh Ray,\n",
    "> \"ECB cannot be used because you can see the penguin\""
   ]
  },
  {
   "cell_type": "code",
   "execution_count": null,
   "metadata": {},
   "outputs": [],
   "source": [
    "# Load the penguin image\n",
    "# Uncomment the following line if you get an error about a missing file\n",
    "#!wget -q https://raw.githubusercontent.com/gverticale/network-security-and-cryptography/master/tux_gray.png\n",
    "tux_png = media.read_image('https://raw.githubusercontent.com/gverticale/network-security-and-cryptography/master/tux_gray.png')\n",
    "\n",
    "media.show_image(tux_png,height=480, title='Tux')"
   ]
  },
  {
   "cell_type": "code",
   "execution_count": null,
   "metadata": {},
   "outputs": [],
   "source": [
    "# Keep only luminance and serialize the image\n",
    "# The plaintext is a string of bytes\n",
    "tux = tux_png[:,:,1] * 255\n",
    "tux = tux.astype(np.uint8)\n",
    "p = tux.tobytes()"
   ]
  },
  {
   "cell_type": "code",
   "execution_count": null,
   "metadata": {},
   "outputs": [],
   "source": [
    "# Generate a key and an instance of AES\n",
    "k = urandom(KEYLEN)\n",
    "cipher = Cipher(algorithms.AES(k), modes.ECB())"
   ]
  },
  {
   "cell_type": "code",
   "execution_count": null,
   "metadata": {},
   "outputs": [],
   "source": [
    "# Encrypt the image\n",
    "aes_encrypt = cipher.encryptor()\n",
    "c = aes_encrypt.update(p) + aes_encrypt.finalize()"
   ]
  },
  {
   "cell_type": "code",
   "execution_count": null,
   "metadata": {},
   "outputs": [],
   "source": [
    "# Reshape the ciphertext into a matrix of bytes \n",
    "# Show the ciphertext\n",
    "encrypted_tux = np.frombuffer(c, dtype = np.uint8).reshape(tux.shape)\n",
    "\n",
    "media.show_image(encrypted_tux,height=480, title='Encrypted Tux')"
   ]
  },
  {
   "cell_type": "markdown",
   "metadata": {},
   "source": [
    "## Example 4\n",
    "We encrypt the Linux mascot with deterministic CTR, and see that patterns disappear."
   ]
  },
  {
   "cell_type": "code",
   "execution_count": null,
   "metadata": {},
   "outputs": [],
   "source": [
    "# Generate a key and an instance of AES\n",
    "k = urandom(KEYLEN)"
   ]
  },
  {
   "cell_type": "code",
   "execution_count": null,
   "metadata": {},
   "outputs": [],
   "source": [
    "# Generate the starting counter (in deterministic CTR, we start from 0)\n",
    "iv = b'\\x00'*BLOCKLEN"
   ]
  },
  {
   "cell_type": "code",
   "execution_count": null,
   "metadata": {},
   "outputs": [],
   "source": [
    "# Generate an instance of AES with the given key and nonce\n",
    "cipher = Cipher(algorithms.AES(k), modes.CTR(iv))"
   ]
  },
  {
   "cell_type": "code",
   "execution_count": null,
   "metadata": {},
   "outputs": [],
   "source": [
    "# Encrypt the image\n",
    "aes_encrypt = cipher.encryptor()\n",
    "c = aes_encrypt.update(p) + aes_encrypt.finalize()"
   ]
  },
  {
   "cell_type": "code",
   "execution_count": null,
   "metadata": {},
   "outputs": [],
   "source": [
    "# Reshape the ciphertext into a matrix of bytes \n",
    "# Show the ciphertext\n",
    "encrypted_tux = np.frombuffer(c, dtype = np.uint8).reshape(tux.shape)\n",
    "\n",
    "media.show_image(encrypted_tux,height=480, title='Encrypted Tux')"
   ]
  },
  {
   "cell_type": "markdown",
   "metadata": {},
   "source": [
    "## Example 5\n",
    "We generate a new ciphertext with the same key and still use deterministic CTR.\n",
    "We then see that we can then learn about the plaintext "
   ]
  },
  {
   "cell_type": "code",
   "execution_count": null,
   "metadata": {},
   "outputs": [],
   "source": [
    "# Load \"The Black Cat\" by Edgar Allan Poe \n",
    "# Uncomment the following line if you get an error about a missing file\n",
    "# !wget -q https://raw.githubusercontent.com/gverticale/network-security-and-cryptography/master/cat.txt\n",
    "\n",
    "catfile = requests.get('https://raw.githubusercontent.com/gverticale/network-security-and-cryptography/master/cat.txt')\n",
    "cat = catfile.content\n",
    "\n",
    "#with open('cat.txt', 'rb') as myfile:\n",
    "#    cat=myfile.read()\n",
    "\n",
    "# The file is shorter than the image, so we make it the same size\n",
    "plaintext_cat = 50 * cat\n",
    "plaintext_cat = plaintext_cat[0:len(p)]"
   ]
  },
  {
   "cell_type": "code",
   "execution_count": null,
   "metadata": {},
   "outputs": [],
   "source": [
    "# Encrypt the text with the same key and IV\n",
    "cipher = Cipher(algorithms.AES(k), modes.CTR(iv))\n",
    "aes_encrypt = cipher.encryptor()\n",
    "encrypted_cat = aes_encrypt.update(plaintext_cat) + aes_encrypt.finalize()"
   ]
  },
  {
   "cell_type": "code",
   "execution_count": null,
   "metadata": {},
   "outputs": [],
   "source": [
    "# Reshape the encrypted poem into a matrix\n",
    "encrypted_cat_rect = np.frombuffer(encrypted_cat, dtype = np.uint8).reshape(tux.shape)"
   ]
  },
  {
   "cell_type": "code",
   "execution_count": null,
   "metadata": {},
   "outputs": [],
   "source": [
    "# Calculate the XOR between the ciphertexts\n",
    "ciphertext_xor = np.bitwise_xor(encrypted_cat_rect, encrypted_tux)\n",
    "\n",
    "media.show_image(ciphertext_xor,height=480, title='Xored Tux')"
   ]
  },
  {
   "cell_type": "markdown",
   "metadata": {},
   "source": [
    "# Example 6"
   ]
  },
  {
   "cell_type": "markdown",
   "metadata": {},
   "source": [
    "Let's use an authenticated cipher: AES-GCM"
   ]
  },
  {
   "cell_type": "code",
   "execution_count": null,
   "metadata": {},
   "outputs": [],
   "source": [
    "# Generate a key and an instance of AES-GCM\n",
    "# The standard requires an 96-bit random IV\n",
    "k = urandom(KEYLEN)\n",
    "iv = urandom(12)\n",
    "cipher = Cipher(algorithms.AES(k), modes.GCM(iv))"
   ]
  },
  {
   "cell_type": "code",
   "execution_count": null,
   "metadata": {},
   "outputs": [],
   "source": [
    "# Encrypt \"The Black Cat\" and authenticate the string \"A poem\"\n",
    "gcm_encrypt = cipher.encryptor()\n",
    "gcm_encrypt.authenticate_additional_data(b\"A poem\")\n",
    "encrypted_cat = gcm_encrypt.update(plaintext_cat) + gcm_encrypt.finalize()\n",
    "tag = gcm_encrypt.tag"
   ]
  },
  {
   "cell_type": "code",
   "execution_count": null,
   "metadata": {},
   "outputs": [],
   "source": [
    "# Now decrypt\n",
    "cipher = Cipher(algorithms.AES(k), modes.GCM(iv,tag))"
   ]
  },
  {
   "cell_type": "code",
   "execution_count": null,
   "metadata": {},
   "outputs": [],
   "source": [
    "gcm_decrypt = cipher.decryptor()\n",
    "gcm_decrypt.authenticate_additional_data(b\"A new poem\")\n",
    "try:\n",
    "    decrypted_cat = gcm_decrypt.update(encrypted_cat) + gcm_decrypt.finalize()\n",
    "    print(decrypted_cat)\n",
    "except InvalidTag:\n",
    "    print(\"Not authentic\")"
   ]
  },
  {
   "cell_type": "markdown",
   "metadata": {},
   "source": [
    "# Lab Activity: randomized CTR"
   ]
  },
  {
   "cell_type": "markdown",
   "metadata": {},
   "source": [
    "1. Encrypt tux with randomized CTR\n",
    "2. Encrypt cat with randomized CTR\n",
    "3. Compute the bitwise xor of the ciphertexts\n",
    "4. Show the result"
   ]
  },
  {
   "cell_type": "markdown",
   "metadata": {},
   "source": [
    "# Lab Activity: Malleability of AES-CTR"
   ]
  },
  {
   "cell_type": "markdown",
   "metadata": {},
   "source": [
    "1. Start from \"THE BLACK CAT\"\n",
    "2. Encrypt it using AES-CTR (use a random IV)\n",
    "3. Using ciphertext malleability change the ciphertext so that the title of the poem becomes \"THE GREEN CAT\"\n",
    "4. Decrypt it showing the modified text\n",
    "5. Repeat using AES-GCM and verify that it fails"
   ]
  },
  {
   "cell_type": "markdown",
   "metadata": {},
   "source": [
    "_Quick note on the python library: the output of the encryption is immutable, you need to convert it to a list to modify it (command `list`) , then you need to convert it back to a bytes object (command `bytes`)_"
   ]
  },
  {
   "cell_type": "code",
   "execution_count": null,
   "metadata": {},
   "outputs": [],
   "source": []
  }
 ],
 "metadata": {
  "kernelspec": {
   "display_name": "Python 3 (ipykernel)",
   "language": "python",
   "name": "python3"
  },
  "language_info": {
   "codemirror_mode": {
    "name": "ipython",
    "version": 3
   },
   "file_extension": ".py",
   "mimetype": "text/x-python",
   "name": "python",
   "nbconvert_exporter": "python",
   "pygments_lexer": "ipython3",
   "version": "3.11.7"
  }
 },
 "nbformat": 4,
 "nbformat_minor": 4
}
