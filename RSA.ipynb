{
 "cells": [
  {
   "cell_type": "markdown",
   "metadata": {},
   "source": [
    "# Playing with RSA"
   ]
  },
  {
   "cell_type": "code",
   "execution_count": 1,
   "metadata": {},
   "outputs": [],
   "source": [
    "import timeit\n",
    "\n",
    "from cryptography.hazmat.backends import default_backend\n",
    "from cryptography.hazmat.primitives.asymmetric import rsa\n",
    "from cryptography.hazmat.primitives import hashes\n",
    "from cryptography.hazmat.primitives.asymmetric import padding"
   ]
  },
  {
   "cell_type": "markdown",
   "metadata": {},
   "source": [
    "## What happens if p and q are too close?"
   ]
  },
  {
   "cell_type": "code",
   "execution_count": 25,
   "metadata": {},
   "outputs": [],
   "source": [
    "# p = next_prime(2^512)\n",
    "p = random_prime(2^512-1, false, 2^511)"
   ]
  },
  {
   "cell_type": "code",
   "execution_count": 26,
   "metadata": {},
   "outputs": [],
   "source": [
    "q=next_prime(p)"
   ]
  },
  {
   "cell_type": "code",
   "execution_count": 27,
   "metadata": {},
   "outputs": [],
   "source": [
    "n_ = p * q"
   ]
  },
  {
   "cell_type": "code",
   "execution_count": 28,
   "metadata": {},
   "outputs": [
    {
     "data": {
      "text/plain": [
       "135979990435737534809509083846264264753591599221670958233617927095019281078990888148663959427709779689624592418929358863145374314063765286226581212382936925718644072219862735591335602999999617081260103331445840777229782074453446469736660940106968419296341186247633656219400407013992646851783311468028524321249"
      ]
     },
     "execution_count": 28,
     "metadata": {},
     "output_type": "execute_result"
    }
   ],
   "source": [
    "# n has 1024 bit\n",
    "n_"
   ]
  },
  {
   "cell_type": "code",
   "execution_count": 29,
   "metadata": {},
   "outputs": [
    {
     "data": {
      "text/plain": [
       "11661045855142562417892522720178811202837980368318732343666226167794440012358778722705099782039549136646098726699208541443668254134946891928076908216764657"
      ]
     },
     "execution_count": 29,
     "metadata": {},
     "output_type": "execute_result"
    }
   ],
   "source": [
    "# We start from the square root and look for the next prime\n",
    "# next_prime(sqrt(n_).n(1000))\n",
    "t = floor(sqrt(n_).n(1000))\n",
    "t"
   ]
  },
  {
   "cell_type": "code",
   "execution_count": 30,
   "metadata": {},
   "outputs": [
    {
     "data": {
      "text/plain": [
       "11661045855142562417892522720178811202837980368318732343666226167794440012358778722705099782039549136646098726699208541443668254134946891928076908216764737"
      ]
     },
     "execution_count": 30,
     "metadata": {},
     "output_type": "execute_result"
    }
   ],
   "source": [
    "next_prime(t)"
   ]
  },
  {
   "cell_type": "code",
   "execution_count": 31,
   "metadata": {},
   "outputs": [
    {
     "data": {
      "text/plain": [
       "11661045855142562417892522720178811202837980368318732343666226167794440012358778722705099782039549136646098726699208541443668254134946891928076908216764737"
      ]
     },
     "execution_count": 31,
     "metadata": {},
     "output_type": "execute_result"
    }
   ],
   "source": [
    "# Compare with q\n",
    "q"
   ]
  },
  {
   "cell_type": "markdown",
   "metadata": {},
   "source": [
    "## How long does it take to generate a key?"
   ]
  },
  {
   "cell_type": "code",
   "execution_count": 33,
   "metadata": {},
   "outputs": [
    {
     "data": {
      "text/plain": [
       "1.9688302399999884"
      ]
     },
     "execution_count": 33,
     "metadata": {},
     "output_type": "execute_result"
    }
   ],
   "source": [
    "def gen():\n",
    "    rsa.generate_private_key(\n",
    "        public_exponent=int(65537),\n",
    "        key_size=1024,\n",
    "        backend=default_backend())\n",
    "    \n",
    "timeit.timeit(gen, number = 100)"
   ]
  },
  {
   "cell_type": "markdown",
   "metadata": {},
   "source": [
    "Homework: measure the key generation time for various key sizes up to 4096 bits. Plot a graph. "
   ]
  },
  {
   "cell_type": "markdown",
   "metadata": {},
   "source": [
    "# What happens if the exponent is too low?"
   ]
  },
  {
   "cell_type": "code",
   "execution_count": 39,
   "metadata": {},
   "outputs": [],
   "source": [
    "private_key = rsa.generate_private_key(\n",
    "    public_exponent=int(3),\n",
    "    key_size=1024,\n",
    "    backend=default_backend()\n",
    ")\n",
    "public_key = private_key.public_key()"
   ]
  },
  {
   "cell_type": "code",
   "execution_count": 40,
   "metadata": {},
   "outputs": [
    {
     "name": "stdout",
     "output_type": "stream",
     "text": [
      "m = 20299, c = 8364190790899\n"
     ]
    }
   ],
   "source": [
    "message = b\"OK\"\n",
    "\n",
    "m = int.from_bytes(message,\"big\")\n",
    "c = power_mod(m,public_key.public_numbers().e,public_key.public_numbers().n)\n",
    "\n",
    "print(\"m = {}, c = {}\".format(m,c))"
   ]
  },
  {
   "cell_type": "code",
   "execution_count": 41,
   "metadata": {},
   "outputs": [
    {
     "data": {
      "text/plain": [
       "20299"
      ]
     },
     "execution_count": 41,
     "metadata": {},
     "output_type": "execute_result"
    }
   ],
   "source": [
    "# Can we find the message?\n",
    "Integer(c).nth_root(3)"
   ]
  },
  {
   "cell_type": "code",
   "execution_count": 45,
   "metadata": {},
   "outputs": [
    {
     "name": "stdout",
     "output_type": "stream",
     "text": [
      "c = 46906882650597165568434018910447187221941711572535893335974523606453645411049438586070914064302447077096600683108543613684561391593032741595654937577091545762999918697740855746072194841811460007402668668249887555366733229201927686995668960978856350652304769980888070317903874230757852929240478333451823575844\n"
     ]
    }
   ],
   "source": [
    "# What happens if we use padding?\n",
    "c = public_key.encrypt(message,\n",
    "    padding.OAEP(mgf=padding.MGF1(algorithm=hashes.SHA256()),\n",
    "    algorithm=hashes.SHA256(),\n",
    "    label=None\n",
    "    ))\n",
    "print(\"c = {:d}\".format(int.from_bytes(c,\"big\")))"
   ]
  },
  {
   "cell_type": "code",
   "execution_count": null,
   "metadata": {},
   "outputs": [],
   "source": []
  }
 ],
 "metadata": {
  "kernelspec": {
   "display_name": "SageMath 9.0",
   "language": "sage",
   "name": "sagemath"
  },
  "language_info": {
   "codemirror_mode": {
    "name": "ipython",
    "version": 3
   },
   "file_extension": ".py",
   "mimetype": "text/x-python",
   "name": "python",
   "nbconvert_exporter": "python",
   "pygments_lexer": "ipython3",
   "version": "3.8.5"
  }
 },
 "nbformat": 4,
 "nbformat_minor": 2
}
