{
 "cells": [
  {
   "cell_type": "code",
   "execution_count": 77,
   "metadata": {},
   "outputs": [],
   "source": [
    "from cryptography.hazmat.backends import default_backend\n",
    "from cryptography.hazmat.primitives import hashes\n",
    "from cryptography.hazmat.primitives.asymmetric import dsa\n",
    "from cryptography.hazmat.primitives.asymmetric import utils #decode_dss_signature"
   ]
  },
  {
   "cell_type": "code",
   "execution_count": 94,
   "metadata": {},
   "outputs": [
    {
     "name": "stdout",
     "output_type": "stream",
     "text": [
      "Private key is: 529814111189773152109951237280833106391989296466\n",
      "Public key is : 44203872830786275297572217417252209521127415736304854796771718720080594846105596852538873891306147255954709002666825366681721897015741781154916099634819738388022243864420688031528864513273751443517842356867372228927533385397393800114799434405300776569742120158140027841712226169240865108626871310506278041102\n"
     ]
    }
   ],
   "source": [
    "private_key = dsa.generate_private_key( key_size=1024, backend=default_backend() )\n",
    "public_key = private_key.public_key()\n",
    "chosen_hash = hashes.SHA1()\n",
    "\n",
    "print(\"Private key is: %d\" % private_key.private_numbers().x)\n",
    "print(\"Public key is : %s\" % public_key.public_numbers().y)"
   ]
  },
  {
   "cell_type": "code",
   "execution_count": 95,
   "metadata": {},
   "outputs": [],
   "source": [
    "# parameters\n",
    "p = private_key.private_numbers().public_numbers.parameter_numbers.p\n",
    "q = private_key.private_numbers().public_numbers.parameter_numbers.q\n",
    "g = private_key.private_numbers().public_numbers.parameter_numbers.g"
   ]
  },
  {
   "cell_type": "code",
   "execution_count": 96,
   "metadata": {},
   "outputs": [
    {
     "data": {
      "text/plain": [
       "0"
      ]
     },
     "execution_count": 96,
     "metadata": {},
     "output_type": "execute_result"
    }
   ],
   "source": [
    "mod(p-1,q)"
   ]
  },
  {
   "cell_type": "code",
   "execution_count": 97,
   "metadata": {},
   "outputs": [],
   "source": [
    "x = private_key.private_numbers().x\n",
    "y = private_key.private_numbers().public_numbers.y"
   ]
  },
  {
   "cell_type": "code",
   "execution_count": 98,
   "metadata": {},
   "outputs": [
    {
     "data": {
      "text/plain": [
       "44203872830786275297572217417252209521127415736304854796771718720080594846105596852538873891306147255954709002666825366681721897015741781154916099634819738388022243864420688031528864513273751443517842356867372228927533385397393800114799434405300776569742120158140027841712226169240865108626871310506278041102"
      ]
     },
     "execution_count": 98,
     "metadata": {},
     "output_type": "execute_result"
    }
   ],
   "source": [
    "power_mod(g,x,p)"
   ]
  },
  {
   "cell_type": "code",
   "execution_count": 99,
   "metadata": {},
   "outputs": [
    {
     "data": {
      "text/plain": [
       "44203872830786275297572217417252209521127415736304854796771718720080594846105596852538873891306147255954709002666825366681721897015741781154916099634819738388022243864420688031528864513273751443517842356867372228927533385397393800114799434405300776569742120158140027841712226169240865108626871310506278041102"
      ]
     },
     "execution_count": 99,
     "metadata": {},
     "output_type": "execute_result"
    }
   ],
   "source": [
    "y"
   ]
  },
  {
   "cell_type": "code",
   "execution_count": 108,
   "metadata": {},
   "outputs": [
    {
     "data": {
      "text/plain": [
       "'302d0215008e04450411f5bb14f7f25a307ce6617e4d0b043602143e67a0b142929b0cc5f7a73e750f5edd19a5daee'"
      ]
     },
     "execution_count": 108,
     "metadata": {},
     "output_type": "execute_result"
    }
   ],
   "source": [
    "message = b'message'\n",
    "#hasher = hashes.Hash(chosen_hash, default_backend())\n",
    "#hasher.update(message)\n",
    "#digest = hasher.finalize()\n",
    "#sig = private_key.sign(digest,utils.Prehashed(chosen_hash))\n",
    "\n",
    "sig = private_key.sign(message,chosen_hash)\n",
    "sig.hex()"
   ]
  },
  {
   "cell_type": "code",
   "execution_count": 109,
   "metadata": {},
   "outputs": [
    {
     "data": {
      "text/plain": [
       "(810771904570510877205024563560624791166338663478,\n",
       " 356268402830744999180249582271873605772473916142)"
      ]
     },
     "execution_count": 109,
     "metadata": {},
     "output_type": "execute_result"
    }
   ],
   "source": [
    "(r,s)=utils.decode_dss_signature(sig)\n",
    "(r,s)"
   ]
  },
  {
   "cell_type": "code",
   "execution_count": 110,
   "metadata": {},
   "outputs": [],
   "source": [
    "hasher = hashes.Hash(chosen_hash, default_backend())\n",
    "hasher.update(message)\n",
    "digest = hasher.finalize()\n",
    "hm = int.from_bytes(digest,\"big\")"
   ]
  },
  {
   "cell_type": "code",
   "execution_count": 111,
   "metadata": {},
   "outputs": [],
   "source": [
    "k = int(mod(\n",
    "    (hm + x*r)*inverse_mod(s,q),\n",
    "    q\n",
    "))"
   ]
  },
  {
   "cell_type": "code",
   "execution_count": 112,
   "metadata": {},
   "outputs": [
    {
     "data": {
      "text/plain": [
       "810771904570510877205024563560624791166338663478"
      ]
     },
     "execution_count": 112,
     "metadata": {},
     "output_type": "execute_result"
    }
   ],
   "source": [
    "mod(power_mod(g,k,p),q)"
   ]
  },
  {
   "cell_type": "code",
   "execution_count": 113,
   "metadata": {},
   "outputs": [
    {
     "data": {
      "text/plain": [
       "810771904570510877205024563560624791166338663478"
      ]
     },
     "execution_count": 113,
     "metadata": {},
     "output_type": "execute_result"
    }
   ],
   "source": [
    "r"
   ]
  },
  {
   "cell_type": "code",
   "execution_count": null,
   "metadata": {},
   "outputs": [],
   "source": []
  }
 ],
 "metadata": {
  "kernelspec": {
   "display_name": "SageMath 9.0",
   "language": "sage",
   "name": "sagemath"
  },
  "language_info": {
   "codemirror_mode": {
    "name": "ipython",
    "version": 3
   },
   "file_extension": ".py",
   "mimetype": "text/x-python",
   "name": "python",
   "nbconvert_exporter": "python",
   "pygments_lexer": "ipython3",
   "version": "3.7.3"
  }
 },
 "nbformat": 4,
 "nbformat_minor": 2
}
