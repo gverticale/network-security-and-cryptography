{
 "cells": [
  {
   "cell_type": "markdown",
   "metadata": {},
   "source": [
    "# Legacy DSA\n",
    "(it is a legacy algorithm because it does not use Elliptic Curves)"
   ]
  },
  {
   "cell_type": "code",
   "execution_count": 133,
   "metadata": {},
   "outputs": [],
   "source": [
    "from sympy.ntheory import isprime\n",
    "\n",
    "from cryptography.hazmat.primitives import hashes\n",
    "from cryptography.hazmat.primitives.asymmetric import dsa\n",
    "from cryptography.hazmat.primitives.asymmetric import utils #decode_dss_signature"
   ]
  },
  {
   "cell_type": "markdown",
   "metadata": {},
   "source": [
    "DSA works over a modular group $Z_p$, with $p$ prime.\n",
    "\n",
    "The private key is $x \\in [0,q)$.\n",
    "\n",
    "The public key is $y = g^x \\mod p$"
   ]
  },
  {
   "cell_type": "code",
   "execution_count": 154,
   "metadata": {},
   "outputs": [
    {
     "name": "stdout",
     "output_type": "stream",
     "text": [
      "Private key is: 961379271991097943513107905027321113521197974689\n",
      "Public key is : 48477392754393955024438228634301590594143208439654261402727738814431244365383291877571586040764824333019609272369268314232735617882729981394183302519262765414636339542136111572084592255503665718126044923788418771871782266374209405133883754338260355467090455976840997696455985413893208152786415108744976526421\n"
     ]
    }
   ],
   "source": [
    "private_key = dsa.generate_private_key( key_size=1024 )\n",
    "public_key = private_key.public_key()\n",
    "chosen_hash = hashes.SHA1()\n",
    "\n",
    "print(\"Private key is: %d\" % private_key.private_numbers().x)\n",
    "print(\"Public key is : %s\" % public_key.public_numbers().y)"
   ]
  },
  {
   "cell_type": "code",
   "execution_count": 155,
   "metadata": {},
   "outputs": [],
   "source": [
    "# parameters\n",
    "# The group is Zp\n",
    "p = private_key.private_numbers().public_numbers.parameter_numbers.p\n",
    "# The order is q\n",
    "q = private_key.private_numbers().public_numbers.parameter_numbers.q\n",
    "# The group generator is g\n",
    "g = private_key.private_numbers().public_numbers.parameter_numbers.g\n",
    "# The private key is x\n",
    "x = private_key.private_numbers().x\n",
    "# The public key is y\n",
    "y = private_key.private_numbers().public_numbers.y"
   ]
  },
  {
   "cell_type": "code",
   "execution_count": 156,
   "metadata": {},
   "outputs": [
    {
     "data": {
      "text/plain": [
       "True"
      ]
     },
     "execution_count": 156,
     "metadata": {},
     "output_type": "execute_result"
    }
   ],
   "source": [
    "# Is q prime?\n",
    "isprime(q)"
   ]
  },
  {
   "cell_type": "code",
   "execution_count": 157,
   "metadata": {},
   "outputs": [
    {
     "data": {
      "text/plain": [
       "0"
      ]
     },
     "execution_count": 157,
     "metadata": {},
     "output_type": "execute_result"
    }
   ],
   "source": [
    "# Does q divide p-1?\n",
    "(p-1) % q"
   ]
  },
  {
   "cell_type": "code",
   "execution_count": 158,
   "metadata": {},
   "outputs": [
    {
     "data": {
      "text/plain": [
       "True"
      ]
     },
     "execution_count": 158,
     "metadata": {},
     "output_type": "execute_result"
    }
   ],
   "source": [
    "# is y = g^x mod p?\n",
    "pow(g,x,p) == y"
   ]
  },
  {
   "cell_type": "markdown",
   "metadata": {},
   "source": [
    "## DSA signature\n",
    "To sign we need a random nonce $k \\in [1,q)$.\n",
    "\n",
    "The signature is the pair $(r,s)$ with\n",
    "$$ r = (g^k \\mod p) \\mod q $$\n",
    "$$ s = (k^{-1} (h(m) + xr) ) \\mod q$$"
   ]
  },
  {
   "cell_type": "code",
   "execution_count": 159,
   "metadata": {},
   "outputs": [
    {
     "data": {
      "text/plain": [
       "'302d021500a5f5b8c0a8947ffa138d628f07e180467ac4d77e021414f5e089dd521b0a171e07e6c412f52aadc6dc9b'"
      ]
     },
     "execution_count": 159,
     "metadata": {},
     "output_type": "execute_result"
    }
   ],
   "source": [
    "message = b'message'\n",
    "sig = private_key.sign(message,chosen_hash)\n",
    "\n",
    "# print the signature as hex\n",
    "sig.hex()"
   ]
  },
  {
   "cell_type": "code",
   "execution_count": 160,
   "metadata": {},
   "outputs": [
    {
     "data": {
      "text/plain": [
       "(947463253978480775779753407201527889614952781694,\n",
       " 119663058055035479453519114597518445521616166043)"
      ]
     },
     "execution_count": 160,
     "metadata": {},
     "output_type": "execute_result"
    }
   ],
   "source": [
    "(r,s)=utils.decode_dss_signature(sig)\n",
    "(r,s)"
   ]
  },
  {
   "cell_type": "markdown",
   "metadata": {},
   "source": [
    "## Can we verify the signature?\n",
    "\n",
    "We need\n",
    "$$ u_1 = h(m) s^{-1} \\mod q $$\n",
    "$$ u_2 = r s^{-1} \\mod q $$\n",
    "The signature is verified if\n",
    "$$ (g^{u_1}y^{u_2} \\mod p) \\mod q= r $$"
   ]
  },
  {
   "cell_type": "code",
   "execution_count": 161,
   "metadata": {},
   "outputs": [],
   "source": [
    "hasher = hashes.Hash(chosen_hash)\n",
    "hasher.update(message)\n",
    "digest = hasher.finalize()\n",
    "hm = int.from_bytes(digest,\"big\")"
   ]
  },
  {
   "cell_type": "code",
   "execution_count": 166,
   "metadata": {},
   "outputs": [
    {
     "data": {
      "text/plain": [
       "947463253978480775779753407201527889614952781694"
      ]
     },
     "execution_count": 166,
     "metadata": {},
     "output_type": "execute_result"
    }
   ],
   "source": [
    "u1 = (hm*pow(s,-1,q)) % q\n",
    "u2 = (r*pow(s,-1,q)) % q\n",
    "( (pow(g,u1,p)*pow(y,u2,p)) % p)  % q"
   ]
  },
  {
   "cell_type": "code",
   "execution_count": 163,
   "metadata": {},
   "outputs": [
    {
     "data": {
      "text/plain": [
       "947463253978480775779753407201527889614952781694"
      ]
     },
     "execution_count": 163,
     "metadata": {},
     "output_type": "execute_result"
    }
   ],
   "source": [
    "r"
   ]
  },
  {
   "cell_type": "code",
   "execution_count": 168,
   "metadata": {},
   "outputs": [
    {
     "name": "stdout",
     "output_type": "stream",
     "text": [
      "OK\n"
     ]
    }
   ],
   "source": [
    "# Now we use the library function for signature verification\n",
    "try:\n",
    "    public_key.verify(sig,message,chosen_hash)\n",
    "    print(\"OK\")\n",
    "except:\n",
    "    print(\"KO\")"
   ]
  },
  {
   "cell_type": "code",
   "execution_count": null,
   "metadata": {},
   "outputs": [],
   "source": []
  }
 ],
 "metadata": {
  "kernelspec": {
   "display_name": "Python 3 (ipykernel)",
   "language": "python",
   "name": "python3"
  },
  "language_info": {
   "codemirror_mode": {
    "name": "ipython",
    "version": 3
   },
   "file_extension": ".py",
   "mimetype": "text/x-python",
   "name": "python",
   "nbconvert_exporter": "python",
   "pygments_lexer": "ipython3",
   "version": "3.8.8"
  }
 },
 "nbformat": 4,
 "nbformat_minor": 2
}
