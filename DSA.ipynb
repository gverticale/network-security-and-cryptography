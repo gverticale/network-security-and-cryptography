{
 "cells": [
  {
   "cell_type": "code",
   "execution_count": 1,
   "metadata": {},
   "outputs": [],
   "source": [
    "from cryptography.hazmat.backends import default_backend\n",
    "from cryptography.hazmat.primitives import hashes\n",
    "from cryptography.hazmat.primitives.asymmetric import dsa\n",
    "from cryptography.hazmat.primitives.asymmetric import utils #decode_dss_signature"
   ]
  },
  {
   "cell_type": "code",
   "execution_count": 2,
   "metadata": {},
   "outputs": [
    {
     "name": "stdout",
     "output_type": "stream",
     "text": [
      "Private key is: 1165083102097987642338446129860947698390673146197\n",
      "Public key is : 13492097535588550827986235385688428879270656298794018446238415948277791854325833054631136548403994125538635778347811293385627681976727450683839276308135706379428359571770777927089270985313365624073696273754514646311137353345485262281816874899864969313599788539700189403851924070473277335605497688721504231192\n"
     ]
    }
   ],
   "source": [
    "private_key = dsa.generate_private_key( key_size=1024, backend=default_backend() )\n",
    "public_key = private_key.public_key()\n",
    "chosen_hash = hashes.SHA1()\n",
    "\n",
    "print(\"Private key is: %d\" % private_key.private_numbers().x)\n",
    "print(\"Public key is : %s\" % public_key.public_numbers().y)"
   ]
  },
  {
   "cell_type": "code",
   "execution_count": 3,
   "metadata": {},
   "outputs": [],
   "source": [
    "# parameters\n",
    "p = private_key.private_numbers().public_numbers.parameter_numbers.p\n",
    "q = private_key.private_numbers().public_numbers.parameter_numbers.q\n",
    "g = private_key.private_numbers().public_numbers.parameter_numbers.g"
   ]
  },
  {
   "cell_type": "code",
   "execution_count": 4,
   "metadata": {},
   "outputs": [
    {
     "data": {
      "text/plain": [
       "0"
      ]
     },
     "execution_count": 4,
     "metadata": {},
     "output_type": "execute_result"
    }
   ],
   "source": [
    "mod(p-1,q)"
   ]
  },
  {
   "cell_type": "code",
   "execution_count": 5,
   "metadata": {},
   "outputs": [],
   "source": [
    "x = private_key.private_numbers().x\n",
    "y = private_key.private_numbers().public_numbers.y"
   ]
  },
  {
   "cell_type": "code",
   "execution_count": 6,
   "metadata": {},
   "outputs": [
    {
     "data": {
      "text/plain": [
       "13492097535588550827986235385688428879270656298794018446238415948277791854325833054631136548403994125538635778347811293385627681976727450683839276308135706379428359571770777927089270985313365624073696273754514646311137353345485262281816874899864969313599788539700189403851924070473277335605497688721504231192"
      ]
     },
     "execution_count": 6,
     "metadata": {},
     "output_type": "execute_result"
    }
   ],
   "source": [
    "power_mod(g,x,p)"
   ]
  },
  {
   "cell_type": "code",
   "execution_count": 7,
   "metadata": {},
   "outputs": [
    {
     "data": {
      "text/plain": [
       "13492097535588550827986235385688428879270656298794018446238415948277791854325833054631136548403994125538635778347811293385627681976727450683839276308135706379428359571770777927089270985313365624073696273754514646311137353345485262281816874899864969313599788539700189403851924070473277335605497688721504231192"
      ]
     },
     "execution_count": 7,
     "metadata": {},
     "output_type": "execute_result"
    }
   ],
   "source": [
    "y"
   ]
  },
  {
   "cell_type": "code",
   "execution_count": 8,
   "metadata": {},
   "outputs": [
    {
     "data": {
      "text/plain": [
       "'302d02150083f79ecd8cf2fa81988a6b15f00ca5a451d2b8670214532cb129a5b242fb0080d1e2fc3a60a7dd4cd903'"
      ]
     },
     "execution_count": 8,
     "metadata": {},
     "output_type": "execute_result"
    }
   ],
   "source": [
    "message = b'message'\n",
    "#hasher = hashes.Hash(chosen_hash, default_backend())\n",
    "#hasher.update(message)\n",
    "#digest = hasher.finalize()\n",
    "#sig = private_key.sign(digest,utils.Prehashed(chosen_hash))\n",
    "\n",
    "sig = private_key.sign(message,chosen_hash)\n",
    "sig.hex()"
   ]
  },
  {
   "cell_type": "code",
   "execution_count": 9,
   "metadata": {},
   "outputs": [
    {
     "data": {
      "text/plain": [
       "(753399908728376014621552933676982369626751154279,\n",
       " 474842899813549199922500651994047774428870007043)"
      ]
     },
     "execution_count": 9,
     "metadata": {},
     "output_type": "execute_result"
    }
   ],
   "source": [
    "(r,s)=utils.decode_dss_signature(sig)\n",
    "(r,s)"
   ]
  },
  {
   "cell_type": "code",
   "execution_count": 10,
   "metadata": {},
   "outputs": [],
   "source": [
    "hasher = hashes.Hash(chosen_hash, default_backend())\n",
    "hasher.update(message)\n",
    "digest = hasher.finalize()\n",
    "hm = int.from_bytes(digest,\"big\")"
   ]
  },
  {
   "cell_type": "code",
   "execution_count": 11,
   "metadata": {},
   "outputs": [],
   "source": [
    "k = int(mod(\n",
    "    (hm + x*r)*inverse_mod(s,q),\n",
    "    q\n",
    "))"
   ]
  },
  {
   "cell_type": "code",
   "execution_count": 12,
   "metadata": {},
   "outputs": [
    {
     "data": {
      "text/plain": [
       "753399908728376014621552933676982369626751154279"
      ]
     },
     "execution_count": 12,
     "metadata": {},
     "output_type": "execute_result"
    }
   ],
   "source": [
    "mod(power_mod(g,k,p),q)"
   ]
  },
  {
   "cell_type": "code",
   "execution_count": 13,
   "metadata": {},
   "outputs": [
    {
     "data": {
      "text/plain": [
       "753399908728376014621552933676982369626751154279"
      ]
     },
     "execution_count": 13,
     "metadata": {},
     "output_type": "execute_result"
    }
   ],
   "source": [
    "r"
   ]
  },
  {
   "cell_type": "code",
   "execution_count": 20,
   "metadata": {},
   "outputs": [
    {
     "name": "stdout",
     "output_type": "stream",
     "text": [
      "Verified\n"
     ]
    }
   ],
   "source": [
    "try:\n",
    "    public_key.verify(sig,message,chosen_hash)\n",
    "    print(\"Verified\")\n",
    "except:\n",
    "    print(\"Not Verified\")"
   ]
  },
  {
   "cell_type": "code",
   "execution_count": null,
   "metadata": {},
   "outputs": [],
   "source": []
  }
 ],
 "metadata": {
  "kernelspec": {
   "display_name": "SageMath 9.0",
   "language": "sage",
   "name": "sagemath"
  },
  "language_info": {
   "codemirror_mode": {
    "name": "ipython",
    "version": 3
   },
   "file_extension": ".py",
   "mimetype": "text/x-python",
   "name": "python",
   "nbconvert_exporter": "python",
   "pygments_lexer": "ipython3",
   "version": "3.8.5"
  }
 },
 "nbformat": 4,
 "nbformat_minor": 2
}
