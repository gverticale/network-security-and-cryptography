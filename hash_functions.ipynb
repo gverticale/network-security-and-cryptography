{
 "cells": [
  {
   "cell_type": "code",
   "execution_count": 1,
   "metadata": {
    "collapsed": true,
    "deletable": true,
    "editable": true
   },
   "outputs": [],
   "source": [
    "from binascii import hexlify\n",
    "import hashlib\n",
    "import random"
   ]
  },
  {
   "cell_type": "code",
   "execution_count": 2,
   "metadata": {
    "collapsed": true,
    "deletable": true,
    "editable": true
   },
   "outputs": [],
   "source": [
    "hash_func = hashlib.sha224"
   ]
  },
  {
   "cell_type": "code",
   "execution_count": 3,
   "metadata": {
    "collapsed": false,
    "deletable": true,
    "editable": true
   },
   "outputs": [
    {
     "name": "stdout",
     "output_type": "stream",
     "text": [
      "a7d719e1268444c7f6fae4d48645b422a492f6f8e46b667a6b3b6464\n"
     ]
    }
   ],
   "source": [
    "x = b\"test message\"\n",
    "y = hash_func(x)\n",
    "print(y.hexdigest() )"
   ]
  },
  {
   "cell_type": "code",
   "execution_count": 4,
   "metadata": {
    "collapsed": false,
    "deletable": true,
    "editable": true
   },
   "outputs": [],
   "source": [
    "# generate a random string of n bytes\n",
    "def random_bytes(n):\n",
    "    return bytearray(random.getrandbits(8) for i in range(n))"
   ]
  },
  {
   "cell_type": "code",
   "execution_count": 5,
   "metadata": {
    "collapsed": false,
    "deletable": true,
    "editable": true
   },
   "outputs": [],
   "source": [
    "# calculate a truncated hash to n bytes\n",
    "def truncated_hash(n,x):\n",
    "    y = hash_func(x)\n",
    "    return y.digest()[0:n]"
   ]
  },
  {
   "cell_type": "code",
   "execution_count": 6,
   "metadata": {
    "collapsed": false,
    "deletable": true,
    "editable": true
   },
   "outputs": [],
   "source": [
    "# find preimage of truncated hash using brute force\n",
    "def find_preimage(attempts,y):\n",
    "    hash_len = len(y)\n",
    "    for i in range(attempts):\n",
    "        x = random_bytes(64)\n",
    "        if y == truncated_hash(hash_len,x):\n",
    "            return x\n",
    "    return None"
   ]
  },
  {
   "cell_type": "code",
   "execution_count": 21,
   "metadata": {
    "collapsed": true,
    "deletable": true,
    "editable": true
   },
   "outputs": [],
   "source": [
    "def probability_finding_preimage(attempts,y):\n",
    "    trials = 1000\n",
    "    success = 0\n",
    "    for i in range(trials):\n",
    "        if ( find_preimage(attempts,y) is not None ):\n",
    "            success = success + 1\n",
    "    return success/trials"
   ]
  },
  {
   "cell_type": "code",
   "execution_count": 23,
   "metadata": {
    "collapsed": false,
    "deletable": true,
    "editable": true
   },
   "outputs": [
    {
     "name": "stdout",
     "output_type": "stream",
     "text": [
      "('theory: ', 0.323883534890453)\n",
      "('measured: ', 0.322000000000000)\n"
     ]
    }
   ],
   "source": [
    "attempts = 100\n",
    "preimage = b\"a\"\n",
    "print (\"theory: \", n(1-pow( 1-1/pow(2,8*len(preimage)), attempts)) )\n",
    "# print (\"theory: \", attempts/pow(2,8*len(preimage)))\n",
    "print (\"measured: \",n(probability_finding_preimage(attempts,preimage)) )"
   ]
  },
  {
   "cell_type": "code",
   "execution_count": 9,
   "metadata": {
    "collapsed": true,
    "deletable": true,
    "editable": true
   },
   "outputs": [],
   "source": [
    "def find_collision(attempts,hash_len):\n",
    "    dictionary = {}\n",
    "    for i in range(attempts):\n",
    "        x = random_bytes(64)\n",
    "        y = truncated_hash(hash_len,x)\n",
    "        if y in dictionary:\n",
    "            return (dictionary[y],x)\n",
    "        else:\n",
    "            dictionary[y]=x\n",
    "    return None"
   ]
  },
  {
   "cell_type": "code",
   "execution_count": 10,
   "metadata": {
    "collapsed": false,
    "deletable": true,
    "editable": true
   },
   "outputs": [],
   "source": [
    "def probability_finding_collision(attempts,hash_len):\n",
    "    trials = 1000\n",
    "    success = 0\n",
    "    for i in range(trials):\n",
    "        if ( find_collision(attempts,hash_len) is not None ):\n",
    "            success = success + 1\n",
    "    return success/trials"
   ]
  },
  {
   "cell_type": "code",
   "execution_count": 34,
   "metadata": {
    "collapsed": false,
    "deletable": true,
    "editable": true
   },
   "outputs": [
    {
     "name": "stdout",
     "output_type": "stream",
     "text": [
      "('theory: ', 0.161198548913017)\n",
      "('measured: ', 0.160000000000000)\n"
     ]
    }
   ],
   "source": [
    "attempts = 10\n",
    "hash_len = 1\n",
    "print (\"theory: \", n(1-exp( -(attempts*(attempts-1)/pow(2,8*hash_len+1)  )) ))\n",
    "#print (\"theory: \", n(attempts*attempts/pow(2,8*hash_len+1)))\n",
    "print (\"measured: \",n(probability_finding_collision(attempts,hash_len)) )"
   ]
  },
  {
   "cell_type": "code",
   "execution_count": null,
   "metadata": {
    "collapsed": true,
    "deletable": true,
    "editable": true
   },
   "outputs": [],
   "source": []
  }
 ],
 "metadata": {
  "anaconda-cloud": {},
  "kernelspec": {
   "display_name": "SageMath 8.0",
   "language": "",
   "name": "sagemath"
  },
  "language_info": {
   "codemirror_mode": {
    "name": "ipython",
    "version": 2
   },
   "file_extension": ".py",
   "mimetype": "text/x-python",
   "name": "python",
   "nbconvert_exporter": "python",
   "pygments_lexer": "ipython2",
   "version": "2.7.13"
  }
 },
 "nbformat": 4,
 "nbformat_minor": 2
}
