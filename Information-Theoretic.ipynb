{
 "cells": [
  {
   "cell_type": "raw",
   "metadata": {
    "collapsed": false,
    "deletable": true,
    "editable": true
   },
   "source": [
    "%%latex\n",
    "This is the code for example 1 in the material"
   ]
  },
  {
   "cell_type": "raw",
   "metadata": {
    "collapsed": true,
    "deletable": true,
    "editable": true
   },
   "source": [
    "import random\n",
    "import numpy"
   ]
  },
  {
   "cell_type": "raw",
   "metadata": {
    "collapsed": true,
    "deletable": true,
    "editable": true
   },
   "source": [
    "# generate random one letter messages\n",
    "def message1():\n",
    "    if random.random()<=0.7:\n",
    "        return 'A'\n",
    "    else:\n",
    "        return 'Z'"
   ]
  },
  {
   "cell_type": "raw",
   "metadata": {
    "collapsed": true,
    "deletable": true,
    "editable": true
   },
   "source": [
    "def entropy_of_list(l):\n",
    "    histogram = {x:(l.count(x)+0.0)/len(l) for x in l}\n",
    "    return sum([-x*log(x,2) for x in histogram.values()])"
   ]
  },
  {
   "cell_type": "raw",
   "metadata": {
    "collapsed": false,
    "deletable": true,
    "editable": true
   },
   "source": [
    "# generate random messages \n",
    "m = [message1() for i in range(1000)]\n",
    "\n",
    "# print empirical entropy of the message source\n",
    "print \"Empirical Entropy of source is:\", entropy_of_list(m)"
   ]
  },
  {
   "cell_type": "raw",
   "metadata": {
    "collapsed": false,
    "deletable": true,
    "editable": true
   },
   "source": [
    "# Instantiate a shift cipher\n",
    "S = ShiftCryptosystem(AlphabeticStrings());\n",
    "\n",
    "# Instantiate a random key generator\n",
    "def keygen():\n",
    "    return Zmod(26).random_element()\n",
    "\n",
    "# Encrypt each message with a random key\n",
    "c=[S.enciphering(int(keygen()),S.encoding(x)) for x in m]\n",
    "\n",
    "print \"Empirical Entropy of ciphertext is:\", entropy_of_list(c)"
   ]
  },
  {
   "cell_type": "raw",
   "metadata": {
    "collapsed": false,
    "deletable": true,
    "editable": true
   },
   "source": [
    "%%latex\n",
    "This is the code for example 2 in the material"
   ]
  },
  {
   "cell_type": "raw",
   "metadata": {
    "collapsed": false,
    "deletable": true,
    "editable": true
   },
   "source": [
    "# generate random three letter messages\n",
    "def message2():\n",
    "    r = random.random() \n",
    "    if r <= 0.5:\n",
    "        return 'KIM'\n",
    "    if r <= 0.7:\n",
    "        return 'ANN'\n",
    "    else:\n",
    "        return 'BOO'"
   ]
  },
  {
   "cell_type": "raw",
   "metadata": {
    "collapsed": false,
    "deletable": true,
    "editable": true
   },
   "source": [
    "# generate random messages \n",
    "m = [message2() for i in range(1000)]\n",
    "\n",
    "# print empirical entropy of the message source\n",
    "print \"Empirical Entropy of source is:\", entropy_of_list(m)"
   ]
  },
  {
   "cell_type": "raw",
   "metadata": {
    "collapsed": false,
    "deletable": true,
    "editable": true
   },
   "source": [
    "# Encrypt each message with a random key\n",
    "c=[S.enciphering(int(keygen()),S.encoding(x)) for x in m]\n",
    "\n",
    "print \"Empirical Entropy of ciphertext is:\", entropy_of_list(c)"
   ]
  },
  {
   "cell_type": "raw",
   "metadata": {
    "collapsed": false,
    "deletable": true,
    "editable": true
   },
   "source": []
  }
 ],
 "metadata": {
  "kernelspec": {
   "display_name": "SageMath 8.0",
   "language": "",
   "name": "sagemath"
  },
  "language_info": {
   "codemirror_mode": {
    "name": "ipython",
    "version": 2
   },
   "file_extension": ".py",
   "mimetype": "text/x-python",
   "name": "python",
   "nbconvert_exporter": "python",
   "pygments_lexer": "ipython2",
   "version": "2.7.13"
  }
 },
 "nbformat": 4,
 "nbformat_minor": 2
}
