{
 "cells": [
  {
   "cell_type": "markdown",
   "metadata": {},
   "source": [
    "# Secret Sharing"
   ]
  },
  {
   "cell_type": "code",
   "execution_count": null,
   "metadata": {},
   "outputs": [],
   "source": [
    "# Uncomment and execute the last line\n",
    "# if the pycryptodomex package is missing \n",
    "# !pip install pycryptodomex"
   ]
  },
  {
   "cell_type": "code",
   "execution_count": null,
   "metadata": {},
   "outputs": [],
   "source": [
    "from binascii import hexlify, unhexlify\n",
    "from Cryptodome.Random import get_random_bytes\n",
    "from Cryptodome.Protocol.SecretSharing import Shamir"
   ]
  },
  {
   "cell_type": "markdown",
   "metadata": {},
   "source": [
    "The Shamir scheme can be implemented over the Galois Field $GF(2^{128})$"
   ]
  },
  {
   "cell_type": "code",
   "execution_count": null,
   "metadata": {},
   "outputs": [],
   "source": [
    "# Generate a random secret\n",
    "secret = get_random_bytes(16)\n",
    "hexlify(secret)"
   ]
  },
  {
   "cell_type": "code",
   "execution_count": null,
   "metadata": {},
   "outputs": [],
   "source": [
    "# Now split the shares\n",
    "t = 2\n",
    "w = 5\n",
    "shares = Shamir.split(t, w, secret)"
   ]
  },
  {
   "cell_type": "code",
   "execution_count": null,
   "metadata": {
    "scrolled": true
   },
   "outputs": [],
   "source": [
    "# Now print the shares\n",
    "for idx, share in shares:\n",
    "    print(\"x = %d, y = %s\" % (idx, hexlify(share)) )"
   ]
  },
  {
   "cell_type": "code",
   "execution_count": null,
   "metadata": {},
   "outputs": [],
   "source": [
    "# Pick two shares (e.g. 2 and 4)\n",
    "available = [ shares[1], shares[3] ]\n",
    "hexlify( Shamir.combine(available) )"
   ]
  },
  {
   "cell_type": "code",
   "execution_count": null,
   "metadata": {},
   "outputs": [],
   "source": [
    "# if we use only one share\n",
    "available = [ shares[1] ]\n",
    "hexlify( Shamir.combine(available) )"
   ]
  },
  {
   "cell_type": "markdown",
   "metadata": {},
   "source": [
    "# Lab work\n",
    "\n",
    "We have the following shares with $t = 2$.\n",
    "Are there any wrong shares? Which ones?"
   ]
  },
  {
   "cell_type": "code",
   "execution_count": null,
   "metadata": {},
   "outputs": [],
   "source": [
    "hexshares = [(1, b'ce9e5ad55b4c7d13389238afee6d1911'),\n",
    " (2, b'0563b1a58880f544769690f3d6ab1757'),\n",
    " (3, b'43c8e88a39c48d76b36af7383ee91295'),\n",
    " (4, b'929867442f19efeaea9fc04ba7270b5c'),\n",
    " (5, b'd4333e6b9e5d9dd82f63a7804f650e9e')]"
   ]
  },
  {
   "cell_type": "code",
   "execution_count": null,
   "metadata": {},
   "outputs": [],
   "source": [
    "shares = [(x,unhexlify(y)) for x,y in hexshares]"
   ]
  },
  {
   "cell_type": "code",
   "execution_count": null,
   "metadata": {},
   "outputs": [],
   "source": []
  }
 ],
 "metadata": {
  "kernelspec": {
   "display_name": "Python 3 (ipykernel)",
   "language": "python",
   "name": "python3"
  },
  "language_info": {
   "codemirror_mode": {
    "name": "ipython",
    "version": 3
   },
   "file_extension": ".py",
   "mimetype": "text/x-python",
   "name": "python",
   "nbconvert_exporter": "python",
   "pygments_lexer": "ipython3",
   "version": "3.8.8"
  }
 },
 "nbformat": 4,
 "nbformat_minor": 2
}
